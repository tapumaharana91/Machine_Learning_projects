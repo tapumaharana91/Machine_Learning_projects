{
 "cells": [
  {
   "cell_type": "markdown",
   "id": "8vJdjaxP-Gbd",
   "metadata": {
    "id": "8vJdjaxP-Gbd"
   },
   "source": [
    "# Customer Churn Prediction\n",
    "\n",
    "The Customer Churn table contains information on all 7,043 customers from a Telecommunications company in California in Q2 2022\n",
    "\n",
    "\n",
    "Each record represents one customer, and contains details about their demographics, location, tenure, subscription services, status for the quarter (joined, stayed, or churned), and more!\n",
    "\n",
    "The Zip Code Population table contains complimentary information on the estimated populations for the California zip codes in the Customer Churn table"
   ]
  },
  {
   "cell_type": "markdown",
   "id": "gNIM1vZE-YW5",
   "metadata": {
    "id": "gNIM1vZE-YW5"
   },
   "source": [
    "Importing necessary files"
   ]
  },
  {
   "cell_type": "code",
   "execution_count": 1,
   "id": "4cb4af63",
   "metadata": {
    "execution": {
     "iopub.execute_input": "2022-10-14T19:27:23.253267Z",
     "iopub.status.busy": "2022-10-14T19:27:23.252325Z",
     "iopub.status.idle": "2022-10-14T19:27:25.759109Z",
     "shell.execute_reply": "2022-10-14T19:27:25.758166Z"
    },
    "id": "4cb4af63",
    "papermill": {
     "duration": 2.529653,
     "end_time": "2022-10-14T19:27:25.761969",
     "exception": false,
     "start_time": "2022-10-14T19:27:23.232316",
     "status": "completed"
    },
    "tags": []
   },
   "outputs": [],
   "source": [
    "import numpy as np\n",
    "import pandas as pd"
   ]
  },
  {
   "cell_type": "code",
   "execution_count": 2,
   "id": "b199eff7",
   "metadata": {
    "execution": {
     "iopub.execute_input": "2022-10-14T19:27:25.797197Z",
     "iopub.status.busy": "2022-10-14T19:27:25.796517Z",
     "iopub.status.idle": "2022-10-14T19:27:25.898493Z",
     "shell.execute_reply": "2022-10-14T19:27:25.897627Z"
    },
    "id": "b199eff7",
    "papermill": {
     "duration": 0.121309,
     "end_time": "2022-10-14T19:27:25.900901",
     "exception": false,
     "start_time": "2022-10-14T19:27:25.779592",
     "status": "completed"
    },
    "tags": []
   },
   "outputs": [],
   "source": [
    "df=pd.read_csv('C://Users//ASUS//Downloads//My Projects//Machine Learning Projects//Customer Churn Prediction//telecom_customer_churn.csv')"
   ]
  },
  {
   "cell_type": "code",
   "execution_count": 3,
   "id": "e0d91ef1",
   "metadata": {
    "colab": {
     "base_uri": "https://localhost:8080/",
     "height": 456
    },
    "execution": {
     "iopub.execute_input": "2022-10-14T19:27:25.934303Z",
     "iopub.status.busy": "2022-10-14T19:27:25.933887Z",
     "iopub.status.idle": "2022-10-14T19:27:25.972119Z",
     "shell.execute_reply": "2022-10-14T19:27:25.971117Z"
    },
    "id": "e0d91ef1",
    "outputId": "35bc57ac-2222-4655-b39d-b82b89c05780",
    "papermill": {
     "duration": 0.057997,
     "end_time": "2022-10-14T19:27:25.974680",
     "exception": false,
     "start_time": "2022-10-14T19:27:25.916683",
     "status": "completed"
    },
    "tags": []
   },
   "outputs": [
    {
     "data": {
      "text/html": [
       "<div>\n",
       "<style scoped>\n",
       "    .dataframe tbody tr th:only-of-type {\n",
       "        vertical-align: middle;\n",
       "    }\n",
       "\n",
       "    .dataframe tbody tr th {\n",
       "        vertical-align: top;\n",
       "    }\n",
       "\n",
       "    .dataframe thead th {\n",
       "        text-align: right;\n",
       "    }\n",
       "</style>\n",
       "<table border=\"1\" class=\"dataframe\">\n",
       "  <thead>\n",
       "    <tr style=\"text-align: right;\">\n",
       "      <th></th>\n",
       "      <th>Customer ID</th>\n",
       "      <th>Gender</th>\n",
       "      <th>Age</th>\n",
       "      <th>Married</th>\n",
       "      <th>Number of Dependents</th>\n",
       "      <th>City</th>\n",
       "      <th>Zip Code</th>\n",
       "      <th>Latitude</th>\n",
       "      <th>Longitude</th>\n",
       "      <th>Number of Referrals</th>\n",
       "      <th>...</th>\n",
       "      <th>Payment Method</th>\n",
       "      <th>Monthly Charge</th>\n",
       "      <th>Total Charges</th>\n",
       "      <th>Total Refunds</th>\n",
       "      <th>Total Extra Data Charges</th>\n",
       "      <th>Total Long Distance Charges</th>\n",
       "      <th>Total Revenue</th>\n",
       "      <th>Customer Status</th>\n",
       "      <th>Churn Category</th>\n",
       "      <th>Churn Reason</th>\n",
       "    </tr>\n",
       "  </thead>\n",
       "  <tbody>\n",
       "    <tr>\n",
       "      <th>0</th>\n",
       "      <td>0002-ORFBO</td>\n",
       "      <td>Female</td>\n",
       "      <td>37</td>\n",
       "      <td>Yes</td>\n",
       "      <td>0</td>\n",
       "      <td>Frazier Park</td>\n",
       "      <td>93225</td>\n",
       "      <td>34.827662</td>\n",
       "      <td>-118.999073</td>\n",
       "      <td>2</td>\n",
       "      <td>...</td>\n",
       "      <td>Credit Card</td>\n",
       "      <td>65.6</td>\n",
       "      <td>593.30</td>\n",
       "      <td>0.00</td>\n",
       "      <td>0</td>\n",
       "      <td>381.51</td>\n",
       "      <td>974.81</td>\n",
       "      <td>Stayed</td>\n",
       "      <td>NaN</td>\n",
       "      <td>NaN</td>\n",
       "    </tr>\n",
       "    <tr>\n",
       "      <th>1</th>\n",
       "      <td>0003-MKNFE</td>\n",
       "      <td>Male</td>\n",
       "      <td>46</td>\n",
       "      <td>No</td>\n",
       "      <td>0</td>\n",
       "      <td>Glendale</td>\n",
       "      <td>91206</td>\n",
       "      <td>34.162515</td>\n",
       "      <td>-118.203869</td>\n",
       "      <td>0</td>\n",
       "      <td>...</td>\n",
       "      <td>Credit Card</td>\n",
       "      <td>-4.0</td>\n",
       "      <td>542.40</td>\n",
       "      <td>38.33</td>\n",
       "      <td>10</td>\n",
       "      <td>96.21</td>\n",
       "      <td>610.28</td>\n",
       "      <td>Stayed</td>\n",
       "      <td>NaN</td>\n",
       "      <td>NaN</td>\n",
       "    </tr>\n",
       "    <tr>\n",
       "      <th>2</th>\n",
       "      <td>0004-TLHLJ</td>\n",
       "      <td>Male</td>\n",
       "      <td>50</td>\n",
       "      <td>No</td>\n",
       "      <td>0</td>\n",
       "      <td>Costa Mesa</td>\n",
       "      <td>92627</td>\n",
       "      <td>33.645672</td>\n",
       "      <td>-117.922613</td>\n",
       "      <td>0</td>\n",
       "      <td>...</td>\n",
       "      <td>Bank Withdrawal</td>\n",
       "      <td>73.9</td>\n",
       "      <td>280.85</td>\n",
       "      <td>0.00</td>\n",
       "      <td>0</td>\n",
       "      <td>134.60</td>\n",
       "      <td>415.45</td>\n",
       "      <td>Churned</td>\n",
       "      <td>Competitor</td>\n",
       "      <td>Competitor had better devices</td>\n",
       "    </tr>\n",
       "    <tr>\n",
       "      <th>3</th>\n",
       "      <td>0011-IGKFF</td>\n",
       "      <td>Male</td>\n",
       "      <td>78</td>\n",
       "      <td>Yes</td>\n",
       "      <td>0</td>\n",
       "      <td>Martinez</td>\n",
       "      <td>94553</td>\n",
       "      <td>38.014457</td>\n",
       "      <td>-122.115432</td>\n",
       "      <td>1</td>\n",
       "      <td>...</td>\n",
       "      <td>Bank Withdrawal</td>\n",
       "      <td>98.0</td>\n",
       "      <td>1237.85</td>\n",
       "      <td>0.00</td>\n",
       "      <td>0</td>\n",
       "      <td>361.66</td>\n",
       "      <td>1599.51</td>\n",
       "      <td>Churned</td>\n",
       "      <td>Dissatisfaction</td>\n",
       "      <td>Product dissatisfaction</td>\n",
       "    </tr>\n",
       "    <tr>\n",
       "      <th>4</th>\n",
       "      <td>0013-EXCHZ</td>\n",
       "      <td>Female</td>\n",
       "      <td>75</td>\n",
       "      <td>Yes</td>\n",
       "      <td>0</td>\n",
       "      <td>Camarillo</td>\n",
       "      <td>93010</td>\n",
       "      <td>34.227846</td>\n",
       "      <td>-119.079903</td>\n",
       "      <td>3</td>\n",
       "      <td>...</td>\n",
       "      <td>Credit Card</td>\n",
       "      <td>83.9</td>\n",
       "      <td>267.40</td>\n",
       "      <td>0.00</td>\n",
       "      <td>0</td>\n",
       "      <td>22.14</td>\n",
       "      <td>289.54</td>\n",
       "      <td>Churned</td>\n",
       "      <td>Dissatisfaction</td>\n",
       "      <td>Network reliability</td>\n",
       "    </tr>\n",
       "  </tbody>\n",
       "</table>\n",
       "<p>5 rows × 38 columns</p>\n",
       "</div>"
      ],
      "text/plain": [
       "  Customer ID  Gender  Age Married  Number of Dependents          City  \\\n",
       "0  0002-ORFBO  Female   37     Yes                     0  Frazier Park   \n",
       "1  0003-MKNFE    Male   46      No                     0      Glendale   \n",
       "2  0004-TLHLJ    Male   50      No                     0    Costa Mesa   \n",
       "3  0011-IGKFF    Male   78     Yes                     0      Martinez   \n",
       "4  0013-EXCHZ  Female   75     Yes                     0     Camarillo   \n",
       "\n",
       "   Zip Code   Latitude   Longitude  Number of Referrals  ...   Payment Method  \\\n",
       "0     93225  34.827662 -118.999073                    2  ...      Credit Card   \n",
       "1     91206  34.162515 -118.203869                    0  ...      Credit Card   \n",
       "2     92627  33.645672 -117.922613                    0  ...  Bank Withdrawal   \n",
       "3     94553  38.014457 -122.115432                    1  ...  Bank Withdrawal   \n",
       "4     93010  34.227846 -119.079903                    3  ...      Credit Card   \n",
       "\n",
       "  Monthly Charge Total Charges  Total Refunds Total Extra Data Charges  \\\n",
       "0           65.6        593.30           0.00                        0   \n",
       "1           -4.0        542.40          38.33                       10   \n",
       "2           73.9        280.85           0.00                        0   \n",
       "3           98.0       1237.85           0.00                        0   \n",
       "4           83.9        267.40           0.00                        0   \n",
       "\n",
       "  Total Long Distance Charges Total Revenue  Customer Status   Churn Category  \\\n",
       "0                      381.51        974.81           Stayed              NaN   \n",
       "1                       96.21        610.28           Stayed              NaN   \n",
       "2                      134.60        415.45          Churned       Competitor   \n",
       "3                      361.66       1599.51          Churned  Dissatisfaction   \n",
       "4                       22.14        289.54          Churned  Dissatisfaction   \n",
       "\n",
       "                    Churn Reason  \n",
       "0                            NaN  \n",
       "1                            NaN  \n",
       "2  Competitor had better devices  \n",
       "3        Product dissatisfaction  \n",
       "4            Network reliability  \n",
       "\n",
       "[5 rows x 38 columns]"
      ]
     },
     "execution_count": 3,
     "metadata": {},
     "output_type": "execute_result"
    }
   ],
   "source": [
    "df.head(5)"
   ]
  },
  {
   "cell_type": "markdown",
   "id": "z3T_3jpB-mGC",
   "metadata": {
    "id": "z3T_3jpB-mGC"
   },
   "source": [
    "Overviewing all the columns in the dataset"
   ]
  },
  {
   "cell_type": "code",
   "execution_count": 4,
   "id": "12ec80d7",
   "metadata": {
    "colab": {
     "base_uri": "https://localhost:8080/"
    },
    "execution": {
     "iopub.execute_input": "2022-10-14T19:27:26.007978Z",
     "iopub.status.busy": "2022-10-14T19:27:26.007580Z",
     "iopub.status.idle": "2022-10-14T19:27:26.014975Z",
     "shell.execute_reply": "2022-10-14T19:27:26.013893Z"
    },
    "id": "12ec80d7",
    "outputId": "49056031-643f-4cc5-c48c-abbca0003a45",
    "papermill": {
     "duration": 0.026493,
     "end_time": "2022-10-14T19:27:26.017126",
     "exception": false,
     "start_time": "2022-10-14T19:27:25.990633",
     "status": "completed"
    },
    "tags": []
   },
   "outputs": [
    {
     "data": {
      "text/plain": [
       "Index(['Customer ID', 'Gender', 'Age', 'Married', 'Number of Dependents',\n",
       "       'City', 'Zip Code', 'Latitude', 'Longitude', 'Number of Referrals',\n",
       "       'Tenure in Months', 'Offer', 'Phone Service',\n",
       "       'Avg Monthly Long Distance Charges', 'Multiple Lines',\n",
       "       'Internet Service', 'Internet Type', 'Avg Monthly GB Download',\n",
       "       'Online Security', 'Online Backup', 'Device Protection Plan',\n",
       "       'Premium Tech Support', 'Streaming TV', 'Streaming Movies',\n",
       "       'Streaming Music', 'Unlimited Data', 'Contract', 'Paperless Billing',\n",
       "       'Payment Method', 'Monthly Charge', 'Total Charges', 'Total Refunds',\n",
       "       'Total Extra Data Charges', 'Total Long Distance Charges',\n",
       "       'Total Revenue', 'Customer Status', 'Churn Category', 'Churn Reason'],\n",
       "      dtype='object')"
      ]
     },
     "execution_count": 4,
     "metadata": {},
     "output_type": "execute_result"
    }
   ],
   "source": [
    "df.columns"
   ]
  },
  {
   "cell_type": "code",
   "execution_count": 5,
   "id": "17b9cf43",
   "metadata": {
    "execution": {
     "iopub.execute_input": "2022-10-14T19:27:26.050770Z",
     "iopub.status.busy": "2022-10-14T19:27:26.050337Z",
     "iopub.status.idle": "2022-10-14T19:27:26.056648Z",
     "shell.execute_reply": "2022-10-14T19:27:26.055424Z"
    },
    "id": "17b9cf43",
    "papermill": {
     "duration": 0.025636,
     "end_time": "2022-10-14T19:27:26.058968",
     "exception": false,
     "start_time": "2022-10-14T19:27:26.033332",
     "status": "completed"
    },
    "tags": []
   },
   "outputs": [],
   "source": [
    "df1 = df.copy()"
   ]
  },
  {
   "cell_type": "markdown",
   "id": "zlwI7pSd-xk9",
   "metadata": {
    "id": "zlwI7pSd-xk9"
   },
   "source": [
    "Creating a copy of the Dataset"
   ]
  },
  {
   "cell_type": "code",
   "execution_count": 6,
   "id": "484bfe2b",
   "metadata": {
    "colab": {
     "base_uri": "https://localhost:8080/",
     "height": 553
    },
    "execution": {
     "iopub.execute_input": "2022-10-14T19:27:26.092326Z",
     "iopub.status.busy": "2022-10-14T19:27:26.091898Z",
     "iopub.status.idle": "2022-10-14T19:27:26.120641Z",
     "shell.execute_reply": "2022-10-14T19:27:26.119526Z"
    },
    "id": "484bfe2b",
    "outputId": "669a9eec-adab-4bd3-8979-3d3be0ceac76",
    "papermill": {
     "duration": 0.048132,
     "end_time": "2022-10-14T19:27:26.122840",
     "exception": false,
     "start_time": "2022-10-14T19:27:26.074708",
     "status": "completed"
    },
    "tags": []
   },
   "outputs": [
    {
     "data": {
      "text/html": [
       "<div>\n",
       "<style scoped>\n",
       "    .dataframe tbody tr th:only-of-type {\n",
       "        vertical-align: middle;\n",
       "    }\n",
       "\n",
       "    .dataframe tbody tr th {\n",
       "        vertical-align: top;\n",
       "    }\n",
       "\n",
       "    .dataframe thead th {\n",
       "        text-align: right;\n",
       "    }\n",
       "</style>\n",
       "<table border=\"1\" class=\"dataframe\">\n",
       "  <thead>\n",
       "    <tr style=\"text-align: right;\">\n",
       "      <th></th>\n",
       "      <th>Customer ID</th>\n",
       "      <th>Gender</th>\n",
       "      <th>Age</th>\n",
       "      <th>Married</th>\n",
       "      <th>Number of Dependents</th>\n",
       "      <th>City</th>\n",
       "      <th>Zip Code</th>\n",
       "      <th>Latitude</th>\n",
       "      <th>Longitude</th>\n",
       "      <th>Number of Referrals</th>\n",
       "      <th>...</th>\n",
       "      <th>Payment Method</th>\n",
       "      <th>Monthly Charge</th>\n",
       "      <th>Total Charges</th>\n",
       "      <th>Total Refunds</th>\n",
       "      <th>Total Extra Data Charges</th>\n",
       "      <th>Total Long Distance Charges</th>\n",
       "      <th>Total Revenue</th>\n",
       "      <th>Customer Status</th>\n",
       "      <th>Churn Category</th>\n",
       "      <th>Churn Reason</th>\n",
       "    </tr>\n",
       "  </thead>\n",
       "  <tbody>\n",
       "    <tr>\n",
       "      <th>0</th>\n",
       "      <td>0002-ORFBO</td>\n",
       "      <td>Female</td>\n",
       "      <td>37</td>\n",
       "      <td>Yes</td>\n",
       "      <td>0</td>\n",
       "      <td>Frazier Park</td>\n",
       "      <td>93225</td>\n",
       "      <td>34.827662</td>\n",
       "      <td>-118.999073</td>\n",
       "      <td>2</td>\n",
       "      <td>...</td>\n",
       "      <td>Credit Card</td>\n",
       "      <td>65.6</td>\n",
       "      <td>593.30</td>\n",
       "      <td>0.00</td>\n",
       "      <td>0</td>\n",
       "      <td>381.51</td>\n",
       "      <td>974.81</td>\n",
       "      <td>Stayed</td>\n",
       "      <td>NaN</td>\n",
       "      <td>NaN</td>\n",
       "    </tr>\n",
       "    <tr>\n",
       "      <th>1</th>\n",
       "      <td>0003-MKNFE</td>\n",
       "      <td>Male</td>\n",
       "      <td>46</td>\n",
       "      <td>No</td>\n",
       "      <td>0</td>\n",
       "      <td>Glendale</td>\n",
       "      <td>91206</td>\n",
       "      <td>34.162515</td>\n",
       "      <td>-118.203869</td>\n",
       "      <td>0</td>\n",
       "      <td>...</td>\n",
       "      <td>Credit Card</td>\n",
       "      <td>-4.0</td>\n",
       "      <td>542.40</td>\n",
       "      <td>38.33</td>\n",
       "      <td>10</td>\n",
       "      <td>96.21</td>\n",
       "      <td>610.28</td>\n",
       "      <td>Stayed</td>\n",
       "      <td>NaN</td>\n",
       "      <td>NaN</td>\n",
       "    </tr>\n",
       "    <tr>\n",
       "      <th>2</th>\n",
       "      <td>0004-TLHLJ</td>\n",
       "      <td>Male</td>\n",
       "      <td>50</td>\n",
       "      <td>No</td>\n",
       "      <td>0</td>\n",
       "      <td>Costa Mesa</td>\n",
       "      <td>92627</td>\n",
       "      <td>33.645672</td>\n",
       "      <td>-117.922613</td>\n",
       "      <td>0</td>\n",
       "      <td>...</td>\n",
       "      <td>Bank Withdrawal</td>\n",
       "      <td>73.9</td>\n",
       "      <td>280.85</td>\n",
       "      <td>0.00</td>\n",
       "      <td>0</td>\n",
       "      <td>134.60</td>\n",
       "      <td>415.45</td>\n",
       "      <td>Churned</td>\n",
       "      <td>Competitor</td>\n",
       "      <td>Competitor had better devices</td>\n",
       "    </tr>\n",
       "    <tr>\n",
       "      <th>3</th>\n",
       "      <td>0011-IGKFF</td>\n",
       "      <td>Male</td>\n",
       "      <td>78</td>\n",
       "      <td>Yes</td>\n",
       "      <td>0</td>\n",
       "      <td>Martinez</td>\n",
       "      <td>94553</td>\n",
       "      <td>38.014457</td>\n",
       "      <td>-122.115432</td>\n",
       "      <td>1</td>\n",
       "      <td>...</td>\n",
       "      <td>Bank Withdrawal</td>\n",
       "      <td>98.0</td>\n",
       "      <td>1237.85</td>\n",
       "      <td>0.00</td>\n",
       "      <td>0</td>\n",
       "      <td>361.66</td>\n",
       "      <td>1599.51</td>\n",
       "      <td>Churned</td>\n",
       "      <td>Dissatisfaction</td>\n",
       "      <td>Product dissatisfaction</td>\n",
       "    </tr>\n",
       "    <tr>\n",
       "      <th>4</th>\n",
       "      <td>0013-EXCHZ</td>\n",
       "      <td>Female</td>\n",
       "      <td>75</td>\n",
       "      <td>Yes</td>\n",
       "      <td>0</td>\n",
       "      <td>Camarillo</td>\n",
       "      <td>93010</td>\n",
       "      <td>34.227846</td>\n",
       "      <td>-119.079903</td>\n",
       "      <td>3</td>\n",
       "      <td>...</td>\n",
       "      <td>Credit Card</td>\n",
       "      <td>83.9</td>\n",
       "      <td>267.40</td>\n",
       "      <td>0.00</td>\n",
       "      <td>0</td>\n",
       "      <td>22.14</td>\n",
       "      <td>289.54</td>\n",
       "      <td>Churned</td>\n",
       "      <td>Dissatisfaction</td>\n",
       "      <td>Network reliability</td>\n",
       "    </tr>\n",
       "    <tr>\n",
       "      <th>5</th>\n",
       "      <td>0013-MHZWF</td>\n",
       "      <td>Female</td>\n",
       "      <td>23</td>\n",
       "      <td>No</td>\n",
       "      <td>3</td>\n",
       "      <td>Midpines</td>\n",
       "      <td>95345</td>\n",
       "      <td>37.581496</td>\n",
       "      <td>-119.972762</td>\n",
       "      <td>0</td>\n",
       "      <td>...</td>\n",
       "      <td>Credit Card</td>\n",
       "      <td>69.4</td>\n",
       "      <td>571.45</td>\n",
       "      <td>0.00</td>\n",
       "      <td>0</td>\n",
       "      <td>150.93</td>\n",
       "      <td>722.38</td>\n",
       "      <td>Stayed</td>\n",
       "      <td>NaN</td>\n",
       "      <td>NaN</td>\n",
       "    </tr>\n",
       "    <tr>\n",
       "      <th>6</th>\n",
       "      <td>0013-SMEOE</td>\n",
       "      <td>Female</td>\n",
       "      <td>67</td>\n",
       "      <td>Yes</td>\n",
       "      <td>0</td>\n",
       "      <td>Lompoc</td>\n",
       "      <td>93437</td>\n",
       "      <td>34.757477</td>\n",
       "      <td>-120.550507</td>\n",
       "      <td>1</td>\n",
       "      <td>...</td>\n",
       "      <td>Bank Withdrawal</td>\n",
       "      <td>109.7</td>\n",
       "      <td>7904.25</td>\n",
       "      <td>0.00</td>\n",
       "      <td>0</td>\n",
       "      <td>707.16</td>\n",
       "      <td>8611.41</td>\n",
       "      <td>Stayed</td>\n",
       "      <td>NaN</td>\n",
       "      <td>NaN</td>\n",
       "    </tr>\n",
       "  </tbody>\n",
       "</table>\n",
       "<p>7 rows × 38 columns</p>\n",
       "</div>"
      ],
      "text/plain": [
       "  Customer ID  Gender  Age Married  Number of Dependents          City  \\\n",
       "0  0002-ORFBO  Female   37     Yes                     0  Frazier Park   \n",
       "1  0003-MKNFE    Male   46      No                     0      Glendale   \n",
       "2  0004-TLHLJ    Male   50      No                     0    Costa Mesa   \n",
       "3  0011-IGKFF    Male   78     Yes                     0      Martinez   \n",
       "4  0013-EXCHZ  Female   75     Yes                     0     Camarillo   \n",
       "5  0013-MHZWF  Female   23      No                     3      Midpines   \n",
       "6  0013-SMEOE  Female   67     Yes                     0        Lompoc   \n",
       "\n",
       "   Zip Code   Latitude   Longitude  Number of Referrals  ...   Payment Method  \\\n",
       "0     93225  34.827662 -118.999073                    2  ...      Credit Card   \n",
       "1     91206  34.162515 -118.203869                    0  ...      Credit Card   \n",
       "2     92627  33.645672 -117.922613                    0  ...  Bank Withdrawal   \n",
       "3     94553  38.014457 -122.115432                    1  ...  Bank Withdrawal   \n",
       "4     93010  34.227846 -119.079903                    3  ...      Credit Card   \n",
       "5     95345  37.581496 -119.972762                    0  ...      Credit Card   \n",
       "6     93437  34.757477 -120.550507                    1  ...  Bank Withdrawal   \n",
       "\n",
       "  Monthly Charge Total Charges  Total Refunds Total Extra Data Charges  \\\n",
       "0           65.6        593.30           0.00                        0   \n",
       "1           -4.0        542.40          38.33                       10   \n",
       "2           73.9        280.85           0.00                        0   \n",
       "3           98.0       1237.85           0.00                        0   \n",
       "4           83.9        267.40           0.00                        0   \n",
       "5           69.4        571.45           0.00                        0   \n",
       "6          109.7       7904.25           0.00                        0   \n",
       "\n",
       "  Total Long Distance Charges Total Revenue  Customer Status   Churn Category  \\\n",
       "0                      381.51        974.81           Stayed              NaN   \n",
       "1                       96.21        610.28           Stayed              NaN   \n",
       "2                      134.60        415.45          Churned       Competitor   \n",
       "3                      361.66       1599.51          Churned  Dissatisfaction   \n",
       "4                       22.14        289.54          Churned  Dissatisfaction   \n",
       "5                      150.93        722.38           Stayed              NaN   \n",
       "6                      707.16       8611.41           Stayed              NaN   \n",
       "\n",
       "                    Churn Reason  \n",
       "0                            NaN  \n",
       "1                            NaN  \n",
       "2  Competitor had better devices  \n",
       "3        Product dissatisfaction  \n",
       "4            Network reliability  \n",
       "5                            NaN  \n",
       "6                            NaN  \n",
       "\n",
       "[7 rows x 38 columns]"
      ]
     },
     "execution_count": 6,
     "metadata": {},
     "output_type": "execute_result"
    }
   ],
   "source": [
    "df1.head(7)"
   ]
  },
  {
   "cell_type": "code",
   "execution_count": 7,
   "id": "724b3ccf",
   "metadata": {
    "colab": {
     "base_uri": "https://localhost:8080/"
    },
    "execution": {
     "iopub.execute_input": "2022-10-14T19:27:26.157466Z",
     "iopub.status.busy": "2022-10-14T19:27:26.157067Z",
     "iopub.status.idle": "2022-10-14T19:27:26.163616Z",
     "shell.execute_reply": "2022-10-14T19:27:26.162720Z"
    },
    "id": "724b3ccf",
    "outputId": "5caab482-784d-4b03-a9e7-cf97d5af72e7",
    "papermill": {
     "duration": 0.026416,
     "end_time": "2022-10-14T19:27:26.165920",
     "exception": false,
     "start_time": "2022-10-14T19:27:26.139504",
     "status": "completed"
    },
    "tags": []
   },
   "outputs": [
    {
     "data": {
      "text/plain": [
       "Index(['Customer ID', 'Gender', 'Age', 'Married', 'Number of Dependents',\n",
       "       'City', 'Zip Code', 'Latitude', 'Longitude', 'Number of Referrals',\n",
       "       'Tenure in Months', 'Offer', 'Phone Service',\n",
       "       'Avg Monthly Long Distance Charges', 'Multiple Lines',\n",
       "       'Internet Service', 'Internet Type', 'Avg Monthly GB Download',\n",
       "       'Online Security', 'Online Backup', 'Device Protection Plan',\n",
       "       'Premium Tech Support', 'Streaming TV', 'Streaming Movies',\n",
       "       'Streaming Music', 'Unlimited Data', 'Contract', 'Paperless Billing',\n",
       "       'Payment Method', 'Monthly Charge', 'Total Charges', 'Total Refunds',\n",
       "       'Total Extra Data Charges', 'Total Long Distance Charges',\n",
       "       'Total Revenue', 'Customer Status', 'Churn Category', 'Churn Reason'],\n",
       "      dtype='object')"
      ]
     },
     "execution_count": 7,
     "metadata": {},
     "output_type": "execute_result"
    }
   ],
   "source": [
    "df1.columns"
   ]
  },
  {
   "cell_type": "markdown",
   "id": "wBTNftKpAfAa",
   "metadata": {
    "id": "wBTNftKpAfAa"
   },
   "source": [
    "# Exploratory Data Analysis"
   ]
  },
  {
   "cell_type": "markdown",
   "id": "IqkjBRzXJeMe",
   "metadata": {
    "id": "IqkjBRzXJeMe"
   },
   "source": [
    "## Data Preprocessing"
   ]
  },
  {
   "cell_type": "markdown",
   "id": "ND0zlMh--1C5",
   "metadata": {
    "id": "ND0zlMh--1C5"
   },
   "source": [
    "Dropping unwanted columns from the dataset"
   ]
  },
  {
   "cell_type": "code",
   "execution_count": 8,
   "id": "aa5a442b",
   "metadata": {
    "execution": {
     "iopub.execute_input": "2022-10-14T19:27:26.200508Z",
     "iopub.status.busy": "2022-10-14T19:27:26.200085Z",
     "iopub.status.idle": "2022-10-14T19:27:26.211255Z",
     "shell.execute_reply": "2022-10-14T19:27:26.210195Z"
    },
    "id": "aa5a442b",
    "papermill": {
     "duration": 0.03111,
     "end_time": "2022-10-14T19:27:26.213514",
     "exception": false,
     "start_time": "2022-10-14T19:27:26.182404",
     "status": "completed"
    },
    "tags": []
   },
   "outputs": [],
   "source": [
    "df1.drop(['Customer ID','Total Refunds','Zip Code','Latitude', 'Longitude','Churn Category', 'Churn Reason'],axis='columns',inplace=True)\n"
   ]
  },
  {
   "cell_type": "code",
   "execution_count": 9,
   "id": "e7850514",
   "metadata": {
    "colab": {
     "base_uri": "https://localhost:8080/"
    },
    "execution": {
     "iopub.execute_input": "2022-10-14T19:27:26.249035Z",
     "iopub.status.busy": "2022-10-14T19:27:26.248594Z",
     "iopub.status.idle": "2022-10-14T19:27:26.255323Z",
     "shell.execute_reply": "2022-10-14T19:27:26.254284Z"
    },
    "id": "e7850514",
    "outputId": "2a86f31f-1bc6-4e86-cd92-181a4cc351ff",
    "papermill": {
     "duration": 0.027386,
     "end_time": "2022-10-14T19:27:26.257719",
     "exception": false,
     "start_time": "2022-10-14T19:27:26.230333",
     "status": "completed"
    },
    "tags": []
   },
   "outputs": [
    {
     "data": {
      "text/plain": [
       "(7043, 31)"
      ]
     },
     "execution_count": 9,
     "metadata": {},
     "output_type": "execute_result"
    }
   ],
   "source": [
    "df1.shape"
   ]
  },
  {
   "cell_type": "code",
   "execution_count": 10,
   "id": "73a95259",
   "metadata": {
    "colab": {
     "base_uri": "https://localhost:8080/"
    },
    "execution": {
     "iopub.execute_input": "2022-10-14T19:27:26.293478Z",
     "iopub.status.busy": "2022-10-14T19:27:26.292410Z",
     "iopub.status.idle": "2022-10-14T19:27:26.301203Z",
     "shell.execute_reply": "2022-10-14T19:27:26.300430Z"
    },
    "id": "73a95259",
    "outputId": "189930d0-9847-4148-a579-737d885cce2a",
    "papermill": {
     "duration": 0.028485,
     "end_time": "2022-10-14T19:27:26.303190",
     "exception": false,
     "start_time": "2022-10-14T19:27:26.274705",
     "status": "completed"
    },
    "tags": []
   },
   "outputs": [
    {
     "data": {
      "text/plain": [
       "Gender                                object\n",
       "Age                                    int64\n",
       "Married                               object\n",
       "Number of Dependents                   int64\n",
       "City                                  object\n",
       "Number of Referrals                    int64\n",
       "Tenure in Months                       int64\n",
       "Offer                                 object\n",
       "Phone Service                         object\n",
       "Avg Monthly Long Distance Charges    float64\n",
       "Multiple Lines                        object\n",
       "Internet Service                      object\n",
       "Internet Type                         object\n",
       "Avg Monthly GB Download              float64\n",
       "Online Security                       object\n",
       "Online Backup                         object\n",
       "Device Protection Plan                object\n",
       "Premium Tech Support                  object\n",
       "Streaming TV                          object\n",
       "Streaming Movies                      object\n",
       "Streaming Music                       object\n",
       "Unlimited Data                        object\n",
       "Contract                              object\n",
       "Paperless Billing                     object\n",
       "Payment Method                        object\n",
       "Monthly Charge                       float64\n",
       "Total Charges                        float64\n",
       "Total Extra Data Charges               int64\n",
       "Total Long Distance Charges          float64\n",
       "Total Revenue                        float64\n",
       "Customer Status                       object\n",
       "dtype: object"
      ]
     },
     "execution_count": 10,
     "metadata": {},
     "output_type": "execute_result"
    }
   ],
   "source": [
    "df1.dtypes"
   ]
  },
  {
   "cell_type": "markdown",
   "id": "6WdVAT8q_ItC",
   "metadata": {
    "id": "6WdVAT8q_ItC"
   },
   "source": [
    "Checking the number of unique values in each column"
   ]
  },
  {
   "cell_type": "code",
   "execution_count": 11,
   "id": "c3cc4efc",
   "metadata": {
    "colab": {
     "base_uri": "https://localhost:8080/"
    },
    "execution": {
     "iopub.execute_input": "2022-10-14T19:27:26.339139Z",
     "iopub.status.busy": "2022-10-14T19:27:26.338766Z",
     "iopub.status.idle": "2022-10-14T19:27:26.364436Z",
     "shell.execute_reply": "2022-10-14T19:27:26.363436Z"
    },
    "id": "c3cc4efc",
    "outputId": "2cba5181-c7f6-455d-f1b6-7a385d693ac0",
    "papermill": {
     "duration": 0.046929,
     "end_time": "2022-10-14T19:27:26.367478",
     "exception": false,
     "start_time": "2022-10-14T19:27:26.320549",
     "status": "completed"
    },
    "tags": []
   },
   "outputs": [
    {
     "name": "stdout",
     "output_type": "stream",
     "text": [
      "Gender--->2\n",
      "Age--->62\n",
      "Married--->2\n",
      "Number of Dependents--->10\n",
      "City--->1106\n",
      "Number of Referrals--->12\n",
      "Tenure in Months--->72\n",
      "Offer--->5\n",
      "Phone Service--->2\n",
      "Avg Monthly Long Distance Charges--->3583\n",
      "Multiple Lines--->2\n",
      "Internet Service--->2\n",
      "Internet Type--->3\n",
      "Avg Monthly GB Download--->49\n",
      "Online Security--->2\n",
      "Online Backup--->2\n",
      "Device Protection Plan--->2\n",
      "Premium Tech Support--->2\n",
      "Streaming TV--->2\n",
      "Streaming Movies--->2\n",
      "Streaming Music--->2\n",
      "Unlimited Data--->2\n",
      "Contract--->3\n",
      "Paperless Billing--->2\n",
      "Payment Method--->3\n",
      "Monthly Charge--->1591\n",
      "Total Charges--->6540\n",
      "Total Extra Data Charges--->16\n",
      "Total Long Distance Charges--->6068\n",
      "Total Revenue--->6975\n",
      "Customer Status--->3\n"
     ]
    }
   ],
   "source": [
    "features = df1.columns\n",
    "for feature in features:\n",
    "     print(f'{feature}--->{df[feature].nunique()}')"
   ]
  },
  {
   "cell_type": "markdown",
   "id": "05f_SZX2_lPS",
   "metadata": {
    "id": "05f_SZX2_lPS"
   },
   "source": [
    "Getting the percentge of Null Values in each Column"
   ]
  },
  {
   "cell_type": "code",
   "execution_count": 12,
   "id": "bd43e0ea",
   "metadata": {
    "colab": {
     "base_uri": "https://localhost:8080/"
    },
    "execution": {
     "iopub.execute_input": "2022-10-14T19:27:26.461127Z",
     "iopub.status.busy": "2022-10-14T19:27:26.460146Z",
     "iopub.status.idle": "2022-10-14T19:27:26.476917Z",
     "shell.execute_reply": "2022-10-14T19:27:26.475722Z"
    },
    "id": "bd43e0ea",
    "outputId": "67c8bf91-d35c-47c7-c2bd-ace46cb8e700",
    "papermill": {
     "duration": 0.037639,
     "end_time": "2022-10-14T19:27:26.479376",
     "exception": false,
     "start_time": "2022-10-14T19:27:26.441737",
     "status": "completed"
    },
    "tags": []
   },
   "outputs": [
    {
     "data": {
      "text/plain": [
       "Gender                               0.000000\n",
       "Age                                  0.000000\n",
       "Married                              0.000000\n",
       "Number of Dependents                 0.000000\n",
       "City                                 0.000000\n",
       "Number of Referrals                  0.000000\n",
       "Tenure in Months                     0.000000\n",
       "Offer                                0.550476\n",
       "Phone Service                        0.000000\n",
       "Avg Monthly Long Distance Charges    0.096834\n",
       "Multiple Lines                       0.096834\n",
       "Internet Service                     0.000000\n",
       "Internet Type                        0.216669\n",
       "Avg Monthly GB Download              0.216669\n",
       "Online Security                      0.216669\n",
       "Online Backup                        0.216669\n",
       "Device Protection Plan               0.216669\n",
       "Premium Tech Support                 0.216669\n",
       "Streaming TV                         0.216669\n",
       "Streaming Movies                     0.216669\n",
       "Streaming Music                      0.216669\n",
       "Unlimited Data                       0.216669\n",
       "Contract                             0.000000\n",
       "Paperless Billing                    0.000000\n",
       "Payment Method                       0.000000\n",
       "Monthly Charge                       0.000000\n",
       "Total Charges                        0.000000\n",
       "Total Extra Data Charges             0.000000\n",
       "Total Long Distance Charges          0.000000\n",
       "Total Revenue                        0.000000\n",
       "Customer Status                      0.000000\n",
       "dtype: float64"
      ]
     },
     "execution_count": 12,
     "metadata": {},
     "output_type": "execute_result"
    }
   ],
   "source": [
    "df1.isnull().sum() / df1.shape[0]"
   ]
  },
  {
   "cell_type": "markdown",
   "id": "o55Sin2wAidR",
   "metadata": {
    "id": "o55Sin2wAidR"
   },
   "source": [
    "Cleaning Function for the Dataset"
   ]
  },
  {
   "cell_type": "code",
   "execution_count": 13,
   "id": "2816b44d",
   "metadata": {
    "execution": {
     "iopub.execute_input": "2022-10-14T19:27:26.515492Z",
     "iopub.status.busy": "2022-10-14T19:27:26.514786Z",
     "iopub.status.idle": "2022-10-14T19:27:26.520775Z",
     "shell.execute_reply": "2022-10-14T19:27:26.519761Z"
    },
    "id": "2816b44d",
    "papermill": {
     "duration": 0.026484,
     "end_time": "2022-10-14T19:27:26.522949",
     "exception": false,
     "start_time": "2022-10-14T19:27:26.496465",
     "status": "completed"
    },
    "tags": []
   },
   "outputs": [],
   "source": [
    "def clean_dataset(df):\n",
    "    assert isinstance(df, pd.DataFrame)\n",
    "    df.dropna(inplace=True)\n",
    "    indices_to_keep = ~df.isin([np.nan, np.inf, -np.inf]).any(1)\n",
    "    return df[indices_to_keep].astype(np.float64)"
   ]
  },
  {
   "cell_type": "code",
   "execution_count": 14,
   "id": "22c4bb55",
   "metadata": {
    "execution": {
     "iopub.execute_input": "2022-10-14T19:27:26.559022Z",
     "iopub.status.busy": "2022-10-14T19:27:26.558642Z",
     "iopub.status.idle": "2022-10-14T19:27:26.569858Z",
     "shell.execute_reply": "2022-10-14T19:27:26.568662Z"
    },
    "id": "22c4bb55",
    "papermill": {
     "duration": 0.032272,
     "end_time": "2022-10-14T19:27:26.572322",
     "exception": false,
     "start_time": "2022-10-14T19:27:26.540050",
     "status": "completed"
    },
    "tags": []
   },
   "outputs": [
    {
     "name": "stderr",
     "output_type": "stream",
     "text": [
      "C:\\Users\\ASUS\\AppData\\Local\\Temp\\ipykernel_12668\\3346565851.py:1: FutureWarning: DataFrame.interpolate with object dtype is deprecated and will raise in a future version. Call obj.infer_objects(copy=False) before interpolating instead.\n",
      "  df1=df1.interpolate()\n"
     ]
    }
   ],
   "source": [
    "df1=df1.interpolate()"
   ]
  },
  {
   "cell_type": "code",
   "execution_count": 15,
   "id": "1ae721af",
   "metadata": {
    "colab": {
     "base_uri": "https://localhost:8080/",
     "height": 456
    },
    "execution": {
     "iopub.execute_input": "2022-10-14T19:27:26.608326Z",
     "iopub.status.busy": "2022-10-14T19:27:26.607893Z",
     "iopub.status.idle": "2022-10-14T19:27:26.625557Z",
     "shell.execute_reply": "2022-10-14T19:27:26.624120Z"
    },
    "id": "1ae721af",
    "outputId": "b96d05f6-723a-47c3-ec34-dd164ec2ab5d",
    "papermill": {
     "duration": 0.038252,
     "end_time": "2022-10-14T19:27:26.627712",
     "exception": false,
     "start_time": "2022-10-14T19:27:26.589460",
     "status": "completed"
    },
    "tags": []
   },
   "outputs": [
    {
     "data": {
      "text/html": [
       "<div>\n",
       "<style scoped>\n",
       "    .dataframe tbody tr th:only-of-type {\n",
       "        vertical-align: middle;\n",
       "    }\n",
       "\n",
       "    .dataframe tbody tr th {\n",
       "        vertical-align: top;\n",
       "    }\n",
       "\n",
       "    .dataframe thead th {\n",
       "        text-align: right;\n",
       "    }\n",
       "</style>\n",
       "<table border=\"1\" class=\"dataframe\">\n",
       "  <thead>\n",
       "    <tr style=\"text-align: right;\">\n",
       "      <th></th>\n",
       "      <th>Customer ID</th>\n",
       "      <th>Gender</th>\n",
       "      <th>Age</th>\n",
       "      <th>Married</th>\n",
       "      <th>Number of Dependents</th>\n",
       "      <th>City</th>\n",
       "      <th>Zip Code</th>\n",
       "      <th>Latitude</th>\n",
       "      <th>Longitude</th>\n",
       "      <th>Number of Referrals</th>\n",
       "      <th>...</th>\n",
       "      <th>Payment Method</th>\n",
       "      <th>Monthly Charge</th>\n",
       "      <th>Total Charges</th>\n",
       "      <th>Total Refunds</th>\n",
       "      <th>Total Extra Data Charges</th>\n",
       "      <th>Total Long Distance Charges</th>\n",
       "      <th>Total Revenue</th>\n",
       "      <th>Customer Status</th>\n",
       "      <th>Churn Category</th>\n",
       "      <th>Churn Reason</th>\n",
       "    </tr>\n",
       "  </thead>\n",
       "  <tbody>\n",
       "    <tr>\n",
       "      <th>0</th>\n",
       "      <td>0002-ORFBO</td>\n",
       "      <td>Female</td>\n",
       "      <td>37</td>\n",
       "      <td>Yes</td>\n",
       "      <td>0</td>\n",
       "      <td>Frazier Park</td>\n",
       "      <td>93225</td>\n",
       "      <td>34.827662</td>\n",
       "      <td>-118.999073</td>\n",
       "      <td>2</td>\n",
       "      <td>...</td>\n",
       "      <td>Credit Card</td>\n",
       "      <td>65.6</td>\n",
       "      <td>593.30</td>\n",
       "      <td>0.00</td>\n",
       "      <td>0</td>\n",
       "      <td>381.51</td>\n",
       "      <td>974.81</td>\n",
       "      <td>Stayed</td>\n",
       "      <td>NaN</td>\n",
       "      <td>NaN</td>\n",
       "    </tr>\n",
       "    <tr>\n",
       "      <th>1</th>\n",
       "      <td>0003-MKNFE</td>\n",
       "      <td>Male</td>\n",
       "      <td>46</td>\n",
       "      <td>No</td>\n",
       "      <td>0</td>\n",
       "      <td>Glendale</td>\n",
       "      <td>91206</td>\n",
       "      <td>34.162515</td>\n",
       "      <td>-118.203869</td>\n",
       "      <td>0</td>\n",
       "      <td>...</td>\n",
       "      <td>Credit Card</td>\n",
       "      <td>-4.0</td>\n",
       "      <td>542.40</td>\n",
       "      <td>38.33</td>\n",
       "      <td>10</td>\n",
       "      <td>96.21</td>\n",
       "      <td>610.28</td>\n",
       "      <td>Stayed</td>\n",
       "      <td>NaN</td>\n",
       "      <td>NaN</td>\n",
       "    </tr>\n",
       "    <tr>\n",
       "      <th>2</th>\n",
       "      <td>0004-TLHLJ</td>\n",
       "      <td>Male</td>\n",
       "      <td>50</td>\n",
       "      <td>No</td>\n",
       "      <td>0</td>\n",
       "      <td>Costa Mesa</td>\n",
       "      <td>92627</td>\n",
       "      <td>33.645672</td>\n",
       "      <td>-117.922613</td>\n",
       "      <td>0</td>\n",
       "      <td>...</td>\n",
       "      <td>Bank Withdrawal</td>\n",
       "      <td>73.9</td>\n",
       "      <td>280.85</td>\n",
       "      <td>0.00</td>\n",
       "      <td>0</td>\n",
       "      <td>134.60</td>\n",
       "      <td>415.45</td>\n",
       "      <td>Churned</td>\n",
       "      <td>Competitor</td>\n",
       "      <td>Competitor had better devices</td>\n",
       "    </tr>\n",
       "    <tr>\n",
       "      <th>3</th>\n",
       "      <td>0011-IGKFF</td>\n",
       "      <td>Male</td>\n",
       "      <td>78</td>\n",
       "      <td>Yes</td>\n",
       "      <td>0</td>\n",
       "      <td>Martinez</td>\n",
       "      <td>94553</td>\n",
       "      <td>38.014457</td>\n",
       "      <td>-122.115432</td>\n",
       "      <td>1</td>\n",
       "      <td>...</td>\n",
       "      <td>Bank Withdrawal</td>\n",
       "      <td>98.0</td>\n",
       "      <td>1237.85</td>\n",
       "      <td>0.00</td>\n",
       "      <td>0</td>\n",
       "      <td>361.66</td>\n",
       "      <td>1599.51</td>\n",
       "      <td>Churned</td>\n",
       "      <td>Dissatisfaction</td>\n",
       "      <td>Product dissatisfaction</td>\n",
       "    </tr>\n",
       "    <tr>\n",
       "      <th>4</th>\n",
       "      <td>0013-EXCHZ</td>\n",
       "      <td>Female</td>\n",
       "      <td>75</td>\n",
       "      <td>Yes</td>\n",
       "      <td>0</td>\n",
       "      <td>Camarillo</td>\n",
       "      <td>93010</td>\n",
       "      <td>34.227846</td>\n",
       "      <td>-119.079903</td>\n",
       "      <td>3</td>\n",
       "      <td>...</td>\n",
       "      <td>Credit Card</td>\n",
       "      <td>83.9</td>\n",
       "      <td>267.40</td>\n",
       "      <td>0.00</td>\n",
       "      <td>0</td>\n",
       "      <td>22.14</td>\n",
       "      <td>289.54</td>\n",
       "      <td>Churned</td>\n",
       "      <td>Dissatisfaction</td>\n",
       "      <td>Network reliability</td>\n",
       "    </tr>\n",
       "  </tbody>\n",
       "</table>\n",
       "<p>5 rows × 38 columns</p>\n",
       "</div>"
      ],
      "text/plain": [
       "  Customer ID  Gender  Age Married  Number of Dependents          City  \\\n",
       "0  0002-ORFBO  Female   37     Yes                     0  Frazier Park   \n",
       "1  0003-MKNFE    Male   46      No                     0      Glendale   \n",
       "2  0004-TLHLJ    Male   50      No                     0    Costa Mesa   \n",
       "3  0011-IGKFF    Male   78     Yes                     0      Martinez   \n",
       "4  0013-EXCHZ  Female   75     Yes                     0     Camarillo   \n",
       "\n",
       "   Zip Code   Latitude   Longitude  Number of Referrals  ...   Payment Method  \\\n",
       "0     93225  34.827662 -118.999073                    2  ...      Credit Card   \n",
       "1     91206  34.162515 -118.203869                    0  ...      Credit Card   \n",
       "2     92627  33.645672 -117.922613                    0  ...  Bank Withdrawal   \n",
       "3     94553  38.014457 -122.115432                    1  ...  Bank Withdrawal   \n",
       "4     93010  34.227846 -119.079903                    3  ...      Credit Card   \n",
       "\n",
       "  Monthly Charge Total Charges  Total Refunds Total Extra Data Charges  \\\n",
       "0           65.6        593.30           0.00                        0   \n",
       "1           -4.0        542.40          38.33                       10   \n",
       "2           73.9        280.85           0.00                        0   \n",
       "3           98.0       1237.85           0.00                        0   \n",
       "4           83.9        267.40           0.00                        0   \n",
       "\n",
       "  Total Long Distance Charges Total Revenue  Customer Status   Churn Category  \\\n",
       "0                      381.51        974.81           Stayed              NaN   \n",
       "1                       96.21        610.28           Stayed              NaN   \n",
       "2                      134.60        415.45          Churned       Competitor   \n",
       "3                      361.66       1599.51          Churned  Dissatisfaction   \n",
       "4                       22.14        289.54          Churned  Dissatisfaction   \n",
       "\n",
       "                    Churn Reason  \n",
       "0                            NaN  \n",
       "1                            NaN  \n",
       "2  Competitor had better devices  \n",
       "3        Product dissatisfaction  \n",
       "4            Network reliability  \n",
       "\n",
       "[5 rows x 38 columns]"
      ]
     },
     "execution_count": 15,
     "metadata": {},
     "output_type": "execute_result"
    }
   ],
   "source": [
    "df1=df1.dropna()\n",
    "df.head()"
   ]
  },
  {
   "cell_type": "code",
   "execution_count": 16,
   "id": "e585d090",
   "metadata": {
    "colab": {
     "base_uri": "https://localhost:8080/"
    },
    "execution": {
     "iopub.execute_input": "2022-10-14T19:27:26.663809Z",
     "iopub.status.busy": "2022-10-14T19:27:26.663408Z",
     "iopub.status.idle": "2022-10-14T19:27:26.672276Z",
     "shell.execute_reply": "2022-10-14T19:27:26.671250Z"
    },
    "id": "e585d090",
    "outputId": "3c3fe98f-ebef-4a7e-deb3-171d613d31cc",
    "papermill": {
     "duration": 0.029618,
     "end_time": "2022-10-14T19:27:26.674621",
     "exception": false,
     "start_time": "2022-10-14T19:27:26.645003",
     "status": "completed"
    },
    "tags": []
   },
   "outputs": [
    {
     "data": {
      "text/plain": [
       "0       Yes\n",
       "1        No\n",
       "2       Yes\n",
       "3       Yes\n",
       "4       Yes\n",
       "       ... \n",
       "7038    Yes\n",
       "7039    Yes\n",
       "7040    Yes\n",
       "7041    Yes\n",
       "7042    Yes\n",
       "Name: Unlimited Data, Length: 7043, dtype: object"
      ]
     },
     "execution_count": 16,
     "metadata": {},
     "output_type": "execute_result"
    }
   ],
   "source": [
    "df['Unlimited Data'] "
   ]
  },
  {
   "cell_type": "code",
   "execution_count": 17,
   "id": "1d64b399",
   "metadata": {
    "execution": {
     "iopub.execute_input": "2022-10-14T19:27:26.711172Z",
     "iopub.status.busy": "2022-10-14T19:27:26.710377Z",
     "iopub.status.idle": "2022-10-14T19:27:26.715476Z",
     "shell.execute_reply": "2022-10-14T19:27:26.714584Z"
    },
    "id": "1d64b399",
    "papermill": {
     "duration": 0.025667,
     "end_time": "2022-10-14T19:27:26.717594",
     "exception": false,
     "start_time": "2022-10-14T19:27:26.691927",
     "status": "completed"
    },
    "tags": []
   },
   "outputs": [],
   "source": [
    "number_columns=['Age','Number of Dependents','Number of Referrals','Tenure in Months','Avg Monthly Long Distance Charges','Avg Monthly GB Download','Monthly Charge','Total Charges','Total Extra Data Charges','Total Long Distance Charges','Total Revenue']"
   ]
  },
  {
   "cell_type": "markdown",
   "id": "dB0uWTGiA4fz",
   "metadata": {
    "id": "dB0uWTGiA4fz"
   },
   "source": [
    "Checking the unique values of column having datatype: 'object'"
   ]
  },
  {
   "cell_type": "code",
   "execution_count": 18,
   "id": "18753379",
   "metadata": {
    "execution": {
     "iopub.execute_input": "2022-10-14T19:27:26.753541Z",
     "iopub.status.busy": "2022-10-14T19:27:26.753109Z",
     "iopub.status.idle": "2022-10-14T19:27:26.758536Z",
     "shell.execute_reply": "2022-10-14T19:27:26.757499Z"
    },
    "id": "18753379",
    "papermill": {
     "duration": 0.025832,
     "end_time": "2022-10-14T19:27:26.760700",
     "exception": false,
     "start_time": "2022-10-14T19:27:26.734868",
     "status": "completed"
    },
    "tags": []
   },
   "outputs": [],
   "source": [
    "def unique_values_names(df):\n",
    "    for column in df:\n",
    "        if df[column].dtype=='object':\n",
    "            print(f'{column}:{df[column].unique()}')"
   ]
  },
  {
   "cell_type": "code",
   "execution_count": 19,
   "id": "556dd6e0",
   "metadata": {
    "colab": {
     "base_uri": "https://localhost:8080/"
    },
    "execution": {
     "iopub.execute_input": "2022-10-14T19:27:26.797858Z",
     "iopub.status.busy": "2022-10-14T19:27:26.797476Z",
     "iopub.status.idle": "2022-10-14T19:27:26.816769Z",
     "shell.execute_reply": "2022-10-14T19:27:26.815264Z"
    },
    "id": "556dd6e0",
    "outputId": "5f5f61dd-f9d1-48fd-81a7-13bf03fb1efc",
    "papermill": {
     "duration": 0.040934,
     "end_time": "2022-10-14T19:27:26.819798",
     "exception": false,
     "start_time": "2022-10-14T19:27:26.778864",
     "status": "completed"
    },
    "tags": []
   },
   "outputs": [
    {
     "name": "stdout",
     "output_type": "stream",
     "text": [
      "Gender:['Male' 'Female']\n",
      "Married:['No' 'Yes']\n",
      "City:['Costa Mesa' 'Martinez' 'Midpines' 'Lompoc' 'Napa' 'Simi Valley'\n",
      " 'La Mesa' 'Woodlake' 'San Marcos' 'Alpaugh' 'Moss Beach' 'Stockton'\n",
      " 'Los Angeles' 'Yermo' 'Fremont' 'El Portal' 'Calistoga' 'North Hollywood'\n",
      " 'Inverness' 'Modesto' 'Kenwood' 'Morongo Valley' 'Palo Verde' 'Valyermo'\n",
      " 'Monterey Park' 'Big Oak Flat' 'Glenhaven' 'Lodi' 'Fairfield' 'Moorpark'\n",
      " 'Solvang' 'Del Rey' 'Armona' 'Mckinleyville' 'Calimesa' 'Garden Grove'\n",
      " 'Indio' 'San Diego' 'Escondido' 'Chino' 'Calexico' 'Groveland'\n",
      " 'Los Gatos' 'Clovis' 'Buellton' 'Midway City' 'Folsom' 'San Clemente'\n",
      " 'Bodega Bay' 'Challenge' 'Ludlow' 'Santa Clara' 'Rescue' 'Lotus'\n",
      " 'Harbor City' 'Death Valley' 'Riverdale' 'Claremont' 'Upland'\n",
      " 'Santa Rosa' 'Long Beach' 'Samoa' 'Milford' 'Anderson' 'Orange'\n",
      " 'San Francisco' 'Santa Cruz' 'Lake Hughes' 'Paramount'\n",
      " 'San Juan Capistrano' 'Copperopolis' 'Cypress' 'Lancaster' 'San Ysidro'\n",
      " 'Gilroy' 'San Jose' 'Stanford' 'Turlock' 'Los Alamitos' 'Encinitas'\n",
      " 'Sacramento' 'La Habra' 'Visalia' 'Whittier' 'Grass Valley' 'Herlong'\n",
      " 'Mojave' 'Denair' 'Monterey' 'Palo Alto' 'Lomita' 'Kelseyville'\n",
      " 'Pinecrest' 'Beale Afb' 'Greenville' 'Poway' 'Korbel' 'Pine Valley'\n",
      " 'Bangor' 'Canyon Dam' 'Anza' 'Forest Ranch' 'Jamul' 'Petaluma' 'Hornitos'\n",
      " 'Lafayette' 'Beverly Hills' 'Chester' 'Hilmar' 'Riverside' 'Etna'\n",
      " 'Castro Valley' 'Comptche' 'Wasco' 'Irvine' 'Newhall' 'Murphys' 'Ceres'\n",
      " 'Elk Grove' 'Wilton' 'Douglas City' 'White Water' 'Merced' 'Alviso'\n",
      " 'Palm Springs' 'Rancho Cucamonga' 'Orleans' 'Elk' 'Bakersfield'\n",
      " 'Placentia' 'Redwood City' 'Buena Park' 'Richmond' 'Yreka' 'Elverta'\n",
      " 'Santa Barbara' 'Dutch Flat' 'Mi Wuk Village' 'Milpitas' 'West Hollywood'\n",
      " 'Norco' 'Gold Run' 'Grover Beach' 'Covina' 'Adin' 'Mecca' 'Inglewood'\n",
      " 'Temecula' 'June Lake' 'Brawley' 'Big Bear Lake' 'Grenada' 'Woodland'\n",
      " 'Corona Del Mar' 'Newport Beach' 'Saratoga' 'Concord' 'Trinidad'\n",
      " 'Columbia' 'Hamilton City' 'Pine Grove' 'Livermore' 'Lucerne Valley'\n",
      " 'Honeydew' 'Coalinga' 'Cressey' 'Pittsburg' 'Sun City' 'Paradise'\n",
      " 'Westlake Village' 'Felton' 'Klamath' 'Chico' 'Santa Ana' 'Winters'\n",
      " 'Hesperia' 'Encino' 'Palmdale' 'Pleasant Grove' 'Thousand Palms'\n",
      " 'Bodfish' 'Glendale' 'Fiddletown' 'Forbestown' 'Glen Ellen' 'Santee'\n",
      " 'Acampo' 'Burbank' 'Sierra City' 'Cobb' 'El Dorado' 'Angelus Oaks'\n",
      " 'Westwood' 'Shaver Lake' 'Fawnskin' 'Boonville' 'Pioneertown'\n",
      " 'Klamath River' 'Grimes' 'Hood' 'Fresno' 'Byron' 'Winchester'\n",
      " 'Oregon House' 'Fall River Mills' 'Shoshone' 'Garberville'\n",
      " 'Desert Hot Springs' 'Torrance' 'Squaw Valley' 'Palermo'\n",
      " 'Capistrano Beach' 'La Puente' 'Posey' 'Lakehead' 'Rodeo' 'San Joaquin'\n",
      " 'Avila Beach' 'Santa Margarita' 'Montara' 'Planada' 'La Grange' 'Alamo'\n",
      " 'Lee Vining' 'Huntington Park' 'Foothill Ranch' 'Ladera Ranch' 'Rio Dell'\n",
      " 'Somis' 'National City' 'Old Station' 'Fellows' 'Emeryville'\n",
      " 'Pearblossom' 'Palomar Mountain' 'Lake Forest' 'Woodbridge'\n",
      " 'Canyon Country' 'Cottonwood' 'Mission Viejo' 'Firebaugh' 'San Lucas'\n",
      " 'San Ramon' 'Santa Monica' 'San Bernardino' 'Downey' 'Madison'\n",
      " 'Lemon Grove' 'Deer Park' 'Shasta' 'Walnut Creek' 'Gerber' 'Los Molinos'\n",
      " 'Shafter' 'Guerneville' 'Cantua Creek' 'Bethel Island' 'Victorville'\n",
      " 'Dos Palos' 'Calpine' 'Mentone' 'Freedom' 'Ojai' 'Citrus Heights'\n",
      " 'Oakley' 'Rohnert Park' 'Fallbrook' 'Atherton' 'Wheatland' 'West Covina'\n",
      " 'Cupertino' 'Tecate' 'Hickman' 'San Dimas' 'Pacoima' 'Wallace' 'Topanga'\n",
      " 'Carlotta' 'Shingle Springs' 'Mira Loma' 'La Quinta' 'Salinas' 'Guinda'\n",
      " 'Artesia' 'Penryn' 'Glenn' 'Westport' 'Imperial Beach' 'Lockwood'\n",
      " 'Dana Point' 'Mountain View' 'Gridley' 'Pauma Valley' 'Hemet' 'Corcoran'\n",
      " 'Dorris' 'Vacaville' 'Madera' 'Somerset' 'Perris' 'Upper Lake'\n",
      " 'South El Monte' 'Orangevale' 'Pomona' 'Mad River' 'Redlands' 'Tujunga'\n",
      " 'Cerritos' 'Coronado' 'Fish Camp' 'Placerville' 'Laytonville'\n",
      " 'Forest Knolls' 'Templeton' 'Greenwood' 'Menlo Park' 'San Pedro' 'Igo'\n",
      " 'Exeter' 'Woodland Hills' 'Malibu' 'Big Bend' 'Pasadena' 'Novato'\n",
      " 'Compton' 'Sequoia National Park' 'Yuba City' 'Rio Vista' 'Millbrae'\n",
      " 'Carson' 'Corona' 'Camino' 'Ranchita' 'San Mateo' 'Banning' 'Stevinson'\n",
      " 'Davis' 'Anaheim' 'San Leandro' 'Chilcoot' 'Hume' 'Sunnyvale' 'Colusa'\n",
      " 'Carmel' 'Sultana' 'Fountain Valley' 'Piru' 'Badger' 'Castella' 'Covelo'\n",
      " 'Sun Valley' 'San Carlos' 'Ventura' 'Roseville' 'Clipper Mills' 'Piercy'\n",
      " 'Chula Vista' 'Running Springs' 'Bonita' 'Sylmar' 'Meadow Vista'\n",
      " 'Lakewood' 'Rancho Cordova' 'Manchester' 'Big Bear City' 'Gualala'\n",
      " 'Dublin' 'California City' 'Santa Clarita' 'Mammoth Lakes' 'Vista'\n",
      " 'Likely' 'Catheys Valley' 'Mc Farland' 'Sunset Beach' 'Murrieta' 'Benton'\n",
      " 'Tehachapi' 'Santa Maria' 'Blythe' 'March Air Reserve Base' 'Graton'\n",
      " 'Bayside' 'Meridian' 'Pope Valley' 'Mount Laguna' 'Termo' 'Tahoe Vista'\n",
      " 'Chualar' 'Bloomington' 'Newport Coast' 'Oroville' 'Sheep Ranch' 'Traver'\n",
      " 'Olancha' 'Ione' 'Raymond' 'Mccloud' 'Sloughhouse' 'El Cajon' 'Vallejo'\n",
      " 'Menifee' 'La Jolla' 'Manteca' 'Rancho Santa Fe' 'Paso Robles'\n",
      " 'Greenview' 'Oceanside' 'Redding' 'Los Banos' 'Bonsall' 'Jamestown'\n",
      " 'Altadena' 'Hopland' 'Platina' 'Mc Kittrick' 'Sutter Creek' 'Van Nuys'\n",
      " 'Willows' 'Morro Bay' 'Salyer' 'Guadalupe' 'Potrero' 'Fontana' 'Sonora'\n",
      " 'Ramona' 'Scott Bar' 'Independence' 'Ballico' 'Cedar Glen' 'Granite Bay'\n",
      " 'Doyle' 'Berkeley' 'South Pasadena' 'Barstow' 'Myers Flat' 'Dulzura'\n",
      " 'Sierraville' 'Ontario' 'Fullerton' 'Angels Camp' 'Valencia' 'Tollhouse'\n",
      " 'Five Points' 'Hathaway Pines' 'Kyburz' 'Grizzly Flats' 'Alpine'\n",
      " 'Paicines' 'Pollock Pines' 'Venice' 'Valley Ford' 'Crockett'\n",
      " 'South Dos Palos' 'Redwood Valley' 'Soledad' 'Hydesville' 'Clements'\n",
      " 'Orange Cove' 'Jolon' 'Standish' 'Borrego Springs' 'Diamond Springs'\n",
      " 'Dobbins' 'Playa Del Rey' 'Montrose' 'Campo Seco' 'Blue Lake'\n",
      " 'Pebble Beach' 'Mill Creek' 'El Monte' 'Knights Landing' 'Glennville'\n",
      " 'Hayward' 'Fowler' 'Travis Afb' 'Reseda' 'Monrovia' 'Lincoln' 'Aromas'\n",
      " 'Thermal' 'King City' 'Whitmore' 'Ukiah' 'Oceano' 'Yorba Linda' 'Alturas'\n",
      " 'Brea' 'Phillipsville' 'Carmel By The Sea' 'Sausalito' 'Coarsegold'\n",
      " 'Homewood' 'La Verne' 'Belmont' 'Forks Of Salmon' 'Nuevo' 'Willits'\n",
      " 'Keene' 'Ducor' 'Brownsville' 'Nipton' 'Junction City' 'Santa Paula'\n",
      " 'Weed' 'Tustin' 'Rowland Heights' 'Smartville' 'Porter Ranch' 'Marina'\n",
      " 'Castaic' 'Trabuco Canyon' 'Crows Landing' 'Tehama' 'Helendale'\n",
      " 'Saint Helena' 'Paynes Creek' 'Bella Vista' 'Alhambra' 'Somes Bar'\n",
      " 'San Gabriel' 'Camp Nelson' 'Downieville' 'Hanford' 'Escalon' 'Campo'\n",
      " 'Long Barn' 'Janesville' 'Hermosa Beach' 'Aguanga' 'Shingletown'\n",
      " 'Thousand Oaks' 'Bishop' 'Atwater' 'Yucaipa' 'Kneeland' 'Rancho Mirage'\n",
      " 'Forest Falls' 'Goleta' 'Bell' 'Hawaiian Gardens' 'Glencoe' 'Rialto'\n",
      " 'Daggett' 'La Palma' 'Pinon Hills' 'Davis Creek' 'Oakland' 'Bass Lake'\n",
      " 'French Camp' 'Callahan' 'Olema' 'Biola' 'Raisin City' 'Litchfield'\n",
      " 'San Quentin' 'Temple City' 'Tupman' 'Pacific Palisades' 'Yucca Valley'\n",
      " 'Boulder Creek' 'Greenfield' 'Pismo Beach' 'Arroyo Grande'\n",
      " 'Lake Elsinore' 'Port Costa' 'Lemon Cove' 'San Gregorio' 'Pico Rivera'\n",
      " 'Wildomar' 'Springville' 'Manhattan Beach' 'Avalon' 'Glendora' 'Lindsay'\n",
      " 'Manton' 'Maywood' 'Darwin' 'North San Juan' 'Daly City' 'Summerland'\n",
      " 'Fair Oaks' 'Atascadero' 'Witter Springs' 'Walnut' 'Frazier Park'\n",
      " 'Norwalk' 'Fortuna' 'Phelan' 'Port Hueneme' 'Fillmore' 'Petrolia'\n",
      " 'Gasquet' 'Cloverdale' 'Gustine' 'California Hot Springs' 'Twain Harte'\n",
      " 'Live Oak' 'Union City' 'Forestville' 'Bieber' 'Redondo Beach' 'Tuolumne'\n",
      " 'Miranda' 'Delano' 'Butte City' 'Lockeford' 'Silverado' 'Farmersville'\n",
      " 'O Neals' 'Penngrove' 'Miramonte' 'Occidental' 'La Canada Flintridge'\n",
      " 'Mount Hermon' 'Westminster' 'Hornbrook' 'Dunnigan' 'Hercules'\n",
      " 'Echo Lake' 'Friant' 'Half Moon Bay' 'West Sacramento' 'Huntington Beach'\n",
      " 'Los Osos' 'Tahoe City' 'Pioneer' 'Grand Terrace' 'Mcarthur' 'Corning'\n",
      " 'Spring Valley' 'Moreno Valley' 'Lynwood' 'San Jacinto' 'El Cerrito'\n",
      " 'Caliente' 'Edwards' 'Winnetka' 'Lakeshore' 'Thornton' 'Niland' 'Woody'\n",
      " 'Applegate' 'Weaverville' 'Le Grand' 'Calipatria' 'Montclair'\n",
      " 'Santa Ynez' 'Gardena' 'Greenbrae' 'Carlsbad' 'Smith River' 'Surfside'\n",
      " 'Burney' 'Canoga Park' 'Suisun City' 'El Segundo' 'Reedley'\n",
      " 'Santa Ysabel' 'Alderpoint' 'Delhi' 'Ahwahnee' 'Rocklin' 'Twin Bridges'\n",
      " 'Redcrest' 'Topaz' 'Winton' 'Goodyears Bar' 'Aliso Viejo' 'San Rafael'\n",
      " 'Winterhaven' 'Dixon' 'Moraga' 'Canby' 'Cambria' 'Valley Village'\n",
      " 'Stonyford' 'Seal Beach' 'Pescadero' 'Landers' 'Birds Landing' 'Antioch'\n",
      " 'San Marino' 'Pilot Hill' 'Fort Bidwell' 'Danville' 'Marshall' 'Lakeside'\n",
      " 'Sutter' 'Chino Hills' 'Desert Center' 'Big Bar' 'Sierra Madre'\n",
      " 'Pleasant Hill' 'Oak View' 'Heber' 'Potter Valley' 'Hughson'\n",
      " 'Valley Springs' 'Oakhurst' 'Essex' 'Esparto' 'Clio' 'Pacifica'\n",
      " 'Madeline' 'Orosi' 'Beaumont' 'Twentynine Palms' 'Markleeville' 'Angwin'\n",
      " 'Mariposa' 'Lebec' 'South San Francisco' 'Maxwell' 'Rosemead'\n",
      " 'Oro Grande' 'Albion' 'Plymouth' 'Sherman Oaks' 'Cardiff By The Sea'\n",
      " 'Navarro' 'Mountain Center' 'Cabazon' 'Indian Wells' 'Earlimart' 'Galt'\n",
      " 'Loma Linda' 'Leggett' 'Fort Bragg' 'San Lorenzo' 'Joshua Tree'\n",
      " 'Palo Cedro' 'Eagleville' 'Livingston' 'Fulton' 'Adelanto' 'Mt Baldy'\n",
      " 'Pleasanton' 'Orinda' 'Kings Beach' 'Vina' 'Big Pine' 'West Point'\n",
      " 'Creston' 'North Palm Springs' 'French Gulch' 'Three Rivers' 'Cayucos'\n",
      " 'Wilseyville' 'Albany' 'San Fernando' 'Gonzales' 'El Dorado Hills'\n",
      " 'Clarksburg' 'Portola Valley' 'Lathrop' 'Laguna Hills' 'Cool' 'Paskenta'\n",
      " 'San Andreas' 'Mendocino' 'Montebello' 'Lytle Creek' 'Loleta'\n",
      " 'South Gate' 'Baldwin Park' 'Coulterville' 'Northridge' 'Bodega'\n",
      " 'Ocotillo' 'Shandon' 'Rancho Santa Margarita' 'Branscomb' 'Red Bluff'\n",
      " 'Cathedral City' 'Weott' 'Olympic Valley' 'Willow Creek' 'Portola'\n",
      " 'Laguna Niguel' 'Patterson' 'Granada Hills' 'Auberry' 'Lawndale' 'Caspar'\n",
      " 'Hat Creek' 'San Simeon' 'Los Altos' 'Azusa' 'San Martin' 'Pala' 'Burson'\n",
      " 'Diamond Bar' 'Fields Landing' 'Moss Landing' 'North Hills' 'Davenport'\n",
      " 'Oxnard' 'Newcastle' 'Brentwood' 'Shasta Lake' 'Herald' 'San Bruno'\n",
      " 'Selma' 'Sugarloaf' 'Point Reyes Station' 'Parker Dam' 'Lemoore'\n",
      " 'Mill Valley' 'Bellflower' 'Mather' 'Keeler' 'Millville' 'Wrightwood'\n",
      " 'Lucerne' 'Yorkville' 'Rancho Palos Verdes' 'Crestline' 'El Nido'\n",
      " 'Kettleman City' 'Stirling City' 'El Sobrante' 'Mineral' 'Stanton'\n",
      " 'Newark' 'Lake Isabella' 'Stinson Beach' 'Arnold' 'Bridgeport'\n",
      " 'Marina Del Rey' 'Soulsbyville' 'Twain' 'Coachella' 'Annapolis' 'Duarte'\n",
      " 'Morgan Hill' 'Pinole' 'Seeley' 'San Pablo' 'Nicasio' 'Philo' 'Rosamond'\n",
      " 'Porterville' 'Nice' 'Lake Arrowhead' 'Huron' 'Littlerock' 'Healdsburg'\n",
      " 'Garden Valley' 'Carpinteria' 'Redway' 'Wilmington' 'Camptonville'\n",
      " 'Jacumba' 'North Highlands' 'Stratford' 'Vallecito' 'Wendel'\n",
      " 'Walnut Grove' 'Palm Desert' 'Los Olivos' 'Los Alamos' 'Kirkwood'\n",
      " 'Princeton' 'Avenal' 'La Honda' 'Volcano' 'San Ardo' 'Lewiston'\n",
      " 'Dos Rios' 'Solana Beach' 'Monte Rio' 'Seaside' 'Lamont' 'Casmalia'\n",
      " 'Penn Valley' 'West Hills' 'Carmichael' 'Salida' 'Valley Center'\n",
      " 'South Lake Tahoe' 'Brooks' 'Burlingame' 'Studio City' 'La Mirada'\n",
      " 'Kingsburg' 'Palos Verdes Peninsula' 'Llano' 'Riverbank']\n",
      "Offer:['Offer E' 'Offer D' 'Offer A' 'Offer B' 'Offer C']\n",
      "Phone Service:['Yes']\n",
      "Multiple Lines:['No' 'Yes']\n",
      "Internet Service:['Yes']\n",
      "Internet Type:['Fiber Optic' 'Cable' 'DSL']\n",
      "Online Security:['No' 'Yes']\n",
      "Online Backup:['No' 'Yes']\n",
      "Device Protection Plan:['Yes' 'No']\n",
      "Premium Tech Support:['No' 'Yes']\n",
      "Streaming TV:['No' 'Yes']\n",
      "Streaming Movies:['No' 'Yes']\n",
      "Streaming Music:['No' 'Yes']\n",
      "Unlimited Data:['Yes' 'No']\n",
      "Contract:['Month-to-Month' 'Two Year' 'One Year']\n",
      "Paperless Billing:['Yes' 'No']\n",
      "Payment Method:['Bank Withdrawal' 'Credit Card' 'Mailed Check']\n",
      "Customer Status:['Churned' 'Stayed' 'Joined']\n"
     ]
    }
   ],
   "source": [
    "unique_values_names(df1)"
   ]
  },
  {
   "cell_type": "markdown",
   "id": "15IbAOg0BFD7",
   "metadata": {
    "id": "15IbAOg0BFD7"
   },
   "source": [
    "# Data Visualization"
   ]
  },
  {
   "cell_type": "code",
   "execution_count": 20,
   "id": "wMAqD8ke7chz",
   "metadata": {
    "id": "wMAqD8ke7chz"
   },
   "outputs": [],
   "source": [
    "import plotly.express as px "
   ]
  },
  {
   "cell_type": "markdown",
   "id": "FWQDS8cEBUTh",
   "metadata": {
    "id": "FWQDS8cEBUTh"
   },
   "source": [
    "Visualizing Column 'Age' in the dataset"
   ]
  },
  {
   "cell_type": "code",
   "execution_count": 21,
   "id": "21698d97",
   "metadata": {
    "colab": {
     "base_uri": "https://localhost:8080/",
     "height": 542
    },
    "execution": {
     "iopub.execute_input": "2022-10-14T19:27:26.857460Z",
     "iopub.status.busy": "2022-10-14T19:27:26.857078Z",
     "iopub.status.idle": "2022-10-14T19:27:27.978228Z",
     "shell.execute_reply": "2022-10-14T19:27:27.977132Z"
    },
    "id": "21698d97",
    "outputId": "612f18d5-3759-40df-b43f-e014558c18db",
    "papermill": {
     "duration": 1.142146,
     "end_time": "2022-10-14T19:27:27.980543",
     "exception": false,
     "start_time": "2022-10-14T19:27:26.838397",
     "status": "completed"
    },
    "tags": []
   },
   "outputs": [
    {
     "data": {
      "application/vnd.plotly.v1+json": {
       "config": {
        "plotlyServerURL": "https://plot.ly"
       },
       "data": [
        {
         "alignmentgroup": "True",
         "bingroup": "x",
         "hovertemplate": "Age=%{x}<br>count=%{y}<extra></extra>",
         "legendgroup": "",
         "marker": {
          "color": "#636efa",
          "pattern": {
           "shape": ""
          }
         },
         "name": "",
         "offsetgroup": "",
         "orientation": "v",
         "showlegend": false,
         "type": "histogram",
         "x": [
          50,
          78,
          23,
          67,
          52,
          68,
          32,
          58,
          72,
          30,
          23,
          37,
          60,
          60,
          20,
          38,
          54,
          78,
          30,
          20,
          55,
          71,
          49,
          61,
          62,
          42,
          55,
          57,
          25,
          43,
          48,
          56,
          56,
          26,
          30,
          63,
          52,
          22,
          26,
          58,
          66,
          73,
          46,
          40,
          53,
          45,
          62,
          25,
          69,
          64,
          44,
          58,
          29,
          22,
          53,
          76,
          57,
          45,
          49,
          40,
          38,
          35,
          29,
          25,
          46,
          21,
          62,
          48,
          55,
          77,
          69,
          70,
          54,
          22,
          28,
          58,
          55,
          56,
          63,
          24,
          21,
          31,
          42,
          64,
          76,
          25,
          58,
          21,
          75,
          35,
          64,
          58,
          44,
          43,
          34,
          34,
          21,
          78,
          47,
          64,
          79,
          39,
          32,
          62,
          70,
          47,
          63,
          58,
          74,
          58,
          61,
          28,
          61,
          41,
          25,
          70,
          36,
          66,
          66,
          59,
          26,
          43,
          51,
          32,
          76,
          19,
          21,
          63,
          41,
          41,
          40,
          35,
          60,
          54,
          28,
          50,
          33,
          30,
          40,
          39,
          28,
          69,
          45,
          32,
          34,
          35,
          56,
          80,
          78,
          20,
          61,
          33,
          74,
          24,
          61,
          42,
          41,
          56,
          45,
          28,
          79,
          56,
          32,
          52,
          54,
          41,
          35,
          48,
          53,
          44,
          64,
          39,
          31,
          43,
          29,
          56,
          49,
          33,
          27,
          24,
          43,
          65,
          48,
          76,
          33,
          56,
          29,
          63,
          53,
          34,
          30,
          47,
          62,
          32,
          21,
          55,
          57,
          29,
          43,
          29,
          74,
          29,
          37,
          35,
          55,
          70,
          23,
          74,
          40,
          44,
          54,
          24,
          22,
          67,
          28,
          40,
          23,
          38,
          46,
          30,
          32,
          40,
          59,
          71,
          54,
          73,
          66,
          47,
          63,
          39,
          79,
          51,
          37,
          25,
          36,
          56,
          48,
          63,
          35,
          46,
          33,
          47,
          19,
          42,
          67,
          67,
          36,
          39,
          36,
          41,
          32,
          48,
          53,
          36,
          35,
          55,
          59,
          66,
          61,
          22,
          42,
          33,
          60,
          44,
          35,
          55,
          21,
          54,
          70,
          24,
          54,
          56,
          54,
          49,
          27,
          77,
          51,
          68,
          26,
          41,
          70,
          64,
          46,
          40,
          30,
          56,
          66,
          80,
          70,
          52,
          69,
          57,
          27,
          62,
          30,
          73,
          58,
          48,
          49,
          33,
          59,
          22,
          22,
          23,
          56,
          44,
          46,
          25,
          80,
          62,
          65,
          37,
          31,
          65,
          27,
          22,
          29,
          77,
          45,
          68,
          62,
          44,
          62,
          51,
          48,
          42,
          31,
          39,
          61,
          35,
          78,
          39,
          55,
          39,
          75,
          45,
          63,
          25,
          21,
          57,
          21,
          36,
          23,
          31,
          34,
          58,
          53,
          21,
          25,
          39,
          64,
          70,
          31,
          26,
          36,
          79,
          76,
          53,
          39,
          42,
          76,
          29,
          77,
          45,
          40,
          71,
          50,
          64,
          57,
          32,
          28,
          27,
          54,
          44,
          43,
          53,
          44,
          30,
          44,
          24,
          65,
          22,
          79,
          47,
          30,
          42,
          32,
          40,
          39,
          30,
          80,
          19,
          70,
          73,
          31,
          28,
          80,
          22,
          22,
          59,
          63,
          31,
          31,
          27,
          35,
          35,
          23,
          50,
          70,
          59,
          58,
          28,
          71,
          45,
          20,
          77,
          35,
          26,
          21,
          71,
          23,
          39,
          23,
          42,
          47,
          31,
          62,
          57,
          65,
          21,
          73,
          67,
          51,
          62,
          44,
          78,
          45,
          32,
          23,
          49,
          47,
          24,
          48,
          51,
          51,
          71,
          50,
          32,
          77,
          49,
          78,
          42,
          31,
          33,
          60,
          56,
          49,
          57,
          44,
          66,
          37,
          63,
          49,
          51,
          70,
          21,
          27,
          42,
          20,
          25,
          69,
          29,
          22,
          68,
          31,
          22,
          60,
          38,
          71,
          58,
          62,
          35,
          41,
          38,
          22,
          21,
          29,
          56,
          20,
          58,
          34,
          22,
          24,
          33,
          21,
          27,
          46,
          42,
          44,
          38,
          63,
          69,
          23,
          39,
          51,
          25,
          62,
          55,
          70,
          46,
          38,
          60,
          52,
          22,
          49,
          28,
          43,
          54,
          45,
          40,
          76,
          61,
          41,
          74,
          25,
          40,
          66,
          43,
          29,
          32,
          62,
          45,
          79,
          32,
          33,
          79,
          68,
          67,
          30,
          19,
          72,
          20,
          36,
          74,
          66,
          40,
          69,
          20,
          46,
          60,
          30,
          26,
          26,
          55,
          38,
          46,
          70,
          51,
          25,
          30,
          55,
          48,
          57,
          20,
          32,
          54,
          24,
          25,
          55,
          68,
          68,
          22,
          45,
          49,
          70,
          65,
          58,
          71,
          43,
          79,
          58,
          33,
          73,
          76,
          73,
          28,
          32,
          79,
          47,
          34,
          48,
          68,
          28,
          65,
          73,
          52,
          26,
          45,
          29,
          79,
          42,
          40,
          22,
          32,
          41,
          74,
          54,
          60,
          60,
          52,
          75,
          49,
          60,
          30,
          29,
          67,
          26,
          64,
          37,
          46,
          22,
          30,
          77,
          39,
          27,
          21,
          62,
          67,
          50,
          49,
          41,
          64,
          69,
          64,
          61,
          26,
          46,
          36,
          24,
          29,
          37,
          64,
          64,
          44,
          22,
          29,
          59,
          56,
          45,
          56,
          28,
          34,
          74,
          33,
          57,
          64,
          38,
          46,
          32,
          58,
          27,
          58,
          41,
          76,
          69,
          25,
          73,
          54,
          58,
          44,
          25,
          32,
          21,
          64,
          57,
          30,
          51,
          35,
          36,
          52,
          37,
          29,
          40,
          38,
          47,
          55,
          33,
          28,
          34,
          32,
          73,
          60,
          51,
          42,
          34,
          21,
          32,
          75,
          32,
          59,
          40,
          71,
          61,
          35,
          57,
          45,
          20,
          57,
          26,
          23,
          47,
          47,
          64,
          28,
          66,
          40,
          43,
          77,
          27,
          77,
          28,
          74,
          58,
          69,
          60,
          72,
          38,
          46,
          79,
          23,
          34,
          24,
          29,
          64,
          58,
          70,
          69,
          61,
          23,
          58,
          70,
          38,
          65,
          24,
          70,
          41,
          55,
          42,
          42,
          61,
          44,
          53,
          45,
          74,
          76,
          40,
          28,
          73,
          40,
          40,
          80,
          71,
          57,
          78,
          45,
          78,
          20,
          57,
          47,
          48,
          60,
          57,
          36,
          39,
          59,
          46,
          60,
          36,
          19,
          44,
          32,
          41,
          55,
          43,
          74,
          57,
          61,
          26,
          21,
          52,
          68,
          42,
          38,
          50,
          40,
          59,
          30,
          60,
          23,
          37,
          78,
          19,
          27,
          73,
          41,
          68,
          25,
          52,
          58,
          60,
          26,
          48,
          56,
          47,
          57,
          46,
          71,
          51,
          34,
          59,
          63,
          70,
          76,
          49,
          62,
          37,
          20,
          78,
          50,
          57,
          79,
          25,
          63,
          20,
          23,
          23,
          73,
          38,
          77,
          69,
          53,
          21,
          74,
          55,
          59,
          35,
          23,
          28,
          28,
          42,
          24,
          21,
          56,
          54,
          32,
          41,
          56,
          23,
          35,
          27,
          52,
          21,
          27,
          48,
          51,
          33,
          55,
          50,
          45,
          50,
          75,
          49,
          25,
          74,
          42,
          30,
          55,
          49,
          62,
          25,
          33,
          59,
          33,
          20,
          54,
          35,
          49,
          33,
          60,
          27,
          25,
          42,
          53,
          34,
          74,
          21,
          42,
          51,
          35,
          70,
          56,
          77,
          54,
          55,
          23,
          31,
          32,
          55,
          63,
          33,
          71,
          76,
          35,
          30,
          68,
          62,
          55,
          32,
          29,
          25,
          80,
          72,
          66,
          80,
          41,
          55,
          71,
          41,
          42,
          58,
          66,
          77,
          80,
          44,
          24,
          51,
          36,
          55,
          40,
          63,
          54,
          25,
          56,
          42,
          78,
          43,
          46,
          27,
          61,
          63,
          68,
          19,
          30,
          36,
          37,
          27,
          23,
          29,
          73,
          61,
          64,
          37,
          64,
          52,
          38,
          68,
          37,
          49,
          67,
          57,
          72,
          55,
          57,
          22,
          36,
          80,
          38,
          23,
          30,
          53,
          50,
          41,
          65,
          52,
          21,
          25,
          42,
          75,
          31,
          73,
          23,
          30,
          21,
          32,
          51,
          21,
          44,
          26,
          48,
          35,
          26,
          52,
          30,
          75,
          30,
          37,
          62,
          41,
          63,
          60,
          23,
          78,
          51,
          74,
          33,
          59,
          35,
          20,
          23,
          20,
          60,
          56,
          34,
          64,
          32,
          72,
          36,
          54,
          57,
          45,
          23,
          49,
          60,
          58,
          73,
          80,
          39,
          21,
          69,
          23,
          49,
          59,
          28,
          23,
          40,
          20,
          32,
          19,
          72,
          42,
          33,
          68,
          64,
          24,
          75,
          64,
          27,
          51,
          54,
          72,
          51,
          46,
          21,
          29,
          75,
          64,
          50,
          45,
          30,
          80,
          59,
          35,
          65,
          80,
          30,
          77,
          33,
          25,
          49,
          31,
          22,
          41,
          80,
          46,
          25,
          44,
          80,
          49,
          64,
          53,
          23,
          29,
          79,
          54,
          40,
          80,
          26,
          68,
          41,
          40,
          27,
          30,
          23,
          47,
          70,
          39,
          35,
          68,
          50,
          35,
          35,
          42,
          50,
          55,
          54,
          39,
          32,
          77,
          49,
          73,
          22,
          22,
          70,
          40,
          53,
          62,
          73,
          22,
          62,
          75,
          37,
          44,
          22,
          51,
          52,
          35,
          65,
          27,
          33,
          37,
          23,
          64,
          50,
          38,
          37,
          56,
          49,
          30,
          32,
          52,
          72,
          39,
          21,
          50,
          53,
          56,
          41,
          47,
          22,
          68,
          51,
          47,
          33,
          27,
          36,
          31,
          80,
          48,
          19,
          74,
          78,
          69,
          35,
          20,
          74,
          57,
          31,
          20,
          78,
          43,
          28,
          25,
          47,
          33,
          79,
          73,
          44,
          65,
          43,
          22,
          43,
          60,
          51,
          43,
          20,
          42,
          26,
          24,
          35,
          26,
          51,
          72,
          54,
          39,
          21,
          36,
          52,
          53,
          65,
          69,
          48,
          61,
          64,
          63,
          74,
          22,
          49,
          34,
          75,
          31,
          56,
          53,
          19,
          34,
          34,
          57,
          26,
          35,
          54,
          78,
          80,
          70,
          36,
          52,
          63,
          67,
          21,
          41,
          62,
          48,
          48,
          44,
          25,
          51,
          51,
          28,
          71,
          76,
          34,
          45,
          66,
          72,
          19,
          30,
          19,
          21,
          41,
          29,
          31,
          56,
          68,
          28,
          34,
          79,
          46,
          29,
          64,
          22,
          25,
          23,
          58,
          57,
          55,
          78,
          35,
          33,
          48,
          41,
          78,
          47,
          61,
          41,
          57,
          40,
          74,
          20,
          45,
          39,
          56,
          24,
          21,
          72,
          51,
          55,
          34,
          54,
          62,
          54,
          67,
          27,
          55,
          37,
          25,
          47,
          61,
          40,
          20,
          32,
          51,
          54,
          30,
          53,
          19,
          19,
          53,
          72,
          75,
          67,
          41,
          27,
          32,
          21,
          36,
          59,
          58,
          72,
          20,
          78,
          45,
          27,
          40,
          46,
          39,
          55,
          68,
          70,
          32,
          73,
          76,
          68,
          47,
          33,
          47,
          53,
          44,
          56,
          27,
          45,
          41,
          42,
          53,
          37,
          36,
          21,
          33,
          20,
          69,
          71,
          46,
          42,
          45,
          49,
          19,
          57,
          19,
          55,
          79,
          26,
          43,
          34,
          71,
          54,
          46,
          64,
          30,
          46,
          53,
          29,
          50,
          40,
          69,
          42,
          19,
          41,
          27,
          58,
          38,
          77,
          22,
          68,
          33,
          62,
          20,
          33,
          21,
          33,
          20,
          42,
          58,
          56,
          42,
          49,
          37,
          28,
          19,
          62,
          26,
          50,
          55,
          48,
          48,
          23,
          48,
          44,
          50,
          39,
          20,
          33,
          49,
          30,
          39,
          63,
          54,
          51,
          21,
          71,
          47,
          50,
          52,
          61,
          72,
          61,
          67,
          19,
          22,
          61,
          47,
          31,
          68,
          29,
          38,
          50,
          59,
          68,
          59,
          30,
          66,
          61,
          19,
          66,
          79,
          19,
          46,
          62,
          63,
          71,
          63,
          54,
          20,
          19,
          23,
          51,
          56,
          50,
          64,
          29,
          26,
          54,
          42,
          47,
          61,
          40,
          43,
          42,
          57,
          46,
          77,
          53,
          34,
          70,
          46,
          31,
          63,
          38,
          79,
          48,
          62,
          79,
          27,
          74,
          48,
          25,
          20,
          30,
          34,
          64,
          31,
          20,
          34,
          74,
          47,
          70,
          28,
          47,
          47,
          38,
          72,
          37,
          45,
          66,
          55,
          27,
          66,
          21,
          56,
          57,
          55,
          70,
          69,
          53,
          47,
          72,
          32,
          28,
          78,
          26,
          39,
          30,
          62,
          52,
          80,
          25,
          75,
          78,
          30,
          59,
          26,
          80,
          31,
          75,
          50,
          41,
          47,
          71,
          39,
          66,
          48,
          45,
          29,
          47,
          56,
          34,
          29,
          33,
          35,
          78,
          42,
          45,
          55,
          62,
          31,
          56,
          26,
          41,
          55,
          23,
          34,
          60,
          31,
          69,
          22,
          26,
          24,
          31,
          44,
          59,
          28,
          59,
          34,
          53,
          38,
          59,
          62,
          28,
          54,
          65,
          69,
          75,
          73,
          32,
          54,
          48,
          42,
          55,
          66,
          51,
          60,
          75,
          76,
          25,
          19,
          57,
          79,
          19,
          53,
          52,
          47,
          60,
          30,
          42,
          75,
          31,
          20,
          30,
          34,
          60,
          32,
          47,
          29,
          57,
          38,
          19,
          46,
          45,
          73,
          25,
          42,
          48,
          52,
          43,
          80,
          35,
          49,
          63,
          26,
          62,
          33,
          30,
          53,
          25,
          65,
          21,
          78,
          23,
          49,
          38,
          51,
          37,
          76,
          76,
          33,
          56,
          63,
          74,
          57,
          29,
          68,
          74,
          42,
          20,
          31,
          30,
          45,
          71,
          39,
          69,
          52,
          37,
          62,
          48,
          49,
          27,
          30,
          27,
          54,
          52,
          44,
          38,
          76,
          59,
          75,
          23,
          61,
          67,
          20,
          61,
          19,
          19,
          27,
          42,
          50,
          63,
          41,
          80,
          50,
          23,
          56,
          21,
          36,
          73,
          49,
          34,
          33,
          49,
          59,
          64,
          20,
          31,
          30,
          75,
          61,
          47,
          59,
          21,
          60,
          41,
          54,
          59,
          61,
          72,
          47,
          57,
          47,
          64,
          49,
          37,
          34,
          52,
          22,
          43,
          54,
          68,
          25,
          41,
          38,
          27,
          32,
          79,
          46,
          60,
          71,
          33,
          25,
          34,
          38,
          19,
          34,
          33,
          23,
          22,
          63,
          47,
          35,
          58,
          32,
          51,
          45,
          44,
          45,
          23,
          28,
          34,
          65,
          19,
          61,
          26,
          62,
          20,
          19,
          62,
          79,
          56,
          56,
          73,
          65,
          53,
          77,
          50,
          72,
          72,
          32,
          60,
          29,
          50,
          67,
          22,
          72,
          76,
          73,
          35,
          44,
          80,
          68,
          39,
          71,
          59,
          20,
          21,
          40,
          75,
          39,
          46,
          57,
          61,
          74,
          61,
          20,
          77,
          25,
          43,
          49,
          66,
          26,
          30,
          27,
          56,
          80,
          62,
          43,
          39,
          45,
          27,
          60,
          75,
          30,
          44,
          36,
          44,
          58,
          73,
          51,
          53,
          46,
          45,
          30,
          57,
          70,
          39,
          33,
          55,
          73,
          24,
          55,
          39,
          76,
          34,
          57,
          25,
          46,
          51,
          68,
          72,
          26,
          22,
          45,
          49,
          64,
          40,
          19,
          49,
          41,
          48,
          44,
          76,
          56,
          62,
          24,
          41,
          32,
          61,
          36,
          30,
          62,
          47,
          69,
          42,
          21,
          36,
          51,
          62,
          41,
          34,
          24,
          49,
          37,
          51,
          64,
          60,
          24,
          47,
          40,
          46,
          54,
          41,
          77,
          80,
          40,
          51,
          32,
          79,
          35,
          39,
          52,
          65,
          20,
          43,
          59,
          30,
          47,
          25,
          38,
          54,
          33,
          42,
          35,
          34,
          26,
          78,
          40,
          44,
          24,
          63,
          69,
          21,
          45,
          20,
          34,
          62,
          80,
          21,
          44,
          77,
          65,
          36,
          23,
          65,
          44,
          25,
          62,
          53,
          65,
          39,
          24,
          21,
          28,
          54,
          56,
          55,
          53,
          33,
          27,
          78,
          47,
          39,
          40,
          22,
          27,
          21,
          40,
          42,
          56,
          41,
          22,
          49,
          61,
          45,
          35,
          20,
          25,
          37,
          75,
          63,
          23,
          58,
          79,
          46,
          63,
          25,
          78,
          70,
          63,
          63,
          42,
          68,
          59,
          68,
          35,
          25,
          53,
          39,
          48,
          24,
          20,
          23,
          64,
          61,
          39,
          58,
          35,
          60,
          36,
          21,
          46,
          27,
          19,
          26,
          69,
          75,
          51,
          38,
          41,
          50,
          62,
          35,
          45,
          65,
          38,
          42,
          42,
          57,
          30,
          23,
          68,
          25,
          20,
          23,
          50,
          38,
          23,
          58,
          51,
          47,
          33,
          26,
          56,
          52,
          46,
          29,
          74,
          55,
          54,
          34,
          57,
          62,
          50,
          28,
          38,
          37,
          59,
          74,
          60,
          71,
          51,
          49,
          37,
          53,
          19,
          70,
          77,
          38,
          42,
          25,
          52,
          62,
          21,
          43,
          26,
          39,
          40,
          33,
          22,
          24,
          62,
          51,
          25,
          28,
          69,
          44,
          35,
          35,
          78,
          41,
          76,
          73,
          52,
          63,
          53,
          30,
          49,
          60,
          32,
          25,
          32,
          31,
          57,
          57,
          64,
          40,
          38,
          52,
          29,
          53,
          61,
          38,
          33,
          48,
          72,
          50,
          52,
          33,
          27,
          49,
          48,
          57,
          26,
          48,
          23,
          42,
          75,
          67,
          35,
          42,
          20,
          23,
          59,
          63,
          51,
          77,
          28,
          51,
          47,
          60,
          51,
          54,
          37,
          59,
          59,
          60,
          62,
          38,
          45,
          41,
          79,
          59,
          52,
          50,
          65,
          50,
          43,
          48,
          61,
          63,
          58,
          53,
          52,
          73,
          58,
          59,
          38,
          51,
          65,
          31,
          55,
          27,
          37,
          42,
          66,
          60,
          32,
          73,
          63,
          28,
          60,
          38,
          55,
          33,
          45,
          53,
          55,
          58,
          38,
          58,
          53,
          75,
          55,
          65,
          26,
          31,
          20,
          53,
          20,
          40,
          22,
          21
         ],
         "xaxis": "x",
         "yaxis": "y"
        }
       ],
       "layout": {
        "barmode": "relative",
        "legend": {
         "tracegroupgap": 0
        },
        "margin": {
         "t": 60
        },
        "template": {
         "data": {
          "bar": [
           {
            "error_x": {
             "color": "#2a3f5f"
            },
            "error_y": {
             "color": "#2a3f5f"
            },
            "marker": {
             "line": {
              "color": "#E5ECF6",
              "width": 0.5
             },
             "pattern": {
              "fillmode": "overlay",
              "size": 10,
              "solidity": 0.2
             }
            },
            "type": "bar"
           }
          ],
          "barpolar": [
           {
            "marker": {
             "line": {
              "color": "#E5ECF6",
              "width": 0.5
             },
             "pattern": {
              "fillmode": "overlay",
              "size": 10,
              "solidity": 0.2
             }
            },
            "type": "barpolar"
           }
          ],
          "carpet": [
           {
            "aaxis": {
             "endlinecolor": "#2a3f5f",
             "gridcolor": "white",
             "linecolor": "white",
             "minorgridcolor": "white",
             "startlinecolor": "#2a3f5f"
            },
            "baxis": {
             "endlinecolor": "#2a3f5f",
             "gridcolor": "white",
             "linecolor": "white",
             "minorgridcolor": "white",
             "startlinecolor": "#2a3f5f"
            },
            "type": "carpet"
           }
          ],
          "choropleth": [
           {
            "colorbar": {
             "outlinewidth": 0,
             "ticks": ""
            },
            "type": "choropleth"
           }
          ],
          "contour": [
           {
            "colorbar": {
             "outlinewidth": 0,
             "ticks": ""
            },
            "colorscale": [
             [
              0,
              "#0d0887"
             ],
             [
              0.1111111111111111,
              "#46039f"
             ],
             [
              0.2222222222222222,
              "#7201a8"
             ],
             [
              0.3333333333333333,
              "#9c179e"
             ],
             [
              0.4444444444444444,
              "#bd3786"
             ],
             [
              0.5555555555555556,
              "#d8576b"
             ],
             [
              0.6666666666666666,
              "#ed7953"
             ],
             [
              0.7777777777777778,
              "#fb9f3a"
             ],
             [
              0.8888888888888888,
              "#fdca26"
             ],
             [
              1,
              "#f0f921"
             ]
            ],
            "type": "contour"
           }
          ],
          "contourcarpet": [
           {
            "colorbar": {
             "outlinewidth": 0,
             "ticks": ""
            },
            "type": "contourcarpet"
           }
          ],
          "heatmap": [
           {
            "colorbar": {
             "outlinewidth": 0,
             "ticks": ""
            },
            "colorscale": [
             [
              0,
              "#0d0887"
             ],
             [
              0.1111111111111111,
              "#46039f"
             ],
             [
              0.2222222222222222,
              "#7201a8"
             ],
             [
              0.3333333333333333,
              "#9c179e"
             ],
             [
              0.4444444444444444,
              "#bd3786"
             ],
             [
              0.5555555555555556,
              "#d8576b"
             ],
             [
              0.6666666666666666,
              "#ed7953"
             ],
             [
              0.7777777777777778,
              "#fb9f3a"
             ],
             [
              0.8888888888888888,
              "#fdca26"
             ],
             [
              1,
              "#f0f921"
             ]
            ],
            "type": "heatmap"
           }
          ],
          "heatmapgl": [
           {
            "colorbar": {
             "outlinewidth": 0,
             "ticks": ""
            },
            "colorscale": [
             [
              0,
              "#0d0887"
             ],
             [
              0.1111111111111111,
              "#46039f"
             ],
             [
              0.2222222222222222,
              "#7201a8"
             ],
             [
              0.3333333333333333,
              "#9c179e"
             ],
             [
              0.4444444444444444,
              "#bd3786"
             ],
             [
              0.5555555555555556,
              "#d8576b"
             ],
             [
              0.6666666666666666,
              "#ed7953"
             ],
             [
              0.7777777777777778,
              "#fb9f3a"
             ],
             [
              0.8888888888888888,
              "#fdca26"
             ],
             [
              1,
              "#f0f921"
             ]
            ],
            "type": "heatmapgl"
           }
          ],
          "histogram": [
           {
            "marker": {
             "pattern": {
              "fillmode": "overlay",
              "size": 10,
              "solidity": 0.2
             }
            },
            "type": "histogram"
           }
          ],
          "histogram2d": [
           {
            "colorbar": {
             "outlinewidth": 0,
             "ticks": ""
            },
            "colorscale": [
             [
              0,
              "#0d0887"
             ],
             [
              0.1111111111111111,
              "#46039f"
             ],
             [
              0.2222222222222222,
              "#7201a8"
             ],
             [
              0.3333333333333333,
              "#9c179e"
             ],
             [
              0.4444444444444444,
              "#bd3786"
             ],
             [
              0.5555555555555556,
              "#d8576b"
             ],
             [
              0.6666666666666666,
              "#ed7953"
             ],
             [
              0.7777777777777778,
              "#fb9f3a"
             ],
             [
              0.8888888888888888,
              "#fdca26"
             ],
             [
              1,
              "#f0f921"
             ]
            ],
            "type": "histogram2d"
           }
          ],
          "histogram2dcontour": [
           {
            "colorbar": {
             "outlinewidth": 0,
             "ticks": ""
            },
            "colorscale": [
             [
              0,
              "#0d0887"
             ],
             [
              0.1111111111111111,
              "#46039f"
             ],
             [
              0.2222222222222222,
              "#7201a8"
             ],
             [
              0.3333333333333333,
              "#9c179e"
             ],
             [
              0.4444444444444444,
              "#bd3786"
             ],
             [
              0.5555555555555556,
              "#d8576b"
             ],
             [
              0.6666666666666666,
              "#ed7953"
             ],
             [
              0.7777777777777778,
              "#fb9f3a"
             ],
             [
              0.8888888888888888,
              "#fdca26"
             ],
             [
              1,
              "#f0f921"
             ]
            ],
            "type": "histogram2dcontour"
           }
          ],
          "mesh3d": [
           {
            "colorbar": {
             "outlinewidth": 0,
             "ticks": ""
            },
            "type": "mesh3d"
           }
          ],
          "parcoords": [
           {
            "line": {
             "colorbar": {
              "outlinewidth": 0,
              "ticks": ""
             }
            },
            "type": "parcoords"
           }
          ],
          "pie": [
           {
            "automargin": true,
            "type": "pie"
           }
          ],
          "scatter": [
           {
            "fillpattern": {
             "fillmode": "overlay",
             "size": 10,
             "solidity": 0.2
            },
            "type": "scatter"
           }
          ],
          "scatter3d": [
           {
            "line": {
             "colorbar": {
              "outlinewidth": 0,
              "ticks": ""
             }
            },
            "marker": {
             "colorbar": {
              "outlinewidth": 0,
              "ticks": ""
             }
            },
            "type": "scatter3d"
           }
          ],
          "scattercarpet": [
           {
            "marker": {
             "colorbar": {
              "outlinewidth": 0,
              "ticks": ""
             }
            },
            "type": "scattercarpet"
           }
          ],
          "scattergeo": [
           {
            "marker": {
             "colorbar": {
              "outlinewidth": 0,
              "ticks": ""
             }
            },
            "type": "scattergeo"
           }
          ],
          "scattergl": [
           {
            "marker": {
             "colorbar": {
              "outlinewidth": 0,
              "ticks": ""
             }
            },
            "type": "scattergl"
           }
          ],
          "scattermapbox": [
           {
            "marker": {
             "colorbar": {
              "outlinewidth": 0,
              "ticks": ""
             }
            },
            "type": "scattermapbox"
           }
          ],
          "scatterpolar": [
           {
            "marker": {
             "colorbar": {
              "outlinewidth": 0,
              "ticks": ""
             }
            },
            "type": "scatterpolar"
           }
          ],
          "scatterpolargl": [
           {
            "marker": {
             "colorbar": {
              "outlinewidth": 0,
              "ticks": ""
             }
            },
            "type": "scatterpolargl"
           }
          ],
          "scatterternary": [
           {
            "marker": {
             "colorbar": {
              "outlinewidth": 0,
              "ticks": ""
             }
            },
            "type": "scatterternary"
           }
          ],
          "surface": [
           {
            "colorbar": {
             "outlinewidth": 0,
             "ticks": ""
            },
            "colorscale": [
             [
              0,
              "#0d0887"
             ],
             [
              0.1111111111111111,
              "#46039f"
             ],
             [
              0.2222222222222222,
              "#7201a8"
             ],
             [
              0.3333333333333333,
              "#9c179e"
             ],
             [
              0.4444444444444444,
              "#bd3786"
             ],
             [
              0.5555555555555556,
              "#d8576b"
             ],
             [
              0.6666666666666666,
              "#ed7953"
             ],
             [
              0.7777777777777778,
              "#fb9f3a"
             ],
             [
              0.8888888888888888,
              "#fdca26"
             ],
             [
              1,
              "#f0f921"
             ]
            ],
            "type": "surface"
           }
          ],
          "table": [
           {
            "cells": {
             "fill": {
              "color": "#EBF0F8"
             },
             "line": {
              "color": "white"
             }
            },
            "header": {
             "fill": {
              "color": "#C8D4E3"
             },
             "line": {
              "color": "white"
             }
            },
            "type": "table"
           }
          ]
         },
         "layout": {
          "annotationdefaults": {
           "arrowcolor": "#2a3f5f",
           "arrowhead": 0,
           "arrowwidth": 1
          },
          "autotypenumbers": "strict",
          "coloraxis": {
           "colorbar": {
            "outlinewidth": 0,
            "ticks": ""
           }
          },
          "colorscale": {
           "diverging": [
            [
             0,
             "#8e0152"
            ],
            [
             0.1,
             "#c51b7d"
            ],
            [
             0.2,
             "#de77ae"
            ],
            [
             0.3,
             "#f1b6da"
            ],
            [
             0.4,
             "#fde0ef"
            ],
            [
             0.5,
             "#f7f7f7"
            ],
            [
             0.6,
             "#e6f5d0"
            ],
            [
             0.7,
             "#b8e186"
            ],
            [
             0.8,
             "#7fbc41"
            ],
            [
             0.9,
             "#4d9221"
            ],
            [
             1,
             "#276419"
            ]
           ],
           "sequential": [
            [
             0,
             "#0d0887"
            ],
            [
             0.1111111111111111,
             "#46039f"
            ],
            [
             0.2222222222222222,
             "#7201a8"
            ],
            [
             0.3333333333333333,
             "#9c179e"
            ],
            [
             0.4444444444444444,
             "#bd3786"
            ],
            [
             0.5555555555555556,
             "#d8576b"
            ],
            [
             0.6666666666666666,
             "#ed7953"
            ],
            [
             0.7777777777777778,
             "#fb9f3a"
            ],
            [
             0.8888888888888888,
             "#fdca26"
            ],
            [
             1,
             "#f0f921"
            ]
           ],
           "sequentialminus": [
            [
             0,
             "#0d0887"
            ],
            [
             0.1111111111111111,
             "#46039f"
            ],
            [
             0.2222222222222222,
             "#7201a8"
            ],
            [
             0.3333333333333333,
             "#9c179e"
            ],
            [
             0.4444444444444444,
             "#bd3786"
            ],
            [
             0.5555555555555556,
             "#d8576b"
            ],
            [
             0.6666666666666666,
             "#ed7953"
            ],
            [
             0.7777777777777778,
             "#fb9f3a"
            ],
            [
             0.8888888888888888,
             "#fdca26"
            ],
            [
             1,
             "#f0f921"
            ]
           ]
          },
          "colorway": [
           "#636efa",
           "#EF553B",
           "#00cc96",
           "#ab63fa",
           "#FFA15A",
           "#19d3f3",
           "#FF6692",
           "#B6E880",
           "#FF97FF",
           "#FECB52"
          ],
          "font": {
           "color": "#2a3f5f"
          },
          "geo": {
           "bgcolor": "white",
           "lakecolor": "white",
           "landcolor": "#E5ECF6",
           "showlakes": true,
           "showland": true,
           "subunitcolor": "white"
          },
          "hoverlabel": {
           "align": "left"
          },
          "hovermode": "closest",
          "mapbox": {
           "style": "light"
          },
          "paper_bgcolor": "white",
          "plot_bgcolor": "#E5ECF6",
          "polar": {
           "angularaxis": {
            "gridcolor": "white",
            "linecolor": "white",
            "ticks": ""
           },
           "bgcolor": "#E5ECF6",
           "radialaxis": {
            "gridcolor": "white",
            "linecolor": "white",
            "ticks": ""
           }
          },
          "scene": {
           "xaxis": {
            "backgroundcolor": "#E5ECF6",
            "gridcolor": "white",
            "gridwidth": 2,
            "linecolor": "white",
            "showbackground": true,
            "ticks": "",
            "zerolinecolor": "white"
           },
           "yaxis": {
            "backgroundcolor": "#E5ECF6",
            "gridcolor": "white",
            "gridwidth": 2,
            "linecolor": "white",
            "showbackground": true,
            "ticks": "",
            "zerolinecolor": "white"
           },
           "zaxis": {
            "backgroundcolor": "#E5ECF6",
            "gridcolor": "white",
            "gridwidth": 2,
            "linecolor": "white",
            "showbackground": true,
            "ticks": "",
            "zerolinecolor": "white"
           }
          },
          "shapedefaults": {
           "line": {
            "color": "#2a3f5f"
           }
          },
          "ternary": {
           "aaxis": {
            "gridcolor": "white",
            "linecolor": "white",
            "ticks": ""
           },
           "baxis": {
            "gridcolor": "white",
            "linecolor": "white",
            "ticks": ""
           },
           "bgcolor": "#E5ECF6",
           "caxis": {
            "gridcolor": "white",
            "linecolor": "white",
            "ticks": ""
           }
          },
          "title": {
           "x": 0.05
          },
          "xaxis": {
           "automargin": true,
           "gridcolor": "white",
           "linecolor": "white",
           "ticks": "",
           "title": {
            "standoff": 15
           },
           "zerolinecolor": "white",
           "zerolinewidth": 2
          },
          "yaxis": {
           "automargin": true,
           "gridcolor": "white",
           "linecolor": "white",
           "ticks": "",
           "title": {
            "standoff": 15
           },
           "zerolinecolor": "white",
           "zerolinewidth": 2
          }
         }
        },
        "xaxis": {
         "anchor": "y",
         "domain": [
          0,
          1
         ],
         "title": {
          "text": "Age"
         }
        },
        "yaxis": {
         "anchor": "x",
         "domain": [
          0,
          1
         ],
         "title": {
          "text": "count"
         }
        }
       }
      }
     },
     "metadata": {},
     "output_type": "display_data"
    }
   ],
   "source": [
    "fig = px.histogram(df1, x = 'Age')\n",
    "fig.show()"
   ]
  },
  {
   "cell_type": "markdown",
   "id": "5dIYCZhKB2BH",
   "metadata": {
    "id": "5dIYCZhKB2BH"
   },
   "source": [
    "Checking the stats in number_columns of the copied dataset"
   ]
  },
  {
   "cell_type": "code",
   "execution_count": 22,
   "id": "744bbc80",
   "metadata": {
    "colab": {
     "base_uri": "https://localhost:8080/",
     "height": 1000
    },
    "execution": {
     "iopub.execute_input": "2022-10-14T19:27:28.018258Z",
     "iopub.status.busy": "2022-10-14T19:27:28.017819Z",
     "iopub.status.idle": "2022-10-14T19:27:29.675280Z",
     "shell.execute_reply": "2022-10-14T19:27:29.674157Z"
    },
    "id": "744bbc80",
    "outputId": "f7447616-a5f3-4a28-f2bb-9530172fbb55",
    "papermill": {
     "duration": 1.678875,
     "end_time": "2022-10-14T19:27:29.677629",
     "exception": false,
     "start_time": "2022-10-14T19:27:27.998754",
     "status": "completed"
    },
    "tags": []
   },
   "outputs": [
    {
     "data": {
      "text/plain": [
       "array([[<Axes: title={'center': 'Age'}>,\n",
       "        <Axes: title={'center': 'Number of Dependents'}>,\n",
       "        <Axes: title={'center': 'Number of Referrals'}>],\n",
       "       [<Axes: title={'center': 'Tenure in Months'}>,\n",
       "        <Axes: title={'center': 'Avg Monthly Long Distance Charges'}>,\n",
       "        <Axes: title={'center': 'Avg Monthly GB Download'}>],\n",
       "       [<Axes: title={'center': 'Monthly Charge'}>,\n",
       "        <Axes: title={'center': 'Total Charges'}>,\n",
       "        <Axes: title={'center': 'Total Extra Data Charges'}>],\n",
       "       [<Axes: title={'center': 'Total Long Distance Charges'}>,\n",
       "        <Axes: title={'center': 'Total Revenue'}>, <Axes: >]],\n",
       "      dtype=object)"
      ]
     },
     "execution_count": 22,
     "metadata": {},
     "output_type": "execute_result"
    },
    {
     "data": {
      "image/png": "[encoded data removed]",
      "text/plain": [
       "<Figure size 1500x1500 with 12 Axes>"
      ]
     },
     "metadata": {},
     "output_type": "display_data"
    }
   ],
   "source": [
    "df1.hist(figsize=(15,15), xrot=30)"
   ]
  },
  {
   "cell_type": "code",
   "execution_count": 23,
   "id": "f546a1f3",
   "metadata": {
    "colab": {
     "base_uri": "https://localhost:8080/"
    },
    "execution": {
     "iopub.execute_input": "2022-10-14T19:27:29.717100Z",
     "iopub.status.busy": "2022-10-14T19:27:29.716405Z",
     "iopub.status.idle": "2022-10-14T19:27:29.724510Z",
     "shell.execute_reply": "2022-10-14T19:27:29.723500Z"
    },
    "id": "f546a1f3",
    "outputId": "019e304e-8421-48b7-a5df-d1df604d4eed",
    "papermill": {
     "duration": 0.030171,
     "end_time": "2022-10-14T19:27:29.726628",
     "exception": false,
     "start_time": "2022-10-14T19:27:29.696457",
     "status": "completed"
    },
    "tags": []
   },
   "outputs": [
    {
     "data": {
      "text/plain": [
       "2       50\n",
       "3       78\n",
       "5       23\n",
       "6       67\n",
       "7       52\n",
       "        ..\n",
       "7036    53\n",
       "7038    20\n",
       "7039    40\n",
       "7040    22\n",
       "7041    21\n",
       "Name: Age, Length: 2194, dtype: int64"
      ]
     },
     "execution_count": 23,
     "metadata": {},
     "output_type": "execute_result"
    }
   ],
   "source": [
    "df1['Age']\n"
   ]
  },
  {
   "cell_type": "code",
   "execution_count": 24,
   "id": "A-PiGYpN7k1D",
   "metadata": {
    "id": "A-PiGYpN7k1D"
   },
   "outputs": [],
   "source": [
    "import matplotlib.pyplot as plt"
   ]
  },
  {
   "cell_type": "markdown",
   "id": "xwtmOiSUCIm6",
   "metadata": {
    "id": "xwtmOiSUCIm6"
   },
   "source": [
    "Visualizing the number of customers who churned, stayed or joined in the company with a bar plot"
   ]
  },
  {
   "cell_type": "code",
   "execution_count": 25,
   "id": "f6289262",
   "metadata": {
    "colab": {
     "base_uri": "https://localhost:8080/",
     "height": 312
    },
    "execution": {
     "iopub.execute_input": "2022-10-14T19:27:29.766263Z",
     "iopub.status.busy": "2022-10-14T19:27:29.765823Z",
     "iopub.status.idle": "2022-10-14T19:27:30.108572Z",
     "shell.execute_reply": "2022-10-14T19:27:30.107364Z"
    },
    "id": "f6289262",
    "outputId": "89a0fd1e-61b0-4f28-d295-3fa8cd67ce3c",
    "papermill": {
     "duration": 0.365164,
     "end_time": "2022-10-14T19:27:30.110958",
     "exception": false,
     "start_time": "2022-10-14T19:27:29.745794",
     "status": "completed"
    },
    "tags": []
   },
   "outputs": [
    {
     "data": {
      "text/plain": [
       "<matplotlib.legend.Legend at 0x21acf85a590>"
      ]
     },
     "execution_count": 25,
     "metadata": {},
     "output_type": "execute_result"
    },
    {
     "data": {
      "image/png": "[encoded data removed]",
      "text/plain": [
       "<Figure size 640x480 with 1 Axes>"
      ]
     },
     "metadata": {},
     "output_type": "display_data"
    }
   ],
   "source": [
    "Customer_Stayed=df1[df1['Customer Status']=='Stayed'].Age\n",
    "Customer_Churned=df1[df1['Customer Status']=='Churned'].Age\n",
    "Customer_Joined=df1[df1['Customer Status']=='Joined'].Age\n",
    "\n",
    "plt.xlabel('Age')\n",
    "plt.ylabel('Customers Numbers')\n",
    "plt.hist([Customer_Stayed,Customer_Churned,Customer_Joined], color=['black','red','blue'],label=['Stayed','Churned','Joined'])\n",
    "\n",
    "plt.title('Customers Behavior ',fontweight =\"bold\")\n",
    "plt.legend()"
   ]
  },
  {
   "cell_type": "code",
   "execution_count": 26,
   "id": "RMY8i4go7p8S",
   "metadata": {
    "id": "RMY8i4go7p8S"
   },
   "outputs": [],
   "source": [
    "import seaborn as sns"
   ]
  },
  {
   "cell_type": "markdown",
   "id": "rdsJgJcXCO1f",
   "metadata": {
    "id": "rdsJgJcXCO1f"
   },
   "source": [
    " ## Defining Correlation between the columns in the dataset"
   ]
  },
  {
   "cell_type": "code",
   "execution_count": 28,
   "id": "18228f30",
   "metadata": {
    "colab": {
     "base_uri": "https://localhost:8080/",
     "height": 783
    },
    "execution": {
     "iopub.execute_input": "2022-10-14T19:27:30.152363Z",
     "iopub.status.busy": "2022-10-14T19:27:30.151710Z",
     "iopub.status.idle": "2022-10-14T19:27:31.219518Z",
     "shell.execute_reply": "2022-10-14T19:27:31.218365Z"
    },
    "id": "18228f30",
    "outputId": "d413d52b-32ca-4ebf-a200-690baaf40416",
    "papermill": {
     "duration": 1.091517,
     "end_time": "2022-10-14T19:27:31.222453",
     "exception": false,
     "start_time": "2022-10-14T19:27:30.130936",
     "status": "completed"
    },
    "tags": []
   },
   "outputs": [
    {
     "data": {
      "text/plain": [
       "<Axes: >"
      ]
     },
     "execution_count": 28,
     "metadata": {},
     "output_type": "execute_result"
    },
    {
     "data": {
      "image/png": "[encoded data removed]",
      "text/plain": [
       "<Figure size 2000x1000 with 2 Axes>"
      ]
     },
     "metadata": {},
     "output_type": "display_data"
    }
   ],
   "source": [
    "numerical_features = df1.select_dtypes(include=['number'])\n",
    "\n",
    "# Calculate the correlation matrix.\n",
    "data = numerical_features.corr()\n",
    "\n",
    "# Proceed with plotting the heatmap.\n",
    "plt.figure(figsize=(20, 10))\n",
    "sns.heatmap(data)"
   ]
  },
  {
   "cell_type": "markdown",
   "id": "LuiN6TesCzzD",
   "metadata": {
    "id": "LuiN6TesCzzD"
   },
   "source": [
    "Analyzing Outlier in the dataset with respect to customer status"
   ]
  },
  {
   "cell_type": "code",
   "execution_count": 29,
   "id": "624a095f",
   "metadata": {
    "colab": {
     "base_uri": "https://localhost:8080/",
     "height": 877
    },
    "execution": {
     "iopub.execute_input": "2022-10-14T19:27:31.265880Z",
     "iopub.status.busy": "2022-10-14T19:27:31.265467Z",
     "iopub.status.idle": "2022-10-14T19:27:33.214810Z",
     "shell.execute_reply": "2022-10-14T19:27:33.213685Z"
    },
    "id": "624a095f",
    "outputId": "c3ce0159-91e7-49d4-b9fc-746f8f9f7007",
    "papermill": {
     "duration": 1.973651,
     "end_time": "2022-10-14T19:27:33.217310",
     "exception": false,
     "start_time": "2022-10-14T19:27:31.243659",
     "status": "completed"
    },
    "tags": []
   },
   "outputs": [
    {
     "data": {
      "image/png": "[encoded data removed]",
      "text/plain": [
       "<Figure size 1500x1500 with 12 Axes>"
      ]
     },
     "metadata": {},
     "output_type": "display_data"
    }
   ],
   "source": [
    "fig, ax = plt.subplots(4,3, figsize = (15,15))\n",
    "for i, subplot in zip(number_columns, ax.flatten()):\n",
    "    sns.boxplot(x = 'Customer Status', y = i , data = df1, ax = subplot)"
   ]
  },
  {
   "cell_type": "code",
   "execution_count": 30,
   "id": "f10db61a",
   "metadata": {
    "colab": {
     "base_uri": "https://localhost:8080/",
     "height": 542
    },
    "execution": {
     "iopub.execute_input": "2022-10-14T19:27:33.265008Z",
     "iopub.status.busy": "2022-10-14T19:27:33.264273Z",
     "iopub.status.idle": "2022-10-14T19:27:33.344763Z",
     "shell.execute_reply": "2022-10-14T19:27:33.343896Z"
    },
    "id": "f10db61a",
    "outputId": "1cb2f49d-a6a8-4cb6-9029-edea01fb5005",
    "papermill": {
     "duration": 0.107149,
     "end_time": "2022-10-14T19:27:33.346967",
     "exception": false,
     "start_time": "2022-10-14T19:27:33.239818",
     "status": "completed"
    },
    "tags": []
   },
   "outputs": [
    {
     "data": {
      "application/vnd.plotly.v1+json": {
       "config": {
        "plotlyServerURL": "https://plot.ly"
       },
       "data": [
        {
         "coloraxis": "coloraxis",
         "hovertemplate": "Age=%{x}<br>Total Charges=%{y}<br>count=%{z}<extra></extra>",
         "name": "",
         "type": "histogram2d",
         "x": [
          50,
          78,
          23,
          67,
          52,
          68,
          32,
          58,
          72,
          30,
          23,
          37,
          60,
          60,
          20,
          38,
          54,
          78,
          30,
          20,
          55,
          71,
          49,
          61,
          62,
          42,
          55,
          57,
          25,
          43,
          48,
          56,
          56,
          26,
          30,
          63,
          52,
          22,
          26,
          58,
          66,
          73,
          46,
          40,
          53,
          45,
          62,
          25,
          69,
          64,
          44,
          58,
          29,
          22,
          53,
          76,
          57,
          45,
          49,
          40,
          38,
          35,
          29,
          25,
          46,
          21,
          62,
          48,
          55,
          77,
          69,
          70,
          54,
          22,
          28,
          58,
          55,
          56,
          63,
          24,
          21,
          31,
          42,
          64,
          76,
          25,
          58,
          21,
          75,
          35,
          64,
          58,
          44,
          43,
          34,
          34,
          21,
          78,
          47,
          64,
          79,
          39,
          32,
          62,
          70,
          47,
          63,
          58,
          74,
          58,
          61,
          28,
          61,
          41,
          25,
          70,
          36,
          66,
          66,
          59,
          26,
          43,
          51,
          32,
          76,
          19,
          21,
          63,
          41,
          41,
          40,
          35,
          60,
          54,
          28,
          50,
          33,
          30,
          40,
          39,
          28,
          69,
          45,
          32,
          34,
          35,
          56,
          80,
          78,
          20,
          61,
          33,
          74,
          24,
          61,
          42,
          41,
          56,
          45,
          28,
          79,
          56,
          32,
          52,
          54,
          41,
          35,
          48,
          53,
          44,
          64,
          39,
          31,
          43,
          29,
          56,
          49,
          33,
          27,
          24,
          43,
          65,
          48,
          76,
          33,
          56,
          29,
          63,
          53,
          34,
          30,
          47,
          62,
          32,
          21,
          55,
          57,
          29,
          43,
          29,
          74,
          29,
          37,
          35,
          55,
          70,
          23,
          74,
          40,
          44,
          54,
          24,
          22,
          67,
          28,
          40,
          23,
          38,
          46,
          30,
          32,
          40,
          59,
          71,
          54,
          73,
          66,
          47,
          63,
          39,
          79,
          51,
          37,
          25,
          36,
          56,
          48,
          63,
          35,
          46,
          33,
          47,
          19,
          42,
          67,
          67,
          36,
          39,
          36,
          41,
          32,
          48,
          53,
          36,
          35,
          55,
          59,
          66,
          61,
          22,
          42,
          33,
          60,
          44,
          35,
          55,
          21,
          54,
          70,
          24,
          54,
          56,
          54,
          49,
          27,
          77,
          51,
          68,
          26,
          41,
          70,
          64,
          46,
          40,
          30,
          56,
          66,
          80,
          70,
          52,
          69,
          57,
          27,
          62,
          30,
          73,
          58,
          48,
          49,
          33,
          59,
          22,
          22,
          23,
          56,
          44,
          46,
          25,
          80,
          62,
          65,
          37,
          31,
          65,
          27,
          22,
          29,
          77,
          45,
          68,
          62,
          44,
          62,
          51,
          48,
          42,
          31,
          39,
          61,
          35,
          78,
          39,
          55,
          39,
          75,
          45,
          63,
          25,
          21,
          57,
          21,
          36,
          23,
          31,
          34,
          58,
          53,
          21,
          25,
          39,
          64,
          70,
          31,
          26,
          36,
          79,
          76,
          53,
          39,
          42,
          76,
          29,
          77,
          45,
          40,
          71,
          50,
          64,
          57,
          32,
          28,
          27,
          54,
          44,
          43,
          53,
          44,
          30,
          44,
          24,
          65,
          22,
          79,
          47,
          30,
          42,
          32,
          40,
          39,
          30,
          80,
          19,
          70,
          73,
          31,
          28,
          80,
          22,
          22,
          59,
          63,
          31,
          31,
          27,
          35,
          35,
          23,
          50,
          70,
          59,
          58,
          28,
          71,
          45,
          20,
          77,
          35,
          26,
          21,
          71,
          23,
          39,
          23,
          42,
          47,
          31,
          62,
          57,
          65,
          21,
          73,
          67,
          51,
          62,
          44,
          78,
          45,
          32,
          23,
          49,
          47,
          24,
          48,
          51,
          51,
          71,
          50,
          32,
          77,
          49,
          78,
          42,
          31,
          33,
          60,
          56,
          49,
          57,
          44,
          66,
          37,
          63,
          49,
          51,
          70,
          21,
          27,
          42,
          20,
          25,
          69,
          29,
          22,
          68,
          31,
          22,
          60,
          38,
          71,
          58,
          62,
          35,
          41,
          38,
          22,
          21,
          29,
          56,
          20,
          58,
          34,
          22,
          24,
          33,
          21,
          27,
          46,
          42,
          44,
          38,
          63,
          69,
          23,
          39,
          51,
          25,
          62,
          55,
          70,
          46,
          38,
          60,
          52,
          22,
          49,
          28,
          43,
          54,
          45,
          40,
          76,
          61,
          41,
          74,
          25,
          40,
          66,
          43,
          29,
          32,
          62,
          45,
          79,
          32,
          33,
          79,
          68,
          67,
          30,
          19,
          72,
          20,
          36,
          74,
          66,
          40,
          69,
          20,
          46,
          60,
          30,
          26,
          26,
          55,
          38,
          46,
          70,
          51,
          25,
          30,
          55,
          48,
          57,
          20,
          32,
          54,
          24,
          25,
          55,
          68,
          68,
          22,
          45,
          49,
          70,
          65,
          58,
          71,
          43,
          79,
          58,
          33,
          73,
          76,
          73,
          28,
          32,
          79,
          47,
          34,
          48,
          68,
          28,
          65,
          73,
          52,
          26,
          45,
          29,
          79,
          42,
          40,
          22,
          32,
          41,
          74,
          54,
          60,
          60,
          52,
          75,
          49,
          60,
          30,
          29,
          67,
          26,
          64,
          37,
          46,
          22,
          30,
          77,
          39,
          27,
          21,
          62,
          67,
          50,
          49,
          41,
          64,
          69,
          64,
          61,
          26,
          46,
          36,
          24,
          29,
          37,
          64,
          64,
          44,
          22,
          29,
          59,
          56,
          45,
          56,
          28,
          34,
          74,
          33,
          57,
          64,
          38,
          46,
          32,
          58,
          27,
          58,
          41,
          76,
          69,
          25,
          73,
          54,
          58,
          44,
          25,
          32,
          21,
          64,
          57,
          30,
          51,
          35,
          36,
          52,
          37,
          29,
          40,
          38,
          47,
          55,
          33,
          28,
          34,
          32,
          73,
          60,
          51,
          42,
          34,
          21,
          32,
          75,
          32,
          59,
          40,
          71,
          61,
          35,
          57,
          45,
          20,
          57,
          26,
          23,
          47,
          47,
          64,
          28,
          66,
          40,
          43,
          77,
          27,
          77,
          28,
          74,
          58,
          69,
          60,
          72,
          38,
          46,
          79,
          23,
          34,
          24,
          29,
          64,
          58,
          70,
          69,
          61,
          23,
          58,
          70,
          38,
          65,
          24,
          70,
          41,
          55,
          42,
          42,
          61,
          44,
          53,
          45,
          74,
          76,
          40,
          28,
          73,
          40,
          40,
          80,
          71,
          57,
          78,
          45,
          78,
          20,
          57,
          47,
          48,
          60,
          57,
          36,
          39,
          59,
          46,
          60,
          36,
          19,
          44,
          32,
          41,
          55,
          43,
          74,
          57,
          61,
          26,
          21,
          52,
          68,
          42,
          38,
          50,
          40,
          59,
          30,
          60,
          23,
          37,
          78,
          19,
          27,
          73,
          41,
          68,
          25,
          52,
          58,
          60,
          26,
          48,
          56,
          47,
          57,
          46,
          71,
          51,
          34,
          59,
          63,
          70,
          76,
          49,
          62,
          37,
          20,
          78,
          50,
          57,
          79,
          25,
          63,
          20,
          23,
          23,
          73,
          38,
          77,
          69,
          53,
          21,
          74,
          55,
          59,
          35,
          23,
          28,
          28,
          42,
          24,
          21,
          56,
          54,
          32,
          41,
          56,
          23,
          35,
          27,
          52,
          21,
          27,
          48,
          51,
          33,
          55,
          50,
          45,
          50,
          75,
          49,
          25,
          74,
          42,
          30,
          55,
          49,
          62,
          25,
          33,
          59,
          33,
          20,
          54,
          35,
          49,
          33,
          60,
          27,
          25,
          42,
          53,
          34,
          74,
          21,
          42,
          51,
          35,
          70,
          56,
          77,
          54,
          55,
          23,
          31,
          32,
          55,
          63,
          33,
          71,
          76,
          35,
          30,
          68,
          62,
          55,
          32,
          29,
          25,
          80,
          72,
          66,
          80,
          41,
          55,
          71,
          41,
          42,
          58,
          66,
          77,
          80,
          44,
          24,
          51,
          36,
          55,
          40,
          63,
          54,
          25,
          56,
          42,
          78,
          43,
          46,
          27,
          61,
          63,
          68,
          19,
          30,
          36,
          37,
          27,
          23,
          29,
          73,
          61,
          64,
          37,
          64,
          52,
          38,
          68,
          37,
          49,
          67,
          57,
          72,
          55,
          57,
          22,
          36,
          80,
          38,
          23,
          30,
          53,
          50,
          41,
          65,
          52,
          21,
          25,
          42,
          75,
          31,
          73,
          23,
          30,
          21,
          32,
          51,
          21,
          44,
          26,
          48,
          35,
          26,
          52,
          30,
          75,
          30,
          37,
          62,
          41,
          63,
          60,
          23,
          78,
          51,
          74,
          33,
          59,
          35,
          20,
          23,
          20,
          60,
          56,
          34,
          64,
          32,
          72,
          36,
          54,
          57,
          45,
          23,
          49,
          60,
          58,
          73,
          80,
          39,
          21,
          69,
          23,
          49,
          59,
          28,
          23,
          40,
          20,
          32,
          19,
          72,
          42,
          33,
          68,
          64,
          24,
          75,
          64,
          27,
          51,
          54,
          72,
          51,
          46,
          21,
          29,
          75,
          64,
          50,
          45,
          30,
          80,
          59,
          35,
          65,
          80,
          30,
          77,
          33,
          25,
          49,
          31,
          22,
          41,
          80,
          46,
          25,
          44,
          80,
          49,
          64,
          53,
          23,
          29,
          79,
          54,
          40,
          80,
          26,
          68,
          41,
          40,
          27,
          30,
          23,
          47,
          70,
          39,
          35,
          68,
          50,
          35,
          35,
          42,
          50,
          55,
          54,
          39,
          32,
          77,
          49,
          73,
          22,
          22,
          70,
          40,
          53,
          62,
          73,
          22,
          62,
          75,
          37,
          44,
          22,
          51,
          52,
          35,
          65,
          27,
          33,
          37,
          23,
          64,
          50,
          38,
          37,
          56,
          49,
          30,
          32,
          52,
          72,
          39,
          21,
          50,
          53,
          56,
          41,
          47,
          22,
          68,
          51,
          47,
          33,
          27,
          36,
          31,
          80,
          48,
          19,
          74,
          78,
          69,
          35,
          20,
          74,
          57,
          31,
          20,
          78,
          43,
          28,
          25,
          47,
          33,
          79,
          73,
          44,
          65,
          43,
          22,
          43,
          60,
          51,
          43,
          20,
          42,
          26,
          24,
          35,
          26,
          51,
          72,
          54,
          39,
          21,
          36,
          52,
          53,
          65,
          69,
          48,
          61,
          64,
          63,
          74,
          22,
          49,
          34,
          75,
          31,
          56,
          53,
          19,
          34,
          34,
          57,
          26,
          35,
          54,
          78,
          80,
          70,
          36,
          52,
          63,
          67,
          21,
          41,
          62,
          48,
          48,
          44,
          25,
          51,
          51,
          28,
          71,
          76,
          34,
          45,
          66,
          72,
          19,
          30,
          19,
          21,
          41,
          29,
          31,
          56,
          68,
          28,
          34,
          79,
          46,
          29,
          64,
          22,
          25,
          23,
          58,
          57,
          55,
          78,
          35,
          33,
          48,
          41,
          78,
          47,
          61,
          41,
          57,
          40,
          74,
          20,
          45,
          39,
          56,
          24,
          21,
          72,
          51,
          55,
          34,
          54,
          62,
          54,
          67,
          27,
          55,
          37,
          25,
          47,
          61,
          40,
          20,
          32,
          51,
          54,
          30,
          53,
          19,
          19,
          53,
          72,
          75,
          67,
          41,
          27,
          32,
          21,
          36,
          59,
          58,
          72,
          20,
          78,
          45,
          27,
          40,
          46,
          39,
          55,
          68,
          70,
          32,
          73,
          76,
          68,
          47,
          33,
          47,
          53,
          44,
          56,
          27,
          45,
          41,
          42,
          53,
          37,
          36,
          21,
          33,
          20,
          69,
          71,
          46,
          42,
          45,
          49,
          19,
          57,
          19,
          55,
          79,
          26,
          43,
          34,
          71,
          54,
          46,
          64,
          30,
          46,
          53,
          29,
          50,
          40,
          69,
          42,
          19,
          41,
          27,
          58,
          38,
          77,
          22,
          68,
          33,
          62,
          20,
          33,
          21,
          33,
          20,
          42,
          58,
          56,
          42,
          49,
          37,
          28,
          19,
          62,
          26,
          50,
          55,
          48,
          48,
          23,
          48,
          44,
          50,
          39,
          20,
          33,
          49,
          30,
          39,
          63,
          54,
          51,
          21,
          71,
          47,
          50,
          52,
          61,
          72,
          61,
          67,
          19,
          22,
          61,
          47,
          31,
          68,
          29,
          38,
          50,
          59,
          68,
          59,
          30,
          66,
          61,
          19,
          66,
          79,
          19,
          46,
          62,
          63,
          71,
          63,
          54,
          20,
          19,
          23,
          51,
          56,
          50,
          64,
          29,
          26,
          54,
          42,
          47,
          61,
          40,
          43,
          42,
          57,
          46,
          77,
          53,
          34,
          70,
          46,
          31,
          63,
          38,
          79,
          48,
          62,
          79,
          27,
          74,
          48,
          25,
          20,
          30,
          34,
          64,
          31,
          20,
          34,
          74,
          47,
          70,
          28,
          47,
          47,
          38,
          72,
          37,
          45,
          66,
          55,
          27,
          66,
          21,
          56,
          57,
          55,
          70,
          69,
          53,
          47,
          72,
          32,
          28,
          78,
          26,
          39,
          30,
          62,
          52,
          80,
          25,
          75,
          78,
          30,
          59,
          26,
          80,
          31,
          75,
          50,
          41,
          47,
          71,
          39,
          66,
          48,
          45,
          29,
          47,
          56,
          34,
          29,
          33,
          35,
          78,
          42,
          45,
          55,
          62,
          31,
          56,
          26,
          41,
          55,
          23,
          34,
          60,
          31,
          69,
          22,
          26,
          24,
          31,
          44,
          59,
          28,
          59,
          34,
          53,
          38,
          59,
          62,
          28,
          54,
          65,
          69,
          75,
          73,
          32,
          54,
          48,
          42,
          55,
          66,
          51,
          60,
          75,
          76,
          25,
          19,
          57,
          79,
          19,
          53,
          52,
          47,
          60,
          30,
          42,
          75,
          31,
          20,
          30,
          34,
          60,
          32,
          47,
          29,
          57,
          38,
          19,
          46,
          45,
          73,
          25,
          42,
          48,
          52,
          43,
          80,
          35,
          49,
          63,
          26,
          62,
          33,
          30,
          53,
          25,
          65,
          21,
          78,
          23,
          49,
          38,
          51,
          37,
          76,
          76,
          33,
          56,
          63,
          74,
          57,
          29,
          68,
          74,
          42,
          20,
          31,
          30,
          45,
          71,
          39,
          69,
          52,
          37,
          62,
          48,
          49,
          27,
          30,
          27,
          54,
          52,
          44,
          38,
          76,
          59,
          75,
          23,
          61,
          67,
          20,
          61,
          19,
          19,
          27,
          42,
          50,
          63,
          41,
          80,
          50,
          23,
          56,
          21,
          36,
          73,
          49,
          34,
          33,
          49,
          59,
          64,
          20,
          31,
          30,
          75,
          61,
          47,
          59,
          21,
          60,
          41,
          54,
          59,
          61,
          72,
          47,
          57,
          47,
          64,
          49,
          37,
          34,
          52,
          22,
          43,
          54,
          68,
          25,
          41,
          38,
          27,
          32,
          79,
          46,
          60,
          71,
          33,
          25,
          34,
          38,
          19,
          34,
          33,
          23,
          22,
          63,
          47,
          35,
          58,
          32,
          51,
          45,
          44,
          45,
          23,
          28,
          34,
          65,
          19,
          61,
          26,
          62,
          20,
          19,
          62,
          79,
          56,
          56,
          73,
          65,
          53,
          77,
          50,
          72,
          72,
          32,
          60,
          29,
          50,
          67,
          22,
          72,
          76,
          73,
          35,
          44,
          80,
          68,
          39,
          71,
          59,
          20,
          21,
          40,
          75,
          39,
          46,
          57,
          61,
          74,
          61,
          20,
          77,
          25,
          43,
          49,
          66,
          26,
          30,
          27,
          56,
          80,
          62,
          43,
          39,
          45,
          27,
          60,
          75,
          30,
          44,
          36,
          44,
          58,
          73,
          51,
          53,
          46,
          45,
          30,
          57,
          70,
          39,
          33,
          55,
          73,
          24,
          55,
          39,
          76,
          34,
          57,
          25,
          46,
          51,
          68,
          72,
          26,
          22,
          45,
          49,
          64,
          40,
          19,
          49,
          41,
          48,
          44,
          76,
          56,
          62,
          24,
          41,
          32,
          61,
          36,
          30,
          62,
          47,
          69,
          42,
          21,
          36,
          51,
          62,
          41,
          34,
          24,
          49,
          37,
          51,
          64,
          60,
          24,
          47,
          40,
          46,
          54,
          41,
          77,
          80,
          40,
          51,
          32,
          79,
          35,
          39,
          52,
          65,
          20,
          43,
          59,
          30,
          47,
          25,
          38,
          54,
          33,
          42,
          35,
          34,
          26,
          78,
          40,
          44,
          24,
          63,
          69,
          21,
          45,
          20,
          34,
          62,
          80,
          21,
          44,
          77,
          65,
          36,
          23,
          65,
          44,
          25,
          62,
          53,
          65,
          39,
          24,
          21,
          28,
          54,
          56,
          55,
          53,
          33,
          27,
          78,
          47,
          39,
          40,
          22,
          27,
          21,
          40,
          42,
          56,
          41,
          22,
          49,
          61,
          45,
          35,
          20,
          25,
          37,
          75,
          63,
          23,
          58,
          79,
          46,
          63,
          25,
          78,
          70,
          63,
          63,
          42,
          68,
          59,
          68,
          35,
          25,
          53,
          39,
          48,
          24,
          20,
          23,
          64,
          61,
          39,
          58,
          35,
          60,
          36,
          21,
          46,
          27,
          19,
          26,
          69,
          75,
          51,
          38,
          41,
          50,
          62,
          35,
          45,
          65,
          38,
          42,
          42,
          57,
          30,
          23,
          68,
          25,
          20,
          23,
          50,
          38,
          23,
          58,
          51,
          47,
          33,
          26,
          56,
          52,
          46,
          29,
          74,
          55,
          54,
          34,
          57,
          62,
          50,
          28,
          38,
          37,
          59,
          74,
          60,
          71,
          51,
          49,
          37,
          53,
          19,
          70,
          77,
          38,
          42,
          25,
          52,
          62,
          21,
          43,
          26,
          39,
          40,
          33,
          22,
          24,
          62,
          51,
          25,
          28,
          69,
          44,
          35,
          35,
          78,
          41,
          76,
          73,
          52,
          63,
          53,
          30,
          49,
          60,
          32,
          25,
          32,
          31,
          57,
          57,
          64,
          40,
          38,
          52,
          29,
          53,
          61,
          38,
          33,
          48,
          72,
          50,
          52,
          33,
          27,
          49,
          48,
          57,
          26,
          48,
          23,
          42,
          75,
          67,
          35,
          42,
          20,
          23,
          59,
          63,
          51,
          77,
          28,
          51,
          47,
          60,
          51,
          54,
          37,
          59,
          59,
          60,
          62,
          38,
          45,
          41,
          79,
          59,
          52,
          50,
          65,
          50,
          43,
          48,
          61,
          63,
          58,
          53,
          52,
          73,
          58,
          59,
          38,
          51,
          65,
          31,
          55,
          27,
          37,
          42,
          66,
          60,
          32,
          73,
          63,
          28,
          60,
          38,
          55,
          33,
          45,
          53,
          55,
          58,
          38,
          58,
          53,
          75,
          55,
          65,
          26,
          31,
          20,
          53,
          20,
          40,
          22,
          21
         ],
         "xaxis": "x",
         "xbingroup": "x",
         "y": [
          280.85,
          1237.85,
          571.45,
          7904.25,
          5377.8,
          340.35,
          7261.25,
          6849.4,
          72.1,
          1849.95,
          3247.55,
          4959.6,
          5597.65,
          1929,
          2078.95,
          3532,
          44.3,
          1120.3,
          314.55,
          6252.7,
          8182.85,
          2861.45,
          1442.2,
          4059.35,
          5526.75,
          1553.95,
          5976.9,
          1052.4,
          80.2,
          70.9,
          1152.7,
          8496.7,
          1972.35,
          855.3,
          8127.6,
          6049.5,
          2438.6,
          7113.75,
          371.9,
          167.3,
          273.4,
          89.3,
          235.05,
          1144.6,
          4908.25,
          85.55,
          5405.8,
          6339.3,
          6140.85,
          4354.45,
          3431.75,
          2227.1,
          2045.55,
          181.5,
          3486.65,
          2303.35,
          1522.7,
          6717.9,
          475.1,
          4524.05,
          318.1,
          2531.8,
          322.9,
          168.6,
          5424.25,
          6982.5,
          3835.55,
          6157.6,
          330.15,
          233.7,
          5360.75,
          2911.3,
          521.9,
          3432.9,
          6263.8,
          1742.5,
          1468.75,
          1992.2,
          50.15,
          3366.05,
          1271.8,
          3563.8,
          5897.4,
          1398.6,
          70.45,
          1284.2,
          3474.2,
          229.55,
          5373.1,
          6526.65,
          2674.15,
          44.4,
          4297.95,
          4428.45,
          4947.55,
          4707.1,
          5714.2,
          1294.6,
          3753.2,
          2139.1,
          6431.05,
          2404.85,
          2651.1,
          2807.1,
          6312.9,
          3365.85,
          2715.3,
          1743.05,
          4735.35,
          3721.9,
          1119.35,
          1558.7,
          1712.9,
          71.1,
          2624.25,
          1146.65,
          7882.5,
          4874.7,
          1857.75,
          113.1,
          4048.95,
          957.1,
          5356.45,
          4630.2,
          5867,
          1374.9,
          3930.55,
          2072.75,
          3168.75,
          837.5,
          4542.35,
          1820.45,
          2068.55,
          5029.05,
          402.6,
          6069.25,
          2921.75,
          162.45,
          1095.3,
          1555.65,
          6886.25,
          293.85,
          2157.95,
          713,
          1323.7,
          2985.25,
          1292.2,
          2874.45,
          2970.8,
          4479.2,
          8543.25,
          5682.25,
          154.85,
          4653.85,
          4433.3,
          1060.6,
          4335.2,
          4613.95,
          576.95,
          364.55,
          5212.65,
          902.25,
          2157.5,
          713.75,
          3704.15,
          6743.55,
          741.7,
          6287.3,
          2679.7,
          225.65,
          82.3,
          6224.8,
          5327.25,
          4738.3,
          3409.1,
          4798.4,
          1882.55,
          262.05,
          319.85,
          639.45,
          154.65,
          70.85,
          1077.05,
          2310.2,
          4138.9,
          1461.15,
          414.1,
          7222.75,
          2088.75,
          259.8,
          4096.9,
          1111.2,
          425.9,
          4922.4,
          385.9,
          4237.5,
          45.7,
          4872.2,
          1056.95,
          8349.45,
          7987.6,
          4713.4,
          4226.7,
          1799.3,
          247.25,
          5294.6,
          544.55,
          5538.8,
          718.1,
          3527.6,
          788.8,
          2369.3,
          4107.25,
          5812.6,
          4298.45,
          6700.05,
          70.8,
          89.55,
          2312.55,
          7007.6,
          1285.8,
          5824.75,
          953.65,
          5264.3,
          492.55,
          6690.75,
          572.85,
          6703.5,
          3342,
          825.7,
          2917.65,
          70.85,
          1266.35,
          7993.3,
          5953,
          6480.9,
          472.65,
          4421.95,
          69.75,
          69.1,
          4261.2,
          7611.55,
          7234.8,
          2455.05,
          2998,
          1424.95,
          834.15,
          3471.1,
          3804.4,
          6145.2,
          1389.85,
          7266.95,
          4164.4,
          4475.9,
          5811.8,
          2708.2,
          74.95,
          7932.5,
          3023.55,
          7337.55,
          1672.35,
          5869.4,
          990.3,
          2509.25,
          3491.55,
          1347.15,
          2462.55,
          1135.7,
          695.75,
          690.5,
          415.95,
          4513.65,
          244.85,
          267.35,
          5450.7,
          4304,
          663.55,
          1218.25,
          114.7,
          2169.4,
          2857.6,
          195.3,
          655.9,
          5283.95,
          5662.25,
          4758.8,
          1375.15,
          7379.8,
          1648.45,
          3842.6,
          149.55,
          6841.3,
          2249.95,
          959.9,
          220.6,
          757.1,
          6944.5,
          5762.95,
          7323.15,
          834.1,
          1029.35,
          6654.1,
          1374.35,
          688.5,
          349.8,
          483.3,
          4858.7,
          683.25,
          70.3,
          740.8,
          424.45,
          1536.75,
          1430.05,
          289.1,
          818.45,
          1087.45,
          49.9,
          6077.75,
          5706.2,
          89.3,
          5669.5,
          2603.1,
          653.15,
          7968.85,
          80,
          1949.4,
          7548.6,
          49.9,
          4627.8,
          1037.75,
          581.7,
          6936.85,
          490.55,
          43.8,
          8404.9,
          2936.25,
          8477.7,
          5445.95,
          5186,
          6145.85,
          3371,
          1095.65,
          1462.6,
          703.55,
          2961.4,
          62.05,
          4977.2,
          7723.9,
          4895.1,
          6392.85,
          220.65,
          7511.9,
          593.45,
          60.1,
          900.5,
          6822.15,
          4839.15,
          2636.05,
          160.8,
          338.1,
          4200.25,
          45.15,
          3217.65,
          6424.7,
          7002.95,
          1752.55,
          3629.2,
          3810.55,
          1208.35,
          5336.35,
          244.65,
          7930.55,
          3756.4,
          492,
          893,
          6856.95,
          3970.4,
          6521.9,
          727.8,
          3638.25,
          4126.35,
          82.7,
          6081.4,
          362.2,
          5121.75,
          6567.9,
          75.35,
          449.75,
          3561.15,
          411.75,
          3062.45,
          1247.75,
          2745.2,
          8333.95,
          5498.8,
          125.95,
          1496.9,
          48.6,
          867.1,
          654.5,
          4911.05,
          2000.2,
          2383.6,
          69.55,
          1653.85,
          6078.75,
          5411.65,
          4882.8,
          74.2,
          2610.65,
          7852.4,
          5071.05,
          1961.6,
          50.15,
          1427.55,
          4187.75,
          834.2,
          242.8,
          617.85,
          7099,
          2224.5,
          2001.5,
          1558.65,
          333.65,
          61.15,
          6683.4,
          44,
          5032.25,
          1101.85,
          7674.55,
          964.9,
          6474.45,
          6332.75,
          6710.5,
          81.95,
          1131.2,
          4674.4,
          970.45,
          74.6,
          6871.7,
          168.2,
          3036.75,
          1801.1,
          5324.5,
          8100.55,
          204.7,
          1808.7,
          324.6,
          503.6,
          185.55,
          4133.95,
          318.6,
          45.6,
          1588.25,
          1178.75,
          5730.15,
          1405.3,
          1129.1,
          1380.4,
          609.65,
          420.45,
          45.65,
          1682.4,
          261.25,
          5431.9,
          1422.05,
          2635,
          1111.85,
          989.45,
          3566.7,
          6293.45,
          4681.75,
          1490.4,
          1718.95,
          1885.15,
          6921.7,
          3349.1,
          6388.65,
          5125.75,
          50.8,
          5581.05,
          791.7,
          8297.5,
          6579.05,
          1956.4,
          5401.9,
          3692.85,
          3145.15,
          6017.65,
          2471.6,
          5810.9,
          767.9,
          6363.45,
          79.15,
          7789.6,
          4914.9,
          4060.55,
          6840.95,
          571.05,
          45.4,
          270.7,
          6017.9,
          4920.8,
          5985,
          1940.8,
          4386.2,
          5784.3,
          3058.65,
          2024.1,
          3913.3,
          2832.75,
          2722.2,
          1861.5,
          3050.15,
          4981.15,
          7939.25,
          541.9,
          5720.95,
          81.25,
          546.45,
          6578.55,
          523.5,
          6413.65,
          8317.95,
          3442.15,
          219.65,
          4534.9,
          6448.05,
          7719.5,
          3465.7,
          1127.35,
          5948.7,
          4009.2,
          70.3,
          651.55,
          4250.1,
          3886.05,
          1060.2,
          2613.4,
          733.95,
          7943.45,
          1642.75,
          2852.4,
          3273.55,
          5458.8,
          169.65,
          7882.25,
          567.45,
          2614.1,
          79.5,
          3777.15,
          7085.5,
          2093.4,
          6585.35,
          5873.75,
          5638.3,
          186.05,
          4535.85,
          506.9,
          4378.35,
          3874.1,
          4915.15,
          641.25,
          3143.65,
          1901.65,
          540.95,
          1164.3,
          340.85,
          225.6,
          69.6,
          746.5,
          669,
          4929.55,
          5760.65,
          1145.7,
          2169.75,
          7482.1,
          898.35,
          7559.55,
          2510.7,
          4834,
          3340.55,
          6951.15,
          2807.65,
          718.55,
          758.6,
          7118.9,
          2948.6,
          958.25,
          5448.6,
          3551.65,
          181.6,
          273.25,
          181.7,
          49.55,
          2560.1,
          90.75,
          5986.55,
          184.1,
          1470.05,
          50.15,
          2364,
          6137,
          4730.6,
          4805.65,
          908.55,
          930.4,
          3251.3,
          7567.2,
          601.6,
          5222.35,
          6997.3,
          253.8,
          4896.35,
          7616,
          341.6,
          5025.85,
          3775.85,
          6449.15,
          199.75,
          3988.5,
          7532.15,
          2231.05,
          3161.4,
          80.35,
          1218.25,
          68.65,
          1727.5,
          5733.4,
          79.25,
          4016.85,
          3303.05,
          140.1,
          5388.15,
          2416.55,
          4786.1,
          3132.75,
          6770.5,
          6052.25,
          1406.65,
          2038.7,
          6501.35,
          5566.4,
          4312.5,
          777.3,
          1994.3,
          4469.1,
          3593.8,
          1166.7,
          98.5,
          3870,
          995.35,
          3301.05,
          1253.5,
          1607.2,
          1078.9,
          7732.65,
          2341.55,
          3015.75,
          220.45,
          7430.75,
          573.3,
          5883.85,
          3351.55,
          2964.8,
          1993.25,
          5617.75,
          5676.65,
          6125.4,
          858.6,
          3478.15,
          2658.8,
          89.9,
          572.45,
          431,
          85.8,
          4620.4,
          3503.5,
          4213.35,
          944.65,
          55.4,
          69.95,
          5815.15,
          248.4,
          6474.4,
          43.95,
          6595,
          929.3,
          5918.8,
          947.3,
          2867.75,
          6018.65,
          910.45,
          91.1,
          1296.8,
          5453.4,
          627.4,
          5899.85,
          1175.6,
          270.8,
          6669.45,
          6425.65,
          3097,
          3928.3,
          5175.3,
          100.25,
          91.7,
          239.45,
          7611.85,
          2088.05,
          6631.85,
          1507,
          3017.65,
          2538.2,
          742.95,
          2727.3,
          7061.65,
          7746.7,
          70.25,
          851.75,
          330.05,
          1775.8,
          747.2,
          276.5,
          7723.7,
          4438.2,
          4890.5,
          5893.9,
          3759.05,
          75.05,
          74.2,
          5084.65,
          1130.85,
          4747.5,
          266.8,
          3474.05,
          573.75,
          2085.45,
          7288.4,
          2847.4,
          3655.45,
          1173.55,
          1992.85,
          393.45,
          889,
          6341.45,
          7405.5,
          1132.35,
          273,
          5135.15,
          462.8,
          6302.8,
          8250,
          6448.85,
          1474.75,
          3121.45,
          3046.4,
          1381.8,
          4116.9,
          4295.35,
          239.05,
          45.25,
          5969.95,
          6786.4,
          151.75,
          371.6,
          145.15,
          71,
          765.5,
          5550.1,
          5023,
          227.35,
          2065.15,
          3720.35,
          435,
          1083.7,
          985.05,
          3439,
          1546.3,
          5743.3,
          3282.75,
          3398.9,
          7985.9,
          6239.05,
          1732.6,
          4759.75,
          256.6,
          2345.2,
          2324.7,
          4889.2,
          74.4,
          6597.25,
          4375.8,
          45.55,
          5576.3,
          5013,
          5430.35,
          6941.2,
          5720.35,
          1064.95,
          3554.6,
          348.15,
          3110.1,
          7349.35,
          583,
          1364.3,
          3505.1,
          1297.8,
          6993.65,
          1334.45,
          6201.95,
          7895.15,
          4698.05,
          46.2,
          8078.1,
          319.15,
          3021.6,
          288.05,
          6219.6,
          4179.1,
          516.15,
          1261.35,
          3229.4,
          3906.7,
          69.1,
          129.2,
          4307.1,
          5251.75,
          2483.65,
          2048.8,
          4119.4,
          1852.85,
          74.6,
          6152.3,
          6890,
          74.7,
          5746.15,
          1781.35,
          2747.2,
          7677.4,
          1474.9,
          8152.3,
          85.1,
          5017.9,
          5276.1,
          927.15,
          602.55,
          7133.25,
          2917.5,
          4692.55,
          4228.55,
          5893.15,
          7869.05,
          767.55,
          655.5,
          6758.45,
          8289.2,
          693.3,
          4676.7,
          336.15,
          5165.7,
          256.75,
          45.1,
          4867.95,
          4747.85,
          2186.4,
          5997.1,
          50.9,
          1641.3,
          4543.15,
          3152.5,
          44.05,
          8013.55,
          202.9,
          6719.9,
          2203.65,
          669.45,
          5511.65,
          1093.2,
          5893.95,
          926.25,
          1490.95,
          521.1,
          2809.05,
          7291.75,
          6375.8,
          7576.7,
          5364.8,
          5025.8,
          4619.55,
          733.5,
          981.45,
          563.65,
          2042.05,
          224.05,
          5743.05,
          212.4,
          3682.45,
          3470.8,
          5683.6,
          1315.35,
          1442,
          69.55,
          863.1,
          854.45,
          399.25,
          1785.65,
          174.75,
          4304.5,
          416.3,
          729.95,
          1169.35,
          6118.95,
          1862.9,
          273.75,
          5764.7,
          2511.95,
          4124.65,
          1295.4,
          6713.2,
          45.1,
          6989.7,
          55.8,
          85.15,
          317.25,
          1336.8,
          107.1,
          520.95,
          368.1,
          45.85,
          4904.85,
          2365.15,
          1463.45,
          389.1,
          7176.55,
          1923.85,
          445.85,
          706.6,
          547.8,
          587.1,
          4113.1,
          521.35,
          5980.55,
          5071.9,
          4084.35,
          784.45,
          7843.55,
          5029.2,
          50.75,
          5293.95,
          1660,
          3023.65,
          54.35,
          5718.2,
          1336.15,
          1395.05,
          4527.45,
          44.4,
          503.6,
          4284.65,
          1259,
          44.75,
          3899.05,
          8468.2,
          2879.9,
          1511.2,
          2142.8,
          2470.1,
          408.5,
          155.65,
          2135.5,
          6856.45,
          5629.15,
          2200.25,
          1237.3,
          4680.05,
          470.95,
          2421.6,
          918.75,
          157.75,
          4453.3,
          278.4,
          5629.55,
          3886.45,
          6423,
          992.7,
          2136.9,
          434.1,
          153.05,
          5676,
          1594.75,
          3375.9,
          6039.9,
          645.8,
          146.05,
          5000.05,
          999.8,
          84.4,
          345.5,
          1194.3,
          474.8,
          69.65,
          6164.7,
          4547.25,
          1574.45,
          1185,
          4070.95,
          483.7,
          246.3,
          246.5,
          545.2,
          2514.5,
          69.85,
          1671.6,
          7245.9,
          3027.65,
          3950.85,
          3419.5,
          788.6,
          3283.05,
          734.35,
          1745.5,
          5315.8,
          1789.25,
          1500.5,
          4456.35,
          4861.45,
          832.3,
          6457.15,
          4939.25,
          6858.9,
          1742.45,
          1715.65,
          70.1,
          45.2,
          195.05,
          4024.2,
          6614.9,
          3454.6,
          55.55,
          194.55,
          5812,
          1902,
          6816.95,
          70.4,
          663.05,
          2570.2,
          144.8,
          5831.2,
          5275.8,
          5961.1,
          371.65,
          60,
          5037.55,
          3734.25,
          68.95,
          324.3,
          2215.45,
          743.75,
          93.7,
          1676.95,
          818.05,
          2983.8,
          2265.25,
          819.4,
          2043.45,
          2971.7,
          1023.85,
          1267.95,
          8046.85,
          1971.15,
          6643.5,
          86,
          2868.15,
          44.9,
          567.8,
          413.25,
          7250.15,
          130.5,
          44.1,
          3665.55,
          4264.25,
          5779.6,
          4576.3,
          1964.6,
          84.6,
          5794.65,
          4858.7,
          453.75,
          220.1,
          1905.7,
          939.7,
          181.65,
          923.85,
          4392.5,
          2659.45,
          1010,
          3496.3,
          80.55,
          3983.6,
          3096.9,
          4733.1,
          4391.45,
          1923.5,
          4350.1,
          451.1,
          8182.75,
          50.15,
          323.25,
          7009.5,
          6914.95,
          3838.2,
          4042.2,
          4149.45,
          685.55,
          6144.55,
          6034.85,
          4687.9,
          45.95,
          2357.75,
          6342.7,
          5083.55,
          141.65,
          3876.2,
          244.1,
          3512.15,
          2655.25,
          4284.2,
          4494.65,
          8331.95,
          3221.25,
          4869.5,
          3467,
          1008.55,
          6557.75,
          6770.85,
          335.75,
          3082.1,
          1410.25,
          160.75,
          3460.95,
          90.85,
          8003.8,
          143.65,
          6989.45,
          1600.25,
          4370.25,
          8192.6,
          865.1,
          6536.5,
          5206.55,
          75.7,
          3923.8,
          3165.6,
          1952.25,
          4348.1,
          4664.15,
          102.75,
          6511.8,
          2633.4,
          6603.8,
          649.65,
          3510.3,
          2536.55,
          4308.25,
          6325.25,
          827.7,
          7856,
          3893.6,
          131.65,
          187.45,
          3186.7,
          6068.65,
          5224.5,
          6176.6,
          298.35,
          2596.15,
          2651.2,
          2628.6,
          3990.6,
          4415.75,
          5234.95,
          2929.75,
          4473.45,
          5329,
          5396.25,
          5475.9,
          7047.5,
          367.95,
          6487.2,
          4297.6,
          1021.75,
          1522.65,
          105.6,
          1761.45,
          908.75,
          3778,
          7665.8,
          7459,
          6293.75,
          3549.25,
          4174.35,
          2404.15,
          262.3,
          548.9,
          638.95,
          1057.55,
          1164.05,
          3851.45,
          7318.2,
          7386.05,
          868.5,
          1049.05,
          6529.25,
          3965.05,
          5200.8,
          1375.6,
          2012.7,
          8443.7,
          1336.9,
          4820.15,
          4976.15,
          113.35,
          80.25,
          3251.85,
          2254.2,
          2199.05,
          2453.3,
          4853.75,
          172.85,
          75.3,
          279.55,
          554.45,
          7472.15,
          754.65,
          2812.2,
          4245.55,
          70,
          482.25,
          85.45,
          143.9,
          1302.65,
          2459.8,
          177.4,
          4849.1,
          670.65,
          6401.25,
          180.25,
          5038.15,
          492.1,
          4718.25,
          5411.4,
          60.15,
          5154.5,
          7412.25,
          5646.6,
          6563.4,
          4220.35,
          6895.5,
          3238.4,
          880.05,
          610.75,
          5832.65,
          494.05,
          152.45,
          1299.1,
          6397.6,
          302.75,
          7365.7,
          5502.55,
          7348.8,
          1654.7,
          494.95,
          1545.4,
          6033.1,
          530.05,
          7334.05,
          2839.45,
          3103.25,
          4134.7,
          7553.6,
          90.6,
          5232.9,
          7554.05,
          139.05,
          5301.1,
          1274.45,
          5432.2,
          134.7,
          1955.4,
          2888.7,
          4040.2,
          69.9,
          365.35,
          888.65,
          1931.75,
          69.4,
          5563.65,
          4888.7,
          1115.2,
          4534.45,
          2823,
          999.45,
          3472.05,
          147.8,
          4764,
          1761.05,
          1816.75,
          1702.9,
          1033.9,
          70.6,
          7854.15,
          1559.25,
          1537.9,
          1687.95,
          334.8,
          2271.85,
          3019.25,
          7609.75,
          6880.85,
          6588.95,
          4473,
          738.2,
          4039,
          3706.95,
          3726.15,
          2198.3,
          7578.05,
          2282.95,
          7990.05,
          1340.1,
          4615.9,
          6254.45,
          5703,
          2277.65,
          2276.95,
          329.95,
          3744.05,
          3204.4,
          118.25,
          7397,
          2535.55,
          3691.2,
          80.15,
          1422.1,
          4808.7,
          2854.95,
          3674.95,
          6615.15,
          1515.1,
          575.45,
          2193,
          2419.55,
          384.5,
          267.6,
          3414.65,
          4819.75,
          5243.05,
          404.35,
          71.55,
          44.15,
          3975.7,
          2274.1,
          6300.85,
          6519.75,
          4254.85,
          6079,
          4065,
          7114.25,
          909.25,
          46.3,
          6109.65,
          1579.7,
          1783.6,
          217.55,
          6330.4,
          1566.75,
          1322.55,
          6841.45,
          994.8,
          497.6,
          4192.15,
          5791.85,
          4484.05,
          7365.3,
          202.3,
          6302.85,
          2619.25,
          3160.55,
          2627.2,
          5610.25,
          178.7,
          5522.7,
          5270.6,
          3871.85,
          2405.05,
          7880.25,
          2970.3,
          4690.65,
          819.55,
          896.9,
          1734.5,
          6613.65,
          811.8,
          5903.15,
          5645.8,
          74.9,
          6185.8,
          78.8,
          299.2,
          6411.25,
          5265.2,
          3487.95,
          6779.05,
          2688.85,
          68.5,
          795.65,
          4089.45,
          4985.9,
          2320.8,
          229.5,
          1846.65,
          1394.55,
          401.1,
          417.75,
          5968.4,
          593.85,
          5617.95,
          1929.95,
          7849.85,
          374.8,
          7030.65,
          4003,
          7244.7,
          1398.25,
          165.45,
          1221.55,
          6056.15,
          294.45,
          780.85,
          3068.6,
          831.75,
          93.3,
          3365.4,
          2576.8,
          1282.85,
          1043.3,
          4917.9,
          3548.3,
          1285.05,
          4367.35,
          1567.55,
          5289.8,
          864.55,
          44.45,
          2291.2,
          2524.45,
          5124.55,
          4904.2,
          2018.4,
          1614.05,
          1810.85,
          79.55,
          1440.75,
          1156.35,
          4361.55,
          612.1,
          5623.7,
          123.05,
          216.9,
          2416.1,
          184.15,
          8529.5,
          716.1,
          70.3,
          5791.1,
          6418.9,
          5420.65,
          3389.25,
          378.4,
          5150.55,
          5950.2,
          6301.7,
          1003.05,
          302.6,
          7132.15,
          541.15,
          2351.8,
          7104.2,
          6435.25,
          1181.75,
          7303.05,
          6109.75,
          4615.25,
          550.6,
          7634.8,
          81.7,
          611.65,
          6859.5,
          6819.45,
          3887.25,
          6127.6,
          1244.5,
          1758.6,
          7297.75,
          1990.5,
          5749.8,
          573.15,
          95.65,
          678.45,
          5264.25,
          3756.45,
          1422.65,
          84.8,
          50.7,
          4997.5,
          365.4,
          2433.9,
          3122.4,
          648.65,
          3902.45,
          2710.25,
          4577.75,
          4984.85,
          8436.25,
          50.65,
          1107.25,
          3488.15,
          54.3,
          5931,
          5496.9,
          384.25,
          8196.4,
          1389.2,
          1553.2,
          955.6,
          412.5,
          2177.45,
          4362.05,
          5589.3,
          5265.55,
          768.05,
          42.9,
          3605.2,
          4509.5,
          816.8,
          762.1,
          44.4,
          3266,
          1337.45,
          4920.55,
          2669.45,
          7806.5,
          773.2,
          6029.9,
          7168.25,
          7008.15,
          3457.45,
          1033.95,
          3729.75,
          7922.75,
          2019.8,
          3297,
          4594.65,
          4040.65,
          45.95,
          154.55,
          7795.95,
          5643.4,
          5549.4,
          1215.8,
          847.3,
          3173.35,
          422.3,
          5059.75,
          4885.85,
          1233.15,
          4097.05,
          3605.6,
          1348.95,
          3249.4,
          2647.2,
          1345.65,
          5315.1,
          2015.35,
          7774.05,
          6976.75,
          3171.15,
          4414.3,
          612.95,
          3274.35,
          69.95,
          6368.2,
          5012.35,
          5602.25,
          7711.25,
          2215,
          69.25,
          834.7,
          1048.85,
          772.85,
          5714.25,
          156.4,
          5703.25,
          199.85,
          4155.95,
          50.45,
          5500.6,
          69.65,
          8041.65,
          1743.9,
          2688.45,
          90.55,
          90.55,
          396.3,
          1046.5,
          4069.9,
          49.75,
          1313.25,
          7690.9,
          436.6,
          445.95,
          987.95,
          120.25,
          6735.05,
          455.5,
          2204.35,
          4949.1,
          724.65,
          3769.7,
          4481,
          92.45,
          198.5,
          1058.1,
          2415.95,
          853.1,
          155.35,
          6404,
          3626.35,
          1438.05,
          2404.1,
          4862.5,
          6548.65,
          4236.6,
          3581.4,
          5099.15,
          994.55,
          3357.9,
          6179.35,
          4515.85,
          3415.25,
          4211.55,
          321.65,
          633.3,
          4616.05,
          3168,
          6697.35,
          1178.25,
          1729.35,
          1235.55,
          1441.1,
          7455.45,
          220.45,
          5031,
          1148.1,
          1712.7,
          145.15,
          3959.35,
          512.45,
          6215.35,
          324.25,
          323.45,
          415.55,
          5730.7,
          7998.8,
          5711.05,
          6590.5,
          3187.65,
          4972.1,
          6589.6,
          115.1,
          123.65,
          260.8,
          2275.1,
          79.6,
          979.05,
          3739.8,
          151.8,
          871.4,
          2221.55,
          1573.95,
          1338.15,
          3833.95,
          5471.75,
          3450.15,
          4217.8,
          5731.85,
          3895.35,
          5585.4,
          2497.35,
          1725.95,
          6561.25,
          7556.9,
          628.65,
          3478.75,
          2684.85,
          4688.65,
          3363.8,
          5974.3,
          3829.75,
          7040.85,
          1917.1,
          6398.05,
          5264.5,
          2599.95,
          4029.95,
          1108.6,
          7251.9,
          7129.45,
          6292.7,
          415.05,
          857.8,
          3627.3,
          3107.3,
          1238.45,
          50.75,
          574.5,
          921.4,
          1299.8,
          1345.75,
          4326.8,
          2877.95,
          7320.9,
          45.8,
          3597.5,
          3641.5,
          196.9,
          1261,
          1254.7,
          1493.2,
          4525.8,
          1066.9,
          4720,
          720.1,
          220.75,
          5552.05,
          4740,
          839.65,
          3046.05,
          5727.15,
          352.65,
          69.4,
          552.95,
          1195.75,
          660.05,
          3541.1,
          2555.9,
          1020.2,
          1683.7,
          8244.3,
          293.65,
          889.9,
          3233.85,
          134.5,
          1747.2,
          553.4,
          6130.85,
          5930.05,
          6075.9,
          659.45,
          3529.95,
          2386.85,
          4965.1,
          69.95,
          3838.75,
          8425.15,
          2293.6,
          4138.05,
          4275.75,
          8016.6,
          2341.5,
          487.05,
          4888.2,
          563.5,
          4060.9,
          3425.35,
          70.55,
          762.5,
          3465.05,
          5632.55,
          49.85,
          6496.15,
          7181.25,
          5769.6,
          45.1,
          2427.1,
          659.35,
          6891.4,
          811.65,
          7413.55,
          5681.1,
          428.7,
          1093.4,
          3883.3,
          396.1,
          1001.2,
          305.55,
          5166.2,
          5924.4,
          2730.85,
          93.85,
          5347.95,
          6869.7,
          6859.05,
          44.55,
          2625.55,
          2897.95,
          6688.95,
          1137.05,
          571.15,
          7493.05,
          266.95,
          2490.15,
          793.55,
          5692.65,
          498.25,
          196.95,
          5552.5,
          3996.8,
          392.5,
          941,
          3399.85,
          8425.3,
          5253.95,
          597.9,
          1184,
          4913.3,
          50.45,
          47.95,
          1046.5,
          70.6,
          5229.45,
          3522.65,
          3557.7,
          2964,
          484.05,
          3618.7,
          45,
          660.9,
          151.3,
          4388.4,
          69.6,
          245.15,
          3480,
          6185.15,
          3131.8,
          3058.3,
          6733.15,
          2208.75,
          250.1,
          5817,
          5196.1,
          2317.1,
          6767.1,
          3373.4,
          2070.6,
          50.05,
          8405,
          5497.05,
          5237.4,
          842.25,
          461.7,
          2820.65,
          1424.5,
          1308.1,
          1025.95,
          6300.15,
          206.15,
          1112.3,
          3403.4,
          3420.5,
          1625,
          331.3,
          1612.2,
          4178.65,
          7317.1,
          535.55,
          3260.1,
          4523.25,
          3090.65,
          6555.2,
          264.8,
          249.95,
          86.6,
          8399.15,
          4146.05,
          2934.3,
          2542.45,
          3650.35,
          8277.05,
          1221.65,
          3901.25,
          7220.35,
          71.65,
          5601.4,
          6130.95,
          4018.35,
          1264.2,
          101.65,
          7159.7,
          6096.45,
          1800.05,
          8164.1,
          5916.95,
          1696.2,
          74,
          1958.45,
          2841.55,
          44.8,
          44.9,
          319.6,
          6518.35,
          44,
          5574.35,
          3089.1,
          858.6,
          568.85,
          78.95,
          4750.95,
          5564.85,
          6311.2,
          90.6,
          6725.5,
          3410.6,
          564.35,
          1029.75,
          103.7,
          159.15,
          7325.1,
          2538.05,
          4863.85,
          3204.65,
          8065.65,
          168.15,
          141.45,
          1162.85,
          1985.15,
          2964.05,
          475.7,
          2979.5,
          6297.65,
          1745.2,
          169.05,
          7133.45,
          7711.45,
          108.65,
          4664.2,
          2513.5,
          5233.25,
          5127.95,
          152.7,
          78.65,
          4837.6,
          2933.2,
          44.95,
          4162.05,
          5535.8,
          157.55,
          765.45,
          1756.6,
          646.85,
          851.8,
          2673.45,
          8477.6,
          2718.3,
          4577.9,
          651.5,
          1393.6,
          3035.8,
          7629.85,
          3858.05,
          3617.1,
          536.4,
          2570,
          2018.1,
          7227.45,
          3645.75,
          7752.3,
          1885.15,
          4068,
          291.9,
          5763.15,
          7881.2,
          2753.8,
          1415,
          389.6,
          664.4,
          5610.7,
          3116.15,
          899.8,
          4914.8,
          53.55,
          5555.3,
          3094.65,
          6001.45,
          2092.9,
          1391.15,
          676.7,
          4267.15,
          5515.8,
          2958.95,
          493.4,
          1454.15,
          973.25,
          3533.6,
          1777.9,
          4786.15,
          2443.3,
          2774.55,
          450.8,
          4318.35,
          5215.1,
          4459.8,
          8124.2,
          5916.45,
          5064.45,
          4309.55,
          1704.95,
          8166.8,
          169.45,
          85,
          6697.2,
          4845.4,
          8312.75,
          79.95,
          2654.05,
          1203.9,
          729.95,
          159.4,
          2681.15,
          1358.85,
          6640.7,
          6151.9,
          1665.2,
          5194.05,
          176.2,
          6373.1,
          8240.85,
          4428.6,
          4830.25,
          2322.85,
          1943.9,
          662.65,
          3483.45,
          288.35,
          5919.35,
          3882.3,
          3990.75,
          950.2,
          5036.9,
          5757.2,
          6838.6,
          6689,
          446.8,
          4554.85,
          4904.25,
          1207,
          6045.9,
          1178.4,
          2151.6,
          620.35,
          6155.4,
          2447.95,
          2083.1,
          892.65,
          5600.15,
          8061.5,
          824.85,
          5437.75,
          5661.7,
          71.15,
          6595.9,
          551.95,
          93.55,
          4820.55,
          2835.9,
          931.75,
          79.35,
          2335.3,
          608,
          4233.95,
          5375.15,
          897.75,
          6565.85,
          658.1,
          7283.25,
          365.65,
          4459.15,
          6549.45,
          2838.7,
          3369.25,
          1165.6,
          6794.75,
          89.75,
          2866.45,
          2566.5,
          70.05,
          2441.7,
          433.95,
          229.7,
          653.95,
          6056.9,
          295.65,
          1617.5,
          4400.75,
          2796.45,
          5728.55,
          8129.3,
          4159.45,
          1036.75,
          3973.2,
          144.55,
          4916.95,
          1740.7,
          616.9,
          3649.6,
          701.05,
          4056.75,
          6910.3,
          144,
          90.85,
          6038.55,
          48.6,
          3213.75,
          587.45,
          387.2,
          1790.65,
          336.7,
          4014.2,
          75.3,
          8594.4,
          5484.4,
          153.8,
          1615.1,
          3994.45,
          4748.7,
          2082.95,
          3532.25,
          6860.6,
          2576.2,
          3827.9,
          55.45,
          1149.65,
          809.75,
          7459.05,
          8075.35,
          1532.45,
          472.25,
          1743.5,
          171.15,
          78.45,
          74.3,
          1327.85,
          7383.7,
          250.05,
          1305.95,
          2896.55,
          2475.35,
          1826.7,
          2381.55,
          6256.2,
          3211.2,
          1948.35,
          4327.5,
          3275.15,
          2044.95,
          5468.45,
          2180.55,
          1516.6,
          1287.85,
          6668,
          865.8,
          75.3,
          5060.85,
          307.4,
          1074.3,
          7517.7,
          6171.2,
          633.45,
          70.15,
          742.9,
          1873.7,
          92.75,
          4627.65
         ],
         "yaxis": "y",
         "ybingroup": "y"
        }
       ],
       "layout": {
        "coloraxis": {
         "colorbar": {
          "title": {
           "text": "count"
          }
         },
         "colorscale": [
          [
           0,
           "#0d0887"
          ],
          [
           0.1111111111111111,
           "#46039f"
          ],
          [
           0.2222222222222222,
           "#7201a8"
          ],
          [
           0.3333333333333333,
           "#9c179e"
          ],
          [
           0.4444444444444444,
           "#bd3786"
          ],
          [
           0.5555555555555556,
           "#d8576b"
          ],
          [
           0.6666666666666666,
           "#ed7953"
          ],
          [
           0.7777777777777778,
           "#fb9f3a"
          ],
          [
           0.8888888888888888,
           "#fdca26"
          ],
          [
           1,
           "#f0f921"
          ]
         ]
        },
        "legend": {
         "tracegroupgap": 0
        },
        "margin": {
         "t": 60
        },
        "template": {
         "data": {
          "bar": [
           {
            "error_x": {
             "color": "#2a3f5f"
            },
            "error_y": {
             "color": "#2a3f5f"
            },
            "marker": {
             "line": {
              "color": "#E5ECF6",
              "width": 0.5
             },
             "pattern": {
              "fillmode": "overlay",
              "size": 10,
              "solidity": 0.2
             }
            },
            "type": "bar"
           }
          ],
          "barpolar": [
           {
            "marker": {
             "line": {
              "color": "#E5ECF6",
              "width": 0.5
             },
             "pattern": {
              "fillmode": "overlay",
              "size": 10,
              "solidity": 0.2
             }
            },
            "type": "barpolar"
           }
          ],
          "carpet": [
           {
            "aaxis": {
             "endlinecolor": "#2a3f5f",
             "gridcolor": "white",
             "linecolor": "white",
             "minorgridcolor": "white",
             "startlinecolor": "#2a3f5f"
            },
            "baxis": {
             "endlinecolor": "#2a3f5f",
             "gridcolor": "white",
             "linecolor": "white",
             "minorgridcolor": "white",
             "startlinecolor": "#2a3f5f"
            },
            "type": "carpet"
           }
          ],
          "choropleth": [
           {
            "colorbar": {
             "outlinewidth": 0,
             "ticks": ""
            },
            "type": "choropleth"
           }
          ],
          "contour": [
           {
            "colorbar": {
             "outlinewidth": 0,
             "ticks": ""
            },
            "colorscale": [
             [
              0,
              "#0d0887"
             ],
             [
              0.1111111111111111,
              "#46039f"
             ],
             [
              0.2222222222222222,
              "#7201a8"
             ],
             [
              0.3333333333333333,
              "#9c179e"
             ],
             [
              0.4444444444444444,
              "#bd3786"
             ],
             [
              0.5555555555555556,
              "#d8576b"
             ],
             [
              0.6666666666666666,
              "#ed7953"
             ],
             [
              0.7777777777777778,
              "#fb9f3a"
             ],
             [
              0.8888888888888888,
              "#fdca26"
             ],
             [
              1,
              "#f0f921"
             ]
            ],
            "type": "contour"
           }
          ],
          "contourcarpet": [
           {
            "colorbar": {
             "outlinewidth": 0,
             "ticks": ""
            },
            "type": "contourcarpet"
           }
          ],
          "heatmap": [
           {
            "colorbar": {
             "outlinewidth": 0,
             "ticks": ""
            },
            "colorscale": [
             [
              0,
              "#0d0887"
             ],
             [
              0.1111111111111111,
              "#46039f"
             ],
             [
              0.2222222222222222,
              "#7201a8"
             ],
             [
              0.3333333333333333,
              "#9c179e"
             ],
             [
              0.4444444444444444,
              "#bd3786"
             ],
             [
              0.5555555555555556,
              "#d8576b"
             ],
             [
              0.6666666666666666,
              "#ed7953"
             ],
             [
              0.7777777777777778,
              "#fb9f3a"
             ],
             [
              0.8888888888888888,
              "#fdca26"
             ],
             [
              1,
              "#f0f921"
             ]
            ],
            "type": "heatmap"
           }
          ],
          "heatmapgl": [
           {
            "colorbar": {
             "outlinewidth": 0,
             "ticks": ""
            },
            "colorscale": [
             [
              0,
              "#0d0887"
             ],
             [
              0.1111111111111111,
              "#46039f"
             ],
             [
              0.2222222222222222,
              "#7201a8"
             ],
             [
              0.3333333333333333,
              "#9c179e"
             ],
             [
              0.4444444444444444,
              "#bd3786"
             ],
             [
              0.5555555555555556,
              "#d8576b"
             ],
             [
              0.6666666666666666,
              "#ed7953"
             ],
             [
              0.7777777777777778,
              "#fb9f3a"
             ],
             [
              0.8888888888888888,
              "#fdca26"
             ],
             [
              1,
              "#f0f921"
             ]
            ],
            "type": "heatmapgl"
           }
          ],
          "histogram": [
           {
            "marker": {
             "pattern": {
              "fillmode": "overlay",
              "size": 10,
              "solidity": 0.2
             }
            },
            "type": "histogram"
           }
          ],
          "histogram2d": [
           {
            "colorbar": {
             "outlinewidth": 0,
             "ticks": ""
            },
            "colorscale": [
             [
              0,
              "#0d0887"
             ],
             [
              0.1111111111111111,
              "#46039f"
             ],
             [
              0.2222222222222222,
              "#7201a8"
             ],
             [
              0.3333333333333333,
              "#9c179e"
             ],
             [
              0.4444444444444444,
              "#bd3786"
             ],
             [
              0.5555555555555556,
              "#d8576b"
             ],
             [
              0.6666666666666666,
              "#ed7953"
             ],
             [
              0.7777777777777778,
              "#fb9f3a"
             ],
             [
              0.8888888888888888,
              "#fdca26"
             ],
             [
              1,
              "#f0f921"
             ]
            ],
            "type": "histogram2d"
           }
          ],
          "histogram2dcontour": [
           {
            "colorbar": {
             "outlinewidth": 0,
             "ticks": ""
            },
            "colorscale": [
             [
              0,
              "#0d0887"
             ],
             [
              0.1111111111111111,
              "#46039f"
             ],
             [
              0.2222222222222222,
              "#7201a8"
             ],
             [
              0.3333333333333333,
              "#9c179e"
             ],
             [
              0.4444444444444444,
              "#bd3786"
             ],
             [
              0.5555555555555556,
              "#d8576b"
             ],
             [
              0.6666666666666666,
              "#ed7953"
             ],
             [
              0.7777777777777778,
              "#fb9f3a"
             ],
             [
              0.8888888888888888,
              "#fdca26"
             ],
             [
              1,
              "#f0f921"
             ]
            ],
            "type": "histogram2dcontour"
           }
          ],
          "mesh3d": [
           {
            "colorbar": {
             "outlinewidth": 0,
             "ticks": ""
            },
            "type": "mesh3d"
           }
          ],
          "parcoords": [
           {
            "line": {
             "colorbar": {
              "outlinewidth": 0,
              "ticks": ""
             }
            },
            "type": "parcoords"
           }
          ],
          "pie": [
           {
            "automargin": true,
            "type": "pie"
           }
          ],
          "scatter": [
           {
            "fillpattern": {
             "fillmode": "overlay",
             "size": 10,
             "solidity": 0.2
            },
            "type": "scatter"
           }
          ],
          "scatter3d": [
           {
            "line": {
             "colorbar": {
              "outlinewidth": 0,
              "ticks": ""
             }
            },
            "marker": {
             "colorbar": {
              "outlinewidth": 0,
              "ticks": ""
             }
            },
            "type": "scatter3d"
           }
          ],
          "scattercarpet": [
           {
            "marker": {
             "colorbar": {
              "outlinewidth": 0,
              "ticks": ""
             }
            },
            "type": "scattercarpet"
           }
          ],
          "scattergeo": [
           {
            "marker": {
             "colorbar": {
              "outlinewidth": 0,
              "ticks": ""
             }
            },
            "type": "scattergeo"
           }
          ],
          "scattergl": [
           {
            "marker": {
             "colorbar": {
              "outlinewidth": 0,
              "ticks": ""
             }
            },
            "type": "scattergl"
           }
          ],
          "scattermapbox": [
           {
            "marker": {
             "colorbar": {
              "outlinewidth": 0,
              "ticks": ""
             }
            },
            "type": "scattermapbox"
           }
          ],
          "scatterpolar": [
           {
            "marker": {
             "colorbar": {
              "outlinewidth": 0,
              "ticks": ""
             }
            },
            "type": "scatterpolar"
           }
          ],
          "scatterpolargl": [
           {
            "marker": {
             "colorbar": {
              "outlinewidth": 0,
              "ticks": ""
             }
            },
            "type": "scatterpolargl"
           }
          ],
          "scatterternary": [
           {
            "marker": {
             "colorbar": {
              "outlinewidth": 0,
              "ticks": ""
             }
            },
            "type": "scatterternary"
           }
          ],
          "surface": [
           {
            "colorbar": {
             "outlinewidth": 0,
             "ticks": ""
            },
            "colorscale": [
             [
              0,
              "#0d0887"
             ],
             [
              0.1111111111111111,
              "#46039f"
             ],
             [
              0.2222222222222222,
              "#7201a8"
             ],
             [
              0.3333333333333333,
              "#9c179e"
             ],
             [
              0.4444444444444444,
              "#bd3786"
             ],
             [
              0.5555555555555556,
              "#d8576b"
             ],
             [
              0.6666666666666666,
              "#ed7953"
             ],
             [
              0.7777777777777778,
              "#fb9f3a"
             ],
             [
              0.8888888888888888,
              "#fdca26"
             ],
             [
              1,
              "#f0f921"
             ]
            ],
            "type": "surface"
           }
          ],
          "table": [
           {
            "cells": {
             "fill": {
              "color": "#EBF0F8"
             },
             "line": {
              "color": "white"
             }
            },
            "header": {
             "fill": {
              "color": "#C8D4E3"
             },
             "line": {
              "color": "white"
             }
            },
            "type": "table"
           }
          ]
         },
         "layout": {
          "annotationdefaults": {
           "arrowcolor": "#2a3f5f",
           "arrowhead": 0,
           "arrowwidth": 1
          },
          "autotypenumbers": "strict",
          "coloraxis": {
           "colorbar": {
            "outlinewidth": 0,
            "ticks": ""
           }
          },
          "colorscale": {
           "diverging": [
            [
             0,
             "#8e0152"
            ],
            [
             0.1,
             "#c51b7d"
            ],
            [
             0.2,
             "#de77ae"
            ],
            [
             0.3,
             "#f1b6da"
            ],
            [
             0.4,
             "#fde0ef"
            ],
            [
             0.5,
             "#f7f7f7"
            ],
            [
             0.6,
             "#e6f5d0"
            ],
            [
             0.7,
             "#b8e186"
            ],
            [
             0.8,
             "#7fbc41"
            ],
            [
             0.9,
             "#4d9221"
            ],
            [
             1,
             "#276419"
            ]
           ],
           "sequential": [
            [
             0,
             "#0d0887"
            ],
            [
             0.1111111111111111,
             "#46039f"
            ],
            [
             0.2222222222222222,
             "#7201a8"
            ],
            [
             0.3333333333333333,
             "#9c179e"
            ],
            [
             0.4444444444444444,
             "#bd3786"
            ],
            [
             0.5555555555555556,
             "#d8576b"
            ],
            [
             0.6666666666666666,
             "#ed7953"
            ],
            [
             0.7777777777777778,
             "#fb9f3a"
            ],
            [
             0.8888888888888888,
             "#fdca26"
            ],
            [
             1,
             "#f0f921"
            ]
           ],
           "sequentialminus": [
            [
             0,
             "#0d0887"
            ],
            [
             0.1111111111111111,
             "#46039f"
            ],
            [
             0.2222222222222222,
             "#7201a8"
            ],
            [
             0.3333333333333333,
             "#9c179e"
            ],
            [
             0.4444444444444444,
             "#bd3786"
            ],
            [
             0.5555555555555556,
             "#d8576b"
            ],
            [
             0.6666666666666666,
             "#ed7953"
            ],
            [
             0.7777777777777778,
             "#fb9f3a"
            ],
            [
             0.8888888888888888,
             "#fdca26"
            ],
            [
             1,
             "#f0f921"
            ]
           ]
          },
          "colorway": [
           "#636efa",
           "#EF553B",
           "#00cc96",
           "#ab63fa",
           "#FFA15A",
           "#19d3f3",
           "#FF6692",
           "#B6E880",
           "#FF97FF",
           "#FECB52"
          ],
          "font": {
           "color": "#2a3f5f"
          },
          "geo": {
           "bgcolor": "white",
           "lakecolor": "white",
           "landcolor": "#E5ECF6",
           "showlakes": true,
           "showland": true,
           "subunitcolor": "white"
          },
          "hoverlabel": {
           "align": "left"
          },
          "hovermode": "closest",
          "mapbox": {
           "style": "light"
          },
          "paper_bgcolor": "white",
          "plot_bgcolor": "#E5ECF6",
          "polar": {
           "angularaxis": {
            "gridcolor": "white",
            "linecolor": "white",
            "ticks": ""
           },
           "bgcolor": "#E5ECF6",
           "radialaxis": {
            "gridcolor": "white",
            "linecolor": "white",
            "ticks": ""
           }
          },
          "scene": {
           "xaxis": {
            "backgroundcolor": "#E5ECF6",
            "gridcolor": "white",
            "gridwidth": 2,
            "linecolor": "white",
            "showbackground": true,
            "ticks": "",
            "zerolinecolor": "white"
           },
           "yaxis": {
            "backgroundcolor": "#E5ECF6",
            "gridcolor": "white",
            "gridwidth": 2,
            "linecolor": "white",
            "showbackground": true,
            "ticks": "",
            "zerolinecolor": "white"
           },
           "zaxis": {
            "backgroundcolor": "#E5ECF6",
            "gridcolor": "white",
            "gridwidth": 2,
            "linecolor": "white",
            "showbackground": true,
            "ticks": "",
            "zerolinecolor": "white"
           }
          },
          "shapedefaults": {
           "line": {
            "color": "#2a3f5f"
           }
          },
          "ternary": {
           "aaxis": {
            "gridcolor": "white",
            "linecolor": "white",
            "ticks": ""
           },
           "baxis": {
            "gridcolor": "white",
            "linecolor": "white",
            "ticks": ""
           },
           "bgcolor": "#E5ECF6",
           "caxis": {
            "gridcolor": "white",
            "linecolor": "white",
            "ticks": ""
           }
          },
          "title": {
           "x": 0.05
          },
          "xaxis": {
           "automargin": true,
           "gridcolor": "white",
           "linecolor": "white",
           "ticks": "",
           "title": {
            "standoff": 15
           },
           "zerolinecolor": "white",
           "zerolinewidth": 2
          },
          "yaxis": {
           "automargin": true,
           "gridcolor": "white",
           "linecolor": "white",
           "ticks": "",
           "title": {
            "standoff": 15
           },
           "zerolinecolor": "white",
           "zerolinewidth": 2
          }
         }
        },
        "xaxis": {
         "anchor": "y",
         "domain": [
          0,
          1
         ],
         "title": {
          "text": "Age"
         }
        },
        "yaxis": {
         "anchor": "x",
         "domain": [
          0,
          1
         ],
         "title": {
          "text": "Total Charges"
         }
        }
       }
      }
     },
     "metadata": {},
     "output_type": "display_data"
    }
   ],
   "source": [
    "fig = px.density_heatmap(df1, x='Age', y='Total Charges')\n",
    "fig.show()"
   ]
  },
  {
   "cell_type": "code",
   "execution_count": 31,
   "id": "1c4d0cc8",
   "metadata": {
    "colab": {
     "base_uri": "https://localhost:8080/"
    },
    "execution": {
     "iopub.execute_input": "2022-10-14T19:27:33.396802Z",
     "iopub.status.busy": "2022-10-14T19:27:33.395794Z",
     "iopub.status.idle": "2022-10-14T19:27:33.401898Z",
     "shell.execute_reply": "2022-10-14T19:27:33.401179Z"
    },
    "id": "1c4d0cc8",
    "outputId": "f9af846c-92d1-4b27-d47f-674d10496c1a",
    "papermill": {
     "duration": 0.032967,
     "end_time": "2022-10-14T19:27:33.403872",
     "exception": false,
     "start_time": "2022-10-14T19:27:33.370905",
     "status": "completed"
    },
    "tags": []
   },
   "outputs": [
    {
     "data": {
      "text/plain": [
       "Index(['Gender', 'Age', 'Married', 'Number of Dependents', 'City',\n",
       "       'Number of Referrals', 'Tenure in Months', 'Offer', 'Phone Service',\n",
       "       'Avg Monthly Long Distance Charges', 'Multiple Lines',\n",
       "       'Internet Service', 'Internet Type', 'Avg Monthly GB Download',\n",
       "       'Online Security', 'Online Backup', 'Device Protection Plan',\n",
       "       'Premium Tech Support', 'Streaming TV', 'Streaming Movies',\n",
       "       'Streaming Music', 'Unlimited Data', 'Contract', 'Paperless Billing',\n",
       "       'Payment Method', 'Monthly Charge', 'Total Charges',\n",
       "       'Total Extra Data Charges', 'Total Long Distance Charges',\n",
       "       'Total Revenue', 'Customer Status'],\n",
       "      dtype='object')"
      ]
     },
     "execution_count": 31,
     "metadata": {},
     "output_type": "execute_result"
    }
   ],
   "source": [
    "df1.columns"
   ]
  },
  {
   "cell_type": "code",
   "execution_count": 32,
   "id": "3eb796cf",
   "metadata": {
    "colab": {
     "base_uri": "https://localhost:8080/",
     "height": 329
    },
    "execution": {
     "iopub.execute_input": "2022-10-14T19:27:33.452044Z",
     "iopub.status.busy": "2022-10-14T19:27:33.451344Z",
     "iopub.status.idle": "2022-10-14T19:27:33.692942Z",
     "shell.execute_reply": "2022-10-14T19:27:33.691948Z"
    },
    "id": "3eb796cf",
    "outputId": "12a38ed0-a1f3-47f4-8d7a-35b261623deb",
    "papermill": {
     "duration": 0.268347,
     "end_time": "2022-10-14T19:27:33.695372",
     "exception": false,
     "start_time": "2022-10-14T19:27:33.427025",
     "status": "completed"
    },
    "tags": []
   },
   "outputs": [
    {
     "data": {
      "text/plain": [
       "<Axes: xlabel='Customer Status'>"
      ]
     },
     "execution_count": 32,
     "metadata": {},
     "output_type": "execute_result"
    },
    {
     "data": {
      "image/png": "[encoded data removed]",
      "text/plain": [
       "<Figure size 640x480 with 1 Axes>"
      ]
     },
     "metadata": {},
     "output_type": "display_data"
    }
   ],
   "source": [
    "pd.crosstab(df['Customer Status'], df['Married']).plot(kind='bar')"
   ]
  },
  {
   "cell_type": "code",
   "execution_count": 33,
   "id": "ca4253f8",
   "metadata": {
    "colab": {
     "base_uri": "https://localhost:8080/",
     "height": 333
    },
    "execution": {
     "iopub.execute_input": "2022-10-14T19:27:33.745251Z",
     "iopub.status.busy": "2022-10-14T19:27:33.744564Z",
     "iopub.status.idle": "2022-10-14T19:27:33.977564Z",
     "shell.execute_reply": "2022-10-14T19:27:33.976173Z"
    },
    "id": "ca4253f8",
    "outputId": "7197ba20-cd39-4cf5-dd24-6e53ea7c3cdb",
    "papermill": {
     "duration": 0.260686,
     "end_time": "2022-10-14T19:27:33.979853",
     "exception": false,
     "start_time": "2022-10-14T19:27:33.719167",
     "status": "completed"
    },
    "tags": []
   },
   "outputs": [
    {
     "data": {
      "text/plain": [
       "<Axes: xlabel='Customer Status'>"
      ]
     },
     "execution_count": 33,
     "metadata": {},
     "output_type": "execute_result"
    },
    {
     "data": {
      "image/png": "[encoded data removed]",
      "text/plain": [
       "<Figure size 640x480 with 1 Axes>"
      ]
     },
     "metadata": {},
     "output_type": "display_data"
    }
   ],
   "source": [
    "pd.crosstab(df['Customer Status'], df['Gender']).plot(kind='bar')"
   ]
  },
  {
   "cell_type": "code",
   "execution_count": 34,
   "id": "b8bdd9d1",
   "metadata": {
    "colab": {
     "base_uri": "https://localhost:8080/"
    },
    "execution": {
     "iopub.execute_input": "2022-10-14T19:27:34.030384Z",
     "iopub.status.busy": "2022-10-14T19:27:34.029961Z",
     "iopub.status.idle": "2022-10-14T19:27:34.037171Z",
     "shell.execute_reply": "2022-10-14T19:27:34.036166Z"
    },
    "id": "b8bdd9d1",
    "outputId": "e9412aea-dbb3-42e6-c947-9afce07b9e6e",
    "papermill": {
     "duration": 0.035279,
     "end_time": "2022-10-14T19:27:34.039391",
     "exception": false,
     "start_time": "2022-10-14T19:27:34.004112",
     "status": "completed"
    },
    "tags": []
   },
   "outputs": [
    {
     "data": {
      "text/plain": [
       "array(['Bank Withdrawal', 'Credit Card', 'Mailed Check'], dtype=object)"
      ]
     },
     "execution_count": 34,
     "metadata": {},
     "output_type": "execute_result"
    }
   ],
   "source": [
    "df1['Payment Method'].unique()"
   ]
  },
  {
   "cell_type": "markdown",
   "id": "k8SLcZE3DxxY",
   "metadata": {
    "id": "k8SLcZE3DxxY"
   },
   "source": [
    "Create dictionary with role / data key value pairs"
   ]
  },
  {
   "cell_type": "code",
   "execution_count": 35,
   "id": "7f21db01",
   "metadata": {
    "execution": {
     "iopub.execute_input": "2022-10-14T19:27:34.090755Z",
     "iopub.status.busy": "2022-10-14T19:27:34.090374Z",
     "iopub.status.idle": "2022-10-14T19:27:34.100071Z",
     "shell.execute_reply": "2022-10-14T19:27:34.099243Z"
    },
    "id": "7f21db01",
    "papermill": {
     "duration": 0.038021,
     "end_time": "2022-10-14T19:27:34.102336",
     "exception": false,
     "start_time": "2022-10-14T19:27:34.064315",
     "status": "completed"
    },
    "tags": []
   },
   "outputs": [],
   "source": [
    "Roles = {}\n",
    "for j in df1['Payment Method'].unique():\n",
    "    Roles[j] = df1[df1['Payment Method'] == j]"
   ]
  },
  {
   "cell_type": "code",
   "execution_count": 36,
   "id": "83636384",
   "metadata": {
    "colab": {
     "base_uri": "https://localhost:8080/"
    },
    "execution": {
     "iopub.execute_input": "2022-10-14T19:27:34.152982Z",
     "iopub.status.busy": "2022-10-14T19:27:34.152554Z",
     "iopub.status.idle": "2022-10-14T19:27:34.159107Z",
     "shell.execute_reply": "2022-10-14T19:27:34.158011Z"
    },
    "id": "83636384",
    "outputId": "bae177a7-6fab-4f8c-c1a4-dd135aeb94f2",
    "papermill": {
     "duration": 0.034836,
     "end_time": "2022-10-14T19:27:34.161328",
     "exception": false,
     "start_time": "2022-10-14T19:27:34.126492",
     "status": "completed"
    },
    "tags": []
   },
   "outputs": [
    {
     "data": {
      "text/plain": [
       "dict_keys(['Bank Withdrawal', 'Credit Card', 'Mailed Check'])"
      ]
     },
     "execution_count": 36,
     "metadata": {},
     "output_type": "execute_result"
    }
   ],
   "source": [
    "Roles.keys()"
   ]
  },
  {
   "cell_type": "markdown",
   "id": "PHauFm8VD57n",
   "metadata": {
    "id": "PHauFm8VD57n"
   },
   "source": [
    "Selecting the rows where the role is 'Credit Card'"
   ]
  },
  {
   "cell_type": "code",
   "execution_count": 37,
   "id": "396930cb",
   "metadata": {
    "colab": {
     "base_uri": "https://localhost:8080/",
     "height": 711
    },
    "execution": {
     "iopub.execute_input": "2022-10-14T19:27:34.211770Z",
     "iopub.status.busy": "2022-10-14T19:27:34.211389Z",
     "iopub.status.idle": "2022-10-14T19:27:34.250465Z",
     "shell.execute_reply": "2022-10-14T19:27:34.249407Z"
    },
    "id": "396930cb",
    "outputId": "db64dacf-1390-41cd-d470-53fabadc64e9",
    "papermill": {
     "duration": 0.067598,
     "end_time": "2022-10-14T19:27:34.253007",
     "exception": false,
     "start_time": "2022-10-14T19:27:34.185409",
     "status": "completed"
    },
    "tags": []
   },
   "outputs": [
    {
     "data": {
      "text/html": [
       "<div>\n",
       "<style scoped>\n",
       "    .dataframe tbody tr th:only-of-type {\n",
       "        vertical-align: middle;\n",
       "    }\n",
       "\n",
       "    .dataframe tbody tr th {\n",
       "        vertical-align: top;\n",
       "    }\n",
       "\n",
       "    .dataframe thead th {\n",
       "        text-align: right;\n",
       "    }\n",
       "</style>\n",
       "<table border=\"1\" class=\"dataframe\">\n",
       "  <thead>\n",
       "    <tr style=\"text-align: right;\">\n",
       "      <th></th>\n",
       "      <th>Gender</th>\n",
       "      <th>Age</th>\n",
       "      <th>Married</th>\n",
       "      <th>Number of Dependents</th>\n",
       "      <th>City</th>\n",
       "      <th>Number of Referrals</th>\n",
       "      <th>Tenure in Months</th>\n",
       "      <th>Offer</th>\n",
       "      <th>Phone Service</th>\n",
       "      <th>Avg Monthly Long Distance Charges</th>\n",
       "      <th>...</th>\n",
       "      <th>Unlimited Data</th>\n",
       "      <th>Contract</th>\n",
       "      <th>Paperless Billing</th>\n",
       "      <th>Payment Method</th>\n",
       "      <th>Monthly Charge</th>\n",
       "      <th>Total Charges</th>\n",
       "      <th>Total Extra Data Charges</th>\n",
       "      <th>Total Long Distance Charges</th>\n",
       "      <th>Total Revenue</th>\n",
       "      <th>Customer Status</th>\n",
       "    </tr>\n",
       "  </thead>\n",
       "  <tbody>\n",
       "    <tr>\n",
       "      <th>5</th>\n",
       "      <td>Female</td>\n",
       "      <td>23</td>\n",
       "      <td>No</td>\n",
       "      <td>3</td>\n",
       "      <td>Midpines</td>\n",
       "      <td>0</td>\n",
       "      <td>9</td>\n",
       "      <td>Offer E</td>\n",
       "      <td>Yes</td>\n",
       "      <td>16.77</td>\n",
       "      <td>...</td>\n",
       "      <td>Yes</td>\n",
       "      <td>Month-to-Month</td>\n",
       "      <td>Yes</td>\n",
       "      <td>Credit Card</td>\n",
       "      <td>69.40</td>\n",
       "      <td>571.45</td>\n",
       "      <td>0</td>\n",
       "      <td>150.93</td>\n",
       "      <td>722.38</td>\n",
       "      <td>Stayed</td>\n",
       "    </tr>\n",
       "    <tr>\n",
       "      <th>7</th>\n",
       "      <td>Male</td>\n",
       "      <td>52</td>\n",
       "      <td>Yes</td>\n",
       "      <td>0</td>\n",
       "      <td>Napa</td>\n",
       "      <td>8</td>\n",
       "      <td>63</td>\n",
       "      <td>Offer B</td>\n",
       "      <td>Yes</td>\n",
       "      <td>12.96</td>\n",
       "      <td>...</td>\n",
       "      <td>No</td>\n",
       "      <td>Two Year</td>\n",
       "      <td>Yes</td>\n",
       "      <td>Credit Card</td>\n",
       "      <td>84.65</td>\n",
       "      <td>5377.80</td>\n",
       "      <td>20</td>\n",
       "      <td>816.48</td>\n",
       "      <td>6214.28</td>\n",
       "      <td>Stayed</td>\n",
       "    </tr>\n",
       "    <tr>\n",
       "      <th>15</th>\n",
       "      <td>Female</td>\n",
       "      <td>58</td>\n",
       "      <td>Yes</td>\n",
       "      <td>2</td>\n",
       "      <td>Woodlake</td>\n",
       "      <td>9</td>\n",
       "      <td>71</td>\n",
       "      <td>Offer A</td>\n",
       "      <td>Yes</td>\n",
       "      <td>27.26</td>\n",
       "      <td>...</td>\n",
       "      <td>Yes</td>\n",
       "      <td>Two Year</td>\n",
       "      <td>Yes</td>\n",
       "      <td>Credit Card</td>\n",
       "      <td>95.75</td>\n",
       "      <td>6849.40</td>\n",
       "      <td>0</td>\n",
       "      <td>1935.46</td>\n",
       "      <td>8784.86</td>\n",
       "      <td>Stayed</td>\n",
       "    </tr>\n",
       "    <tr>\n",
       "      <th>30</th>\n",
       "      <td>Male</td>\n",
       "      <td>23</td>\n",
       "      <td>Yes</td>\n",
       "      <td>3</td>\n",
       "      <td>Moss Beach</td>\n",
       "      <td>1</td>\n",
       "      <td>37</td>\n",
       "      <td>Offer C</td>\n",
       "      <td>Yes</td>\n",
       "      <td>43.01</td>\n",
       "      <td>...</td>\n",
       "      <td>Yes</td>\n",
       "      <td>One Year</td>\n",
       "      <td>No</td>\n",
       "      <td>Credit Card</td>\n",
       "      <td>91.20</td>\n",
       "      <td>3247.55</td>\n",
       "      <td>0</td>\n",
       "      <td>1591.37</td>\n",
       "      <td>4838.92</td>\n",
       "      <td>Stayed</td>\n",
       "    </tr>\n",
       "    <tr>\n",
       "      <th>41</th>\n",
       "      <td>Female</td>\n",
       "      <td>20</td>\n",
       "      <td>No</td>\n",
       "      <td>0</td>\n",
       "      <td>Fremont</td>\n",
       "      <td>0</td>\n",
       "      <td>27</td>\n",
       "      <td>Offer C</td>\n",
       "      <td>Yes</td>\n",
       "      <td>48.91</td>\n",
       "      <td>...</td>\n",
       "      <td>Yes</td>\n",
       "      <td>One Year</td>\n",
       "      <td>No</td>\n",
       "      <td>Credit Card</td>\n",
       "      <td>78.20</td>\n",
       "      <td>2078.95</td>\n",
       "      <td>0</td>\n",
       "      <td>1320.57</td>\n",
       "      <td>3399.52</td>\n",
       "      <td>Stayed</td>\n",
       "    </tr>\n",
       "    <tr>\n",
       "      <th>...</th>\n",
       "      <td>...</td>\n",
       "      <td>...</td>\n",
       "      <td>...</td>\n",
       "      <td>...</td>\n",
       "      <td>...</td>\n",
       "      <td>...</td>\n",
       "      <td>...</td>\n",
       "      <td>...</td>\n",
       "      <td>...</td>\n",
       "      <td>...</td>\n",
       "      <td>...</td>\n",
       "      <td>...</td>\n",
       "      <td>...</td>\n",
       "      <td>...</td>\n",
       "      <td>...</td>\n",
       "      <td>...</td>\n",
       "      <td>...</td>\n",
       "      <td>...</td>\n",
       "      <td>...</td>\n",
       "      <td>...</td>\n",
       "      <td>...</td>\n",
       "    </tr>\n",
       "    <tr>\n",
       "      <th>7035</th>\n",
       "      <td>Female</td>\n",
       "      <td>20</td>\n",
       "      <td>No</td>\n",
       "      <td>0</td>\n",
       "      <td>Los Angeles</td>\n",
       "      <td>0</td>\n",
       "      <td>7</td>\n",
       "      <td>Offer E</td>\n",
       "      <td>Yes</td>\n",
       "      <td>36.49</td>\n",
       "      <td>...</td>\n",
       "      <td>Yes</td>\n",
       "      <td>One Year</td>\n",
       "      <td>Yes</td>\n",
       "      <td>Credit Card</td>\n",
       "      <td>94.05</td>\n",
       "      <td>633.45</td>\n",
       "      <td>0</td>\n",
       "      <td>255.43</td>\n",
       "      <td>888.88</td>\n",
       "      <td>Stayed</td>\n",
       "    </tr>\n",
       "    <tr>\n",
       "      <th>7036</th>\n",
       "      <td>Female</td>\n",
       "      <td>53</td>\n",
       "      <td>No</td>\n",
       "      <td>0</td>\n",
       "      <td>Hume</td>\n",
       "      <td>0</td>\n",
       "      <td>1</td>\n",
       "      <td>Offer E</td>\n",
       "      <td>Yes</td>\n",
       "      <td>42.09</td>\n",
       "      <td>...</td>\n",
       "      <td>Yes</td>\n",
       "      <td>Month-to-Month</td>\n",
       "      <td>Yes</td>\n",
       "      <td>Credit Card</td>\n",
       "      <td>70.15</td>\n",
       "      <td>70.15</td>\n",
       "      <td>0</td>\n",
       "      <td>42.09</td>\n",
       "      <td>112.24</td>\n",
       "      <td>Churned</td>\n",
       "    </tr>\n",
       "    <tr>\n",
       "      <th>7038</th>\n",
       "      <td>Female</td>\n",
       "      <td>20</td>\n",
       "      <td>No</td>\n",
       "      <td>0</td>\n",
       "      <td>La Mesa</td>\n",
       "      <td>0</td>\n",
       "      <td>13</td>\n",
       "      <td>Offer D</td>\n",
       "      <td>Yes</td>\n",
       "      <td>46.68</td>\n",
       "      <td>...</td>\n",
       "      <td>Yes</td>\n",
       "      <td>One Year</td>\n",
       "      <td>No</td>\n",
       "      <td>Credit Card</td>\n",
       "      <td>55.15</td>\n",
       "      <td>742.90</td>\n",
       "      <td>0</td>\n",
       "      <td>606.84</td>\n",
       "      <td>1349.74</td>\n",
       "      <td>Stayed</td>\n",
       "    </tr>\n",
       "    <tr>\n",
       "      <th>7040</th>\n",
       "      <td>Male</td>\n",
       "      <td>22</td>\n",
       "      <td>No</td>\n",
       "      <td>0</td>\n",
       "      <td>Elk</td>\n",
       "      <td>0</td>\n",
       "      <td>2</td>\n",
       "      <td>Offer E</td>\n",
       "      <td>Yes</td>\n",
       "      <td>18.62</td>\n",
       "      <td>...</td>\n",
       "      <td>Yes</td>\n",
       "      <td>Month-to-Month</td>\n",
       "      <td>Yes</td>\n",
       "      <td>Credit Card</td>\n",
       "      <td>50.30</td>\n",
       "      <td>92.75</td>\n",
       "      <td>0</td>\n",
       "      <td>37.24</td>\n",
       "      <td>129.99</td>\n",
       "      <td>Joined</td>\n",
       "    </tr>\n",
       "    <tr>\n",
       "      <th>7041</th>\n",
       "      <td>Male</td>\n",
       "      <td>21</td>\n",
       "      <td>Yes</td>\n",
       "      <td>0</td>\n",
       "      <td>Solana Beach</td>\n",
       "      <td>5</td>\n",
       "      <td>67</td>\n",
       "      <td>Offer A</td>\n",
       "      <td>Yes</td>\n",
       "      <td>2.12</td>\n",
       "      <td>...</td>\n",
       "      <td>Yes</td>\n",
       "      <td>Two Year</td>\n",
       "      <td>No</td>\n",
       "      <td>Credit Card</td>\n",
       "      <td>67.85</td>\n",
       "      <td>4627.65</td>\n",
       "      <td>0</td>\n",
       "      <td>142.04</td>\n",
       "      <td>4769.69</td>\n",
       "      <td>Stayed</td>\n",
       "    </tr>\n",
       "  </tbody>\n",
       "</table>\n",
       "<p>716 rows × 31 columns</p>\n",
       "</div>"
      ],
      "text/plain": [
       "      Gender  Age Married  Number of Dependents          City  \\\n",
       "5     Female   23      No                     3      Midpines   \n",
       "7       Male   52     Yes                     0          Napa   \n",
       "15    Female   58     Yes                     2      Woodlake   \n",
       "30      Male   23     Yes                     3    Moss Beach   \n",
       "41    Female   20      No                     0       Fremont   \n",
       "...      ...  ...     ...                   ...           ...   \n",
       "7035  Female   20      No                     0   Los Angeles   \n",
       "7036  Female   53      No                     0          Hume   \n",
       "7038  Female   20      No                     0       La Mesa   \n",
       "7040    Male   22      No                     0           Elk   \n",
       "7041    Male   21     Yes                     0  Solana Beach   \n",
       "\n",
       "      Number of Referrals  Tenure in Months    Offer Phone Service  \\\n",
       "5                       0                 9  Offer E           Yes   \n",
       "7                       8                63  Offer B           Yes   \n",
       "15                      9                71  Offer A           Yes   \n",
       "30                      1                37  Offer C           Yes   \n",
       "41                      0                27  Offer C           Yes   \n",
       "...                   ...               ...      ...           ...   \n",
       "7035                    0                 7  Offer E           Yes   \n",
       "7036                    0                 1  Offer E           Yes   \n",
       "7038                    0                13  Offer D           Yes   \n",
       "7040                    0                 2  Offer E           Yes   \n",
       "7041                    5                67  Offer A           Yes   \n",
       "\n",
       "      Avg Monthly Long Distance Charges  ... Unlimited Data        Contract  \\\n",
       "5                                 16.77  ...            Yes  Month-to-Month   \n",
       "7                                 12.96  ...             No        Two Year   \n",
       "15                                27.26  ...            Yes        Two Year   \n",
       "30                                43.01  ...            Yes        One Year   \n",
       "41                                48.91  ...            Yes        One Year   \n",
       "...                                 ...  ...            ...             ...   \n",
       "7035                              36.49  ...            Yes        One Year   \n",
       "7036                              42.09  ...            Yes  Month-to-Month   \n",
       "7038                              46.68  ...            Yes        One Year   \n",
       "7040                              18.62  ...            Yes  Month-to-Month   \n",
       "7041                               2.12  ...            Yes        Two Year   \n",
       "\n",
       "     Paperless Billing  Payment Method Monthly Charge Total Charges  \\\n",
       "5                  Yes     Credit Card          69.40        571.45   \n",
       "7                  Yes     Credit Card          84.65       5377.80   \n",
       "15                 Yes     Credit Card          95.75       6849.40   \n",
       "30                  No     Credit Card          91.20       3247.55   \n",
       "41                  No     Credit Card          78.20       2078.95   \n",
       "...                ...             ...            ...           ...   \n",
       "7035               Yes     Credit Card          94.05        633.45   \n",
       "7036               Yes     Credit Card          70.15         70.15   \n",
       "7038                No     Credit Card          55.15        742.90   \n",
       "7040               Yes     Credit Card          50.30         92.75   \n",
       "7041                No     Credit Card          67.85       4627.65   \n",
       "\n",
       "     Total Extra Data Charges Total Long Distance Charges Total Revenue  \\\n",
       "5                           0                      150.93        722.38   \n",
       "7                          20                      816.48       6214.28   \n",
       "15                          0                     1935.46       8784.86   \n",
       "30                          0                     1591.37       4838.92   \n",
       "41                          0                     1320.57       3399.52   \n",
       "...                       ...                         ...           ...   \n",
       "7035                        0                      255.43        888.88   \n",
       "7036                        0                       42.09        112.24   \n",
       "7038                        0                      606.84       1349.74   \n",
       "7040                        0                       37.24        129.99   \n",
       "7041                        0                      142.04       4769.69   \n",
       "\n",
       "     Customer Status  \n",
       "5             Stayed  \n",
       "7             Stayed  \n",
       "15            Stayed  \n",
       "30            Stayed  \n",
       "41            Stayed  \n",
       "...              ...  \n",
       "7035          Stayed  \n",
       "7036         Churned  \n",
       "7038          Stayed  \n",
       "7040          Joined  \n",
       "7041          Stayed  \n",
       "\n",
       "[716 rows x 31 columns]"
      ]
     },
     "execution_count": 37,
     "metadata": {},
     "output_type": "execute_result"
    }
   ],
   "source": [
    "Roles['Credit Card']"
   ]
  },
  {
   "cell_type": "code",
   "execution_count": 38,
   "id": "b5a4315f",
   "metadata": {
    "colab": {
     "base_uri": "https://localhost:8080/"
    },
    "execution": {
     "iopub.execute_input": "2022-10-14T19:27:34.305502Z",
     "iopub.status.busy": "2022-10-14T19:27:34.305086Z",
     "iopub.status.idle": "2022-10-14T19:27:34.311559Z",
     "shell.execute_reply": "2022-10-14T19:27:34.310565Z"
    },
    "id": "b5a4315f",
    "outputId": "f5cfe268-32df-4664-d5ce-3d8112359cc0",
    "papermill": {
     "duration": 0.035473,
     "end_time": "2022-10-14T19:27:34.313833",
     "exception": false,
     "start_time": "2022-10-14T19:27:34.278360",
     "status": "completed"
    },
    "tags": []
   },
   "outputs": [
    {
     "data": {
      "text/plain": [
       "3"
      ]
     },
     "execution_count": 38,
     "metadata": {},
     "output_type": "execute_result"
    }
   ],
   "source": [
    "len(Roles)\n"
   ]
  },
  {
   "cell_type": "markdown",
   "id": "MhnCkIwbEGtA",
   "metadata": {
    "id": "MhnCkIwbEGtA"
   },
   "source": [
    "Checking the number of Offers in the dataset"
   ]
  },
  {
   "cell_type": "code",
   "execution_count": 39,
   "id": "65e2aaa7",
   "metadata": {
    "colab": {
     "base_uri": "https://localhost:8080/"
    },
    "execution": {
     "iopub.execute_input": "2022-10-14T19:27:34.364863Z",
     "iopub.status.busy": "2022-10-14T19:27:34.364114Z",
     "iopub.status.idle": "2022-10-14T19:27:34.372716Z",
     "shell.execute_reply": "2022-10-14T19:27:34.371687Z"
    },
    "id": "65e2aaa7",
    "outputId": "07958600-6c86-40f9-b013-d37038f448a5",
    "papermill": {
     "duration": 0.036394,
     "end_time": "2022-10-14T19:27:34.374910",
     "exception": false,
     "start_time": "2022-10-14T19:27:34.338516",
     "status": "completed"
    },
    "tags": []
   },
   "outputs": [
    {
     "data": {
      "text/plain": [
       "Offer\n",
       "Offer B    585\n",
       "Offer E    544\n",
       "Offer D    392\n",
       "Offer A    382\n",
       "Offer C    291\n",
       "Name: count, dtype: int64"
      ]
     },
     "execution_count": 39,
     "metadata": {},
     "output_type": "execute_result"
    }
   ],
   "source": [
    "off = df1['Offer'].value_counts()\n",
    "off\n"
   ]
  },
  {
   "cell_type": "code",
   "execution_count": 40,
   "id": "mapWd4bk74TS",
   "metadata": {
    "id": "mapWd4bk74TS"
   },
   "outputs": [],
   "source": [
    "import plotly.graph_objects as go"
   ]
  },
  {
   "cell_type": "code",
   "execution_count": 41,
   "id": "fc06e605",
   "metadata": {
    "colab": {
     "base_uri": "https://localhost:8080/",
     "height": 542
    },
    "execution": {
     "iopub.execute_input": "2022-10-14T19:27:34.427356Z",
     "iopub.status.busy": "2022-10-14T19:27:34.426948Z",
     "iopub.status.idle": "2022-10-14T19:27:34.441228Z",
     "shell.execute_reply": "2022-10-14T19:27:34.440071Z"
    },
    "id": "fc06e605",
    "outputId": "03986938-57e5-4749-8238-ca4d03b9beda",
    "papermill": {
     "duration": 0.044138,
     "end_time": "2022-10-14T19:27:34.443724",
     "exception": false,
     "start_time": "2022-10-14T19:27:34.399586",
     "status": "completed"
    },
    "tags": []
   },
   "outputs": [
    {
     "data": {
      "application/vnd.plotly.v1+json": {
       "config": {
        "plotlyServerURL": "https://plot.ly"
       },
       "data": [
        {
         "type": "bar",
         "x": [
          "Offer B",
          "Offer E",
          "Offer D",
          "Offer A",
          "Offer C"
         ],
         "y": [
          585,
          544,
          392,
          382,
          291
         ]
        }
       ],
       "layout": {
        "template": {
         "data": {
          "bar": [
           {
            "error_x": {
             "color": "#2a3f5f"
            },
            "error_y": {
             "color": "#2a3f5f"
            },
            "marker": {
             "line": {
              "color": "#E5ECF6",
              "width": 0.5
             },
             "pattern": {
              "fillmode": "overlay",
              "size": 10,
              "solidity": 0.2
             }
            },
            "type": "bar"
           }
          ],
          "barpolar": [
           {
            "marker": {
             "line": {
              "color": "#E5ECF6",
              "width": 0.5
             },
             "pattern": {
              "fillmode": "overlay",
              "size": 10,
              "solidity": 0.2
             }
            },
            "type": "barpolar"
           }
          ],
          "carpet": [
           {
            "aaxis": {
             "endlinecolor": "#2a3f5f",
             "gridcolor": "white",
             "linecolor": "white",
             "minorgridcolor": "white",
             "startlinecolor": "#2a3f5f"
            },
            "baxis": {
             "endlinecolor": "#2a3f5f",
             "gridcolor": "white",
             "linecolor": "white",
             "minorgridcolor": "white",
             "startlinecolor": "#2a3f5f"
            },
            "type": "carpet"
           }
          ],
          "choropleth": [
           {
            "colorbar": {
             "outlinewidth": 0,
             "ticks": ""
            },
            "type": "choropleth"
           }
          ],
          "contour": [
           {
            "colorbar": {
             "outlinewidth": 0,
             "ticks": ""
            },
            "colorscale": [
             [
              0,
              "#0d0887"
             ],
             [
              0.1111111111111111,
              "#46039f"
             ],
             [
              0.2222222222222222,
              "#7201a8"
             ],
             [
              0.3333333333333333,
              "#9c179e"
             ],
             [
              0.4444444444444444,
              "#bd3786"
             ],
             [
              0.5555555555555556,
              "#d8576b"
             ],
             [
              0.6666666666666666,
              "#ed7953"
             ],
             [
              0.7777777777777778,
              "#fb9f3a"
             ],
             [
              0.8888888888888888,
              "#fdca26"
             ],
             [
              1,
              "#f0f921"
             ]
            ],
            "type": "contour"
           }
          ],
          "contourcarpet": [
           {
            "colorbar": {
             "outlinewidth": 0,
             "ticks": ""
            },
            "type": "contourcarpet"
           }
          ],
          "heatmap": [
           {
            "colorbar": {
             "outlinewidth": 0,
             "ticks": ""
            },
            "colorscale": [
             [
              0,
              "#0d0887"
             ],
             [
              0.1111111111111111,
              "#46039f"
             ],
             [
              0.2222222222222222,
              "#7201a8"
             ],
             [
              0.3333333333333333,
              "#9c179e"
             ],
             [
              0.4444444444444444,
              "#bd3786"
             ],
             [
              0.5555555555555556,
              "#d8576b"
             ],
             [
              0.6666666666666666,
              "#ed7953"
             ],
             [
              0.7777777777777778,
              "#fb9f3a"
             ],
             [
              0.8888888888888888,
              "#fdca26"
             ],
             [
              1,
              "#f0f921"
             ]
            ],
            "type": "heatmap"
           }
          ],
          "heatmapgl": [
           {
            "colorbar": {
             "outlinewidth": 0,
             "ticks": ""
            },
            "colorscale": [
             [
              0,
              "#0d0887"
             ],
             [
              0.1111111111111111,
              "#46039f"
             ],
             [
              0.2222222222222222,
              "#7201a8"
             ],
             [
              0.3333333333333333,
              "#9c179e"
             ],
             [
              0.4444444444444444,
              "#bd3786"
             ],
             [
              0.5555555555555556,
              "#d8576b"
             ],
             [
              0.6666666666666666,
              "#ed7953"
             ],
             [
              0.7777777777777778,
              "#fb9f3a"
             ],
             [
              0.8888888888888888,
              "#fdca26"
             ],
             [
              1,
              "#f0f921"
             ]
            ],
            "type": "heatmapgl"
           }
          ],
          "histogram": [
           {
            "marker": {
             "pattern": {
              "fillmode": "overlay",
              "size": 10,
              "solidity": 0.2
             }
            },
            "type": "histogram"
           }
          ],
          "histogram2d": [
           {
            "colorbar": {
             "outlinewidth": 0,
             "ticks": ""
            },
            "colorscale": [
             [
              0,
              "#0d0887"
             ],
             [
              0.1111111111111111,
              "#46039f"
             ],
             [
              0.2222222222222222,
              "#7201a8"
             ],
             [
              0.3333333333333333,
              "#9c179e"
             ],
             [
              0.4444444444444444,
              "#bd3786"
             ],
             [
              0.5555555555555556,
              "#d8576b"
             ],
             [
              0.6666666666666666,
              "#ed7953"
             ],
             [
              0.7777777777777778,
              "#fb9f3a"
             ],
             [
              0.8888888888888888,
              "#fdca26"
             ],
             [
              1,
              "#f0f921"
             ]
            ],
            "type": "histogram2d"
           }
          ],
          "histogram2dcontour": [
           {
            "colorbar": {
             "outlinewidth": 0,
             "ticks": ""
            },
            "colorscale": [
             [
              0,
              "#0d0887"
             ],
             [
              0.1111111111111111,
              "#46039f"
             ],
             [
              0.2222222222222222,
              "#7201a8"
             ],
             [
              0.3333333333333333,
              "#9c179e"
             ],
             [
              0.4444444444444444,
              "#bd3786"
             ],
             [
              0.5555555555555556,
              "#d8576b"
             ],
             [
              0.6666666666666666,
              "#ed7953"
             ],
             [
              0.7777777777777778,
              "#fb9f3a"
             ],
             [
              0.8888888888888888,
              "#fdca26"
             ],
             [
              1,
              "#f0f921"
             ]
            ],
            "type": "histogram2dcontour"
           }
          ],
          "mesh3d": [
           {
            "colorbar": {
             "outlinewidth": 0,
             "ticks": ""
            },
            "type": "mesh3d"
           }
          ],
          "parcoords": [
           {
            "line": {
             "colorbar": {
              "outlinewidth": 0,
              "ticks": ""
             }
            },
            "type": "parcoords"
           }
          ],
          "pie": [
           {
            "automargin": true,
            "type": "pie"
           }
          ],
          "scatter": [
           {
            "fillpattern": {
             "fillmode": "overlay",
             "size": 10,
             "solidity": 0.2
            },
            "type": "scatter"
           }
          ],
          "scatter3d": [
           {
            "line": {
             "colorbar": {
              "outlinewidth": 0,
              "ticks": ""
             }
            },
            "marker": {
             "colorbar": {
              "outlinewidth": 0,
              "ticks": ""
             }
            },
            "type": "scatter3d"
           }
          ],
          "scattercarpet": [
           {
            "marker": {
             "colorbar": {
              "outlinewidth": 0,
              "ticks": ""
             }
            },
            "type": "scattercarpet"
           }
          ],
          "scattergeo": [
           {
            "marker": {
             "colorbar": {
              "outlinewidth": 0,
              "ticks": ""
             }
            },
            "type": "scattergeo"
           }
          ],
          "scattergl": [
           {
            "marker": {
             "colorbar": {
              "outlinewidth": 0,
              "ticks": ""
             }
            },
            "type": "scattergl"
           }
          ],
          "scattermapbox": [
           {
            "marker": {
             "colorbar": {
              "outlinewidth": 0,
              "ticks": ""
             }
            },
            "type": "scattermapbox"
           }
          ],
          "scatterpolar": [
           {
            "marker": {
             "colorbar": {
              "outlinewidth": 0,
              "ticks": ""
             }
            },
            "type": "scatterpolar"
           }
          ],
          "scatterpolargl": [
           {
            "marker": {
             "colorbar": {
              "outlinewidth": 0,
              "ticks": ""
             }
            },
            "type": "scatterpolargl"
           }
          ],
          "scatterternary": [
           {
            "marker": {
             "colorbar": {
              "outlinewidth": 0,
              "ticks": ""
             }
            },
            "type": "scatterternary"
           }
          ],
          "surface": [
           {
            "colorbar": {
             "outlinewidth": 0,
             "ticks": ""
            },
            "colorscale": [
             [
              0,
              "#0d0887"
             ],
             [
              0.1111111111111111,
              "#46039f"
             ],
             [
              0.2222222222222222,
              "#7201a8"
             ],
             [
              0.3333333333333333,
              "#9c179e"
             ],
             [
              0.4444444444444444,
              "#bd3786"
             ],
             [
              0.5555555555555556,
              "#d8576b"
             ],
             [
              0.6666666666666666,
              "#ed7953"
             ],
             [
              0.7777777777777778,
              "#fb9f3a"
             ],
             [
              0.8888888888888888,
              "#fdca26"
             ],
             [
              1,
              "#f0f921"
             ]
            ],
            "type": "surface"
           }
          ],
          "table": [
           {
            "cells": {
             "fill": {
              "color": "#EBF0F8"
             },
             "line": {
              "color": "white"
             }
            },
            "header": {
             "fill": {
              "color": "#C8D4E3"
             },
             "line": {
              "color": "white"
             }
            },
            "type": "table"
           }
          ]
         },
         "layout": {
          "annotationdefaults": {
           "arrowcolor": "#2a3f5f",
           "arrowhead": 0,
           "arrowwidth": 1
          },
          "autotypenumbers": "strict",
          "coloraxis": {
           "colorbar": {
            "outlinewidth": 0,
            "ticks": ""
           }
          },
          "colorscale": {
           "diverging": [
            [
             0,
             "#8e0152"
            ],
            [
             0.1,
             "#c51b7d"
            ],
            [
             0.2,
             "#de77ae"
            ],
            [
             0.3,
             "#f1b6da"
            ],
            [
             0.4,
             "#fde0ef"
            ],
            [
             0.5,
             "#f7f7f7"
            ],
            [
             0.6,
             "#e6f5d0"
            ],
            [
             0.7,
             "#b8e186"
            ],
            [
             0.8,
             "#7fbc41"
            ],
            [
             0.9,
             "#4d9221"
            ],
            [
             1,
             "#276419"
            ]
           ],
           "sequential": [
            [
             0,
             "#0d0887"
            ],
            [
             0.1111111111111111,
             "#46039f"
            ],
            [
             0.2222222222222222,
             "#7201a8"
            ],
            [
             0.3333333333333333,
             "#9c179e"
            ],
            [
             0.4444444444444444,
             "#bd3786"
            ],
            [
             0.5555555555555556,
             "#d8576b"
            ],
            [
             0.6666666666666666,
             "#ed7953"
            ],
            [
             0.7777777777777778,
             "#fb9f3a"
            ],
            [
             0.8888888888888888,
             "#fdca26"
            ],
            [
             1,
             "#f0f921"
            ]
           ],
           "sequentialminus": [
            [
             0,
             "#0d0887"
            ],
            [
             0.1111111111111111,
             "#46039f"
            ],
            [
             0.2222222222222222,
             "#7201a8"
            ],
            [
             0.3333333333333333,
             "#9c179e"
            ],
            [
             0.4444444444444444,
             "#bd3786"
            ],
            [
             0.5555555555555556,
             "#d8576b"
            ],
            [
             0.6666666666666666,
             "#ed7953"
            ],
            [
             0.7777777777777778,
             "#fb9f3a"
            ],
            [
             0.8888888888888888,
             "#fdca26"
            ],
            [
             1,
             "#f0f921"
            ]
           ]
          },
          "colorway": [
           "#636efa",
           "#EF553B",
           "#00cc96",
           "#ab63fa",
           "#FFA15A",
           "#19d3f3",
           "#FF6692",
           "#B6E880",
           "#FF97FF",
           "#FECB52"
          ],
          "font": {
           "color": "#2a3f5f"
          },
          "geo": {
           "bgcolor": "white",
           "lakecolor": "white",
           "landcolor": "#E5ECF6",
           "showlakes": true,
           "showland": true,
           "subunitcolor": "white"
          },
          "hoverlabel": {
           "align": "left"
          },
          "hovermode": "closest",
          "mapbox": {
           "style": "light"
          },
          "paper_bgcolor": "white",
          "plot_bgcolor": "#E5ECF6",
          "polar": {
           "angularaxis": {
            "gridcolor": "white",
            "linecolor": "white",
            "ticks": ""
           },
           "bgcolor": "#E5ECF6",
           "radialaxis": {
            "gridcolor": "white",
            "linecolor": "white",
            "ticks": ""
           }
          },
          "scene": {
           "xaxis": {
            "backgroundcolor": "#E5ECF6",
            "gridcolor": "white",
            "gridwidth": 2,
            "linecolor": "white",
            "showbackground": true,
            "ticks": "",
            "zerolinecolor": "white"
           },
           "yaxis": {
            "backgroundcolor": "#E5ECF6",
            "gridcolor": "white",
            "gridwidth": 2,
            "linecolor": "white",
            "showbackground": true,
            "ticks": "",
            "zerolinecolor": "white"
           },
           "zaxis": {
            "backgroundcolor": "#E5ECF6",
            "gridcolor": "white",
            "gridwidth": 2,
            "linecolor": "white",
            "showbackground": true,
            "ticks": "",
            "zerolinecolor": "white"
           }
          },
          "shapedefaults": {
           "line": {
            "color": "#2a3f5f"
           }
          },
          "ternary": {
           "aaxis": {
            "gridcolor": "white",
            "linecolor": "white",
            "ticks": ""
           },
           "baxis": {
            "gridcolor": "white",
            "linecolor": "white",
            "ticks": ""
           },
           "bgcolor": "#E5ECF6",
           "caxis": {
            "gridcolor": "white",
            "linecolor": "white",
            "ticks": ""
           }
          },
          "title": {
           "x": 0.05
          },
          "xaxis": {
           "automargin": true,
           "gridcolor": "white",
           "linecolor": "white",
           "ticks": "",
           "title": {
            "standoff": 15
           },
           "zerolinecolor": "white",
           "zerolinewidth": 2
          },
          "yaxis": {
           "automargin": true,
           "gridcolor": "white",
           "linecolor": "white",
           "ticks": "",
           "title": {
            "standoff": 15
           },
           "zerolinecolor": "white",
           "zerolinewidth": 2
          }
         }
        }
       }
      }
     },
     "metadata": {},
     "output_type": "display_data"
    }
   ],
   "source": [
    "fig = go.Figure([go.Bar(x=off.index, y=off.values)])\n",
    "fig.show()"
   ]
  },
  {
   "cell_type": "code",
   "execution_count": 42,
   "id": "56fbeefb",
   "metadata": {
    "colab": {
     "base_uri": "https://localhost:8080/"
    },
    "execution": {
     "iopub.execute_input": "2022-10-14T19:27:34.496529Z",
     "iopub.status.busy": "2022-10-14T19:27:34.496124Z",
     "iopub.status.idle": "2022-10-14T19:27:34.504946Z",
     "shell.execute_reply": "2022-10-14T19:27:34.503989Z"
    },
    "id": "56fbeefb",
    "outputId": "b3c3416a-9024-401b-b934-848d838b0c6e",
    "papermill": {
     "duration": 0.03816,
     "end_time": "2022-10-14T19:27:34.507117",
     "exception": false,
     "start_time": "2022-10-14T19:27:34.468957",
     "status": "completed"
    },
    "tags": []
   },
   "outputs": [
    {
     "data": {
      "text/plain": [
       "Offer\n",
       "Offer B    204\n",
       "Offer A    171\n",
       "Offer E    126\n",
       "Offer D    119\n",
       "Offer C     96\n",
       "Name: count, dtype: int64"
      ]
     },
     "execution_count": 42,
     "metadata": {},
     "output_type": "execute_result"
    }
   ],
   "source": [
    "df1_off = Roles['Credit Card'].Offer.value_counts()\n",
    "df1_off"
   ]
  },
  {
   "cell_type": "code",
   "execution_count": 43,
   "id": "322f15f8",
   "metadata": {
    "colab": {
     "base_uri": "https://localhost:8080/",
     "height": 542
    },
    "execution": {
     "iopub.execute_input": "2022-10-14T19:27:34.561097Z",
     "iopub.status.busy": "2022-10-14T19:27:34.560006Z",
     "iopub.status.idle": "2022-10-14T19:27:34.571294Z",
     "shell.execute_reply": "2022-10-14T19:27:34.570257Z"
    },
    "id": "322f15f8",
    "outputId": "b708dfcd-a01f-42b0-c0e3-c7811411e217",
    "papermill": {
     "duration": 0.040662,
     "end_time": "2022-10-14T19:27:34.573417",
     "exception": false,
     "start_time": "2022-10-14T19:27:34.532755",
     "status": "completed"
    },
    "tags": []
   },
   "outputs": [
    {
     "data": {
      "application/vnd.plotly.v1+json": {
       "config": {
        "plotlyServerURL": "https://plot.ly"
       },
       "data": [
        {
         "type": "bar",
         "x": [
          "Offer B",
          "Offer A",
          "Offer E",
          "Offer D",
          "Offer C"
         ],
         "y": [
          204,
          171,
          126,
          119,
          96
         ]
        }
       ],
       "layout": {
        "template": {
         "data": {
          "bar": [
           {
            "error_x": {
             "color": "#2a3f5f"
            },
            "error_y": {
             "color": "#2a3f5f"
            },
            "marker": {
             "line": {
              "color": "#E5ECF6",
              "width": 0.5
             },
             "pattern": {
              "fillmode": "overlay",
              "size": 10,
              "solidity": 0.2
             }
            },
            "type": "bar"
           }
          ],
          "barpolar": [
           {
            "marker": {
             "line": {
              "color": "#E5ECF6",
              "width": 0.5
             },
             "pattern": {
              "fillmode": "overlay",
              "size": 10,
              "solidity": 0.2
             }
            },
            "type": "barpolar"
           }
          ],
          "carpet": [
           {
            "aaxis": {
             "endlinecolor": "#2a3f5f",
             "gridcolor": "white",
             "linecolor": "white",
             "minorgridcolor": "white",
             "startlinecolor": "#2a3f5f"
            },
            "baxis": {
             "endlinecolor": "#2a3f5f",
             "gridcolor": "white",
             "linecolor": "white",
             "minorgridcolor": "white",
             "startlinecolor": "#2a3f5f"
            },
            "type": "carpet"
           }
          ],
          "choropleth": [
           {
            "colorbar": {
             "outlinewidth": 0,
             "ticks": ""
            },
            "type": "choropleth"
           }
          ],
          "contour": [
           {
            "colorbar": {
             "outlinewidth": 0,
             "ticks": ""
            },
            "colorscale": [
             [
              0,
              "#0d0887"
             ],
             [
              0.1111111111111111,
              "#46039f"
             ],
             [
              0.2222222222222222,
              "#7201a8"
             ],
             [
              0.3333333333333333,
              "#9c179e"
             ],
             [
              0.4444444444444444,
              "#bd3786"
             ],
             [
              0.5555555555555556,
              "#d8576b"
             ],
             [
              0.6666666666666666,
              "#ed7953"
             ],
             [
              0.7777777777777778,
              "#fb9f3a"
             ],
             [
              0.8888888888888888,
              "#fdca26"
             ],
             [
              1,
              "#f0f921"
             ]
            ],
            "type": "contour"
           }
          ],
          "contourcarpet": [
           {
            "colorbar": {
             "outlinewidth": 0,
             "ticks": ""
            },
            "type": "contourcarpet"
           }
          ],
          "heatmap": [
           {
            "colorbar": {
             "outlinewidth": 0,
             "ticks": ""
            },
            "colorscale": [
             [
              0,
              "#0d0887"
             ],
             [
              0.1111111111111111,
              "#46039f"
             ],
             [
              0.2222222222222222,
              "#7201a8"
             ],
             [
              0.3333333333333333,
              "#9c179e"
             ],
             [
              0.4444444444444444,
              "#bd3786"
             ],
             [
              0.5555555555555556,
              "#d8576b"
             ],
             [
              0.6666666666666666,
              "#ed7953"
             ],
             [
              0.7777777777777778,
              "#fb9f3a"
             ],
             [
              0.8888888888888888,
              "#fdca26"
             ],
             [
              1,
              "#f0f921"
             ]
            ],
            "type": "heatmap"
           }
          ],
          "heatmapgl": [
           {
            "colorbar": {
             "outlinewidth": 0,
             "ticks": ""
            },
            "colorscale": [
             [
              0,
              "#0d0887"
             ],
             [
              0.1111111111111111,
              "#46039f"
             ],
             [
              0.2222222222222222,
              "#7201a8"
             ],
             [
              0.3333333333333333,
              "#9c179e"
             ],
             [
              0.4444444444444444,
              "#bd3786"
             ],
             [
              0.5555555555555556,
              "#d8576b"
             ],
             [
              0.6666666666666666,
              "#ed7953"
             ],
             [
              0.7777777777777778,
              "#fb9f3a"
             ],
             [
              0.8888888888888888,
              "#fdca26"
             ],
             [
              1,
              "#f0f921"
             ]
            ],
            "type": "heatmapgl"
           }
          ],
          "histogram": [
           {
            "marker": {
             "pattern": {
              "fillmode": "overlay",
              "size": 10,
              "solidity": 0.2
             }
            },
            "type": "histogram"
           }
          ],
          "histogram2d": [
           {
            "colorbar": {
             "outlinewidth": 0,
             "ticks": ""
            },
            "colorscale": [
             [
              0,
              "#0d0887"
             ],
             [
              0.1111111111111111,
              "#46039f"
             ],
             [
              0.2222222222222222,
              "#7201a8"
             ],
             [
              0.3333333333333333,
              "#9c179e"
             ],
             [
              0.4444444444444444,
              "#bd3786"
             ],
             [
              0.5555555555555556,
              "#d8576b"
             ],
             [
              0.6666666666666666,
              "#ed7953"
             ],
             [
              0.7777777777777778,
              "#fb9f3a"
             ],
             [
              0.8888888888888888,
              "#fdca26"
             ],
             [
              1,
              "#f0f921"
             ]
            ],
            "type": "histogram2d"
           }
          ],
          "histogram2dcontour": [
           {
            "colorbar": {
             "outlinewidth": 0,
             "ticks": ""
            },
            "colorscale": [
             [
              0,
              "#0d0887"
             ],
             [
              0.1111111111111111,
              "#46039f"
             ],
             [
              0.2222222222222222,
              "#7201a8"
             ],
             [
              0.3333333333333333,
              "#9c179e"
             ],
             [
              0.4444444444444444,
              "#bd3786"
             ],
             [
              0.5555555555555556,
              "#d8576b"
             ],
             [
              0.6666666666666666,
              "#ed7953"
             ],
             [
              0.7777777777777778,
              "#fb9f3a"
             ],
             [
              0.8888888888888888,
              "#fdca26"
             ],
             [
              1,
              "#f0f921"
             ]
            ],
            "type": "histogram2dcontour"
           }
          ],
          "mesh3d": [
           {
            "colorbar": {
             "outlinewidth": 0,
             "ticks": ""
            },
            "type": "mesh3d"
           }
          ],
          "parcoords": [
           {
            "line": {
             "colorbar": {
              "outlinewidth": 0,
              "ticks": ""
             }
            },
            "type": "parcoords"
           }
          ],
          "pie": [
           {
            "automargin": true,
            "type": "pie"
           }
          ],
          "scatter": [
           {
            "fillpattern": {
             "fillmode": "overlay",
             "size": 10,
             "solidity": 0.2
            },
            "type": "scatter"
           }
          ],
          "scatter3d": [
           {
            "line": {
             "colorbar": {
              "outlinewidth": 0,
              "ticks": ""
             }
            },
            "marker": {
             "colorbar": {
              "outlinewidth": 0,
              "ticks": ""
             }
            },
            "type": "scatter3d"
           }
          ],
          "scattercarpet": [
           {
            "marker": {
             "colorbar": {
              "outlinewidth": 0,
              "ticks": ""
             }
            },
            "type": "scattercarpet"
           }
          ],
          "scattergeo": [
           {
            "marker": {
             "colorbar": {
              "outlinewidth": 0,
              "ticks": ""
             }
            },
            "type": "scattergeo"
           }
          ],
          "scattergl": [
           {
            "marker": {
             "colorbar": {
              "outlinewidth": 0,
              "ticks": ""
             }
            },
            "type": "scattergl"
           }
          ],
          "scattermapbox": [
           {
            "marker": {
             "colorbar": {
              "outlinewidth": 0,
              "ticks": ""
             }
            },
            "type": "scattermapbox"
           }
          ],
          "scatterpolar": [
           {
            "marker": {
             "colorbar": {
              "outlinewidth": 0,
              "ticks": ""
             }
            },
            "type": "scatterpolar"
           }
          ],
          "scatterpolargl": [
           {
            "marker": {
             "colorbar": {
              "outlinewidth": 0,
              "ticks": ""
             }
            },
            "type": "scatterpolargl"
           }
          ],
          "scatterternary": [
           {
            "marker": {
             "colorbar": {
              "outlinewidth": 0,
              "ticks": ""
             }
            },
            "type": "scatterternary"
           }
          ],
          "surface": [
           {
            "colorbar": {
             "outlinewidth": 0,
             "ticks": ""
            },
            "colorscale": [
             [
              0,
              "#0d0887"
             ],
             [
              0.1111111111111111,
              "#46039f"
             ],
             [
              0.2222222222222222,
              "#7201a8"
             ],
             [
              0.3333333333333333,
              "#9c179e"
             ],
             [
              0.4444444444444444,
              "#bd3786"
             ],
             [
              0.5555555555555556,
              "#d8576b"
             ],
             [
              0.6666666666666666,
              "#ed7953"
             ],
             [
              0.7777777777777778,
              "#fb9f3a"
             ],
             [
              0.8888888888888888,
              "#fdca26"
             ],
             [
              1,
              "#f0f921"
             ]
            ],
            "type": "surface"
           }
          ],
          "table": [
           {
            "cells": {
             "fill": {
              "color": "#EBF0F8"
             },
             "line": {
              "color": "white"
             }
            },
            "header": {
             "fill": {
              "color": "#C8D4E3"
             },
             "line": {
              "color": "white"
             }
            },
            "type": "table"
           }
          ]
         },
         "layout": {
          "annotationdefaults": {
           "arrowcolor": "#2a3f5f",
           "arrowhead": 0,
           "arrowwidth": 1
          },
          "autotypenumbers": "strict",
          "coloraxis": {
           "colorbar": {
            "outlinewidth": 0,
            "ticks": ""
           }
          },
          "colorscale": {
           "diverging": [
            [
             0,
             "#8e0152"
            ],
            [
             0.1,
             "#c51b7d"
            ],
            [
             0.2,
             "#de77ae"
            ],
            [
             0.3,
             "#f1b6da"
            ],
            [
             0.4,
             "#fde0ef"
            ],
            [
             0.5,
             "#f7f7f7"
            ],
            [
             0.6,
             "#e6f5d0"
            ],
            [
             0.7,
             "#b8e186"
            ],
            [
             0.8,
             "#7fbc41"
            ],
            [
             0.9,
             "#4d9221"
            ],
            [
             1,
             "#276419"
            ]
           ],
           "sequential": [
            [
             0,
             "#0d0887"
            ],
            [
             0.1111111111111111,
             "#46039f"
            ],
            [
             0.2222222222222222,
             "#7201a8"
            ],
            [
             0.3333333333333333,
             "#9c179e"
            ],
            [
             0.4444444444444444,
             "#bd3786"
            ],
            [
             0.5555555555555556,
             "#d8576b"
            ],
            [
             0.6666666666666666,
             "#ed7953"
            ],
            [
             0.7777777777777778,
             "#fb9f3a"
            ],
            [
             0.8888888888888888,
             "#fdca26"
            ],
            [
             1,
             "#f0f921"
            ]
           ],
           "sequentialminus": [
            [
             0,
             "#0d0887"
            ],
            [
             0.1111111111111111,
             "#46039f"
            ],
            [
             0.2222222222222222,
             "#7201a8"
            ],
            [
             0.3333333333333333,
             "#9c179e"
            ],
            [
             0.4444444444444444,
             "#bd3786"
            ],
            [
             0.5555555555555556,
             "#d8576b"
            ],
            [
             0.6666666666666666,
             "#ed7953"
            ],
            [
             0.7777777777777778,
             "#fb9f3a"
            ],
            [
             0.8888888888888888,
             "#fdca26"
            ],
            [
             1,
             "#f0f921"
            ]
           ]
          },
          "colorway": [
           "#636efa",
           "#EF553B",
           "#00cc96",
           "#ab63fa",
           "#FFA15A",
           "#19d3f3",
           "#FF6692",
           "#B6E880",
           "#FF97FF",
           "#FECB52"
          ],
          "font": {
           "color": "#2a3f5f"
          },
          "geo": {
           "bgcolor": "white",
           "lakecolor": "white",
           "landcolor": "#E5ECF6",
           "showlakes": true,
           "showland": true,
           "subunitcolor": "white"
          },
          "hoverlabel": {
           "align": "left"
          },
          "hovermode": "closest",
          "mapbox": {
           "style": "light"
          },
          "paper_bgcolor": "white",
          "plot_bgcolor": "#E5ECF6",
          "polar": {
           "angularaxis": {
            "gridcolor": "white",
            "linecolor": "white",
            "ticks": ""
           },
           "bgcolor": "#E5ECF6",
           "radialaxis": {
            "gridcolor": "white",
            "linecolor": "white",
            "ticks": ""
           }
          },
          "scene": {
           "xaxis": {
            "backgroundcolor": "#E5ECF6",
            "gridcolor": "white",
            "gridwidth": 2,
            "linecolor": "white",
            "showbackground": true,
            "ticks": "",
            "zerolinecolor": "white"
           },
           "yaxis": {
            "backgroundcolor": "#E5ECF6",
            "gridcolor": "white",
            "gridwidth": 2,
            "linecolor": "white",
            "showbackground": true,
            "ticks": "",
            "zerolinecolor": "white"
           },
           "zaxis": {
            "backgroundcolor": "#E5ECF6",
            "gridcolor": "white",
            "gridwidth": 2,
            "linecolor": "white",
            "showbackground": true,
            "ticks": "",
            "zerolinecolor": "white"
           }
          },
          "shapedefaults": {
           "line": {
            "color": "#2a3f5f"
           }
          },
          "ternary": {
           "aaxis": {
            "gridcolor": "white",
            "linecolor": "white",
            "ticks": ""
           },
           "baxis": {
            "gridcolor": "white",
            "linecolor": "white",
            "ticks": ""
           },
           "bgcolor": "#E5ECF6",
           "caxis": {
            "gridcolor": "white",
            "linecolor": "white",
            "ticks": ""
           }
          },
          "title": {
           "x": 0.05
          },
          "xaxis": {
           "automargin": true,
           "gridcolor": "white",
           "linecolor": "white",
           "ticks": "",
           "title": {
            "standoff": 15
           },
           "zerolinecolor": "white",
           "zerolinewidth": 2
          },
          "yaxis": {
           "automargin": true,
           "gridcolor": "white",
           "linecolor": "white",
           "ticks": "",
           "title": {
            "standoff": 15
           },
           "zerolinecolor": "white",
           "zerolinewidth": 2
          }
         }
        }
       }
      }
     },
     "metadata": {},
     "output_type": "display_data"
    }
   ],
   "source": [
    "fig = go.Figure([go.Bar(x= df1_off.index, y=df1_off.values)])\n",
    "fig.show()"
   ]
  },
  {
   "cell_type": "code",
   "execution_count": 44,
   "id": "52a076a2",
   "metadata": {
    "execution": {
     "iopub.execute_input": "2022-10-14T19:27:34.834255Z",
     "iopub.status.busy": "2022-10-14T19:27:34.833705Z",
     "iopub.status.idle": "2022-10-14T19:27:34.841525Z",
     "shell.execute_reply": "2022-10-14T19:27:34.840625Z"
    },
    "id": "52a076a2",
    "papermill": {
     "duration": 0.040141,
     "end_time": "2022-10-14T19:27:34.843979",
     "exception": false,
     "start_time": "2022-10-14T19:27:34.803838",
     "status": "completed"
    },
    "tags": []
   },
   "outputs": [],
   "source": [
    "df1 = df1.rename(columns = {'Customer Status':'Customer_Status'})"
   ]
  },
  {
   "cell_type": "code",
   "execution_count": 45,
   "id": "77eaeec8",
   "metadata": {
    "colab": {
     "base_uri": "https://localhost:8080/"
    },
    "execution": {
     "iopub.execute_input": "2022-10-14T19:27:34.898698Z",
     "iopub.status.busy": "2022-10-14T19:27:34.898321Z",
     "iopub.status.idle": "2022-10-14T19:27:34.911705Z",
     "shell.execute_reply": "2022-10-14T19:27:34.910590Z"
    },
    "id": "77eaeec8",
    "outputId": "98e74e8b-981a-4e5f-996c-88b7bacf40ac",
    "papermill": {
     "duration": 0.043025,
     "end_time": "2022-10-14T19:27:34.913905",
     "exception": false,
     "start_time": "2022-10-14T19:27:34.870880",
     "status": "completed"
    },
    "tags": []
   },
   "outputs": [
    {
     "data": {
      "text/plain": [
       "dict_keys(['Churned', 'Stayed', 'Joined'])"
      ]
     },
     "execution_count": 45,
     "metadata": {},
     "output_type": "execute_result"
    }
   ],
   "source": [
    "Roles1 = {}\n",
    "for k in df1['Customer_Status'].unique():\n",
    "    Roles1[k] = df1[df1['Customer_Status'] == k]\n",
    "Roles1.keys()"
   ]
  },
  {
   "cell_type": "code",
   "execution_count": 46,
   "id": "9c7e3068",
   "metadata": {
    "colab": {
     "base_uri": "https://localhost:8080/"
    },
    "execution": {
     "iopub.execute_input": "2022-10-14T19:27:34.969365Z",
     "iopub.status.busy": "2022-10-14T19:27:34.968519Z",
     "iopub.status.idle": "2022-10-14T19:27:34.977299Z",
     "shell.execute_reply": "2022-10-14T19:27:34.976174Z"
    },
    "id": "9c7e3068",
    "outputId": "884a9477-5052-4c1d-9a9d-db3bb1bdccbb",
    "papermill": {
     "duration": 0.039495,
     "end_time": "2022-10-14T19:27:34.979541",
     "exception": false,
     "start_time": "2022-10-14T19:27:34.940046",
     "status": "completed"
    },
    "tags": []
   },
   "outputs": [
    {
     "data": {
      "text/plain": [
       "Offer\n",
       "Offer B    497\n",
       "Offer A    348\n",
       "Offer D    250\n",
       "Offer C    204\n",
       "Offer E    115\n",
       "Name: count, dtype: int64"
      ]
     },
     "execution_count": 46,
     "metadata": {},
     "output_type": "execute_result"
    }
   ],
   "source": [
    "df1_state = Roles1['Stayed'].Offer.value_counts()\n",
    "df1_state"
   ]
  },
  {
   "cell_type": "markdown",
   "id": "Yg1HCCWcEtx4",
   "metadata": {
    "id": "Yg1HCCWcEtx4"
   },
   "source": [
    "# Data Modelling"
   ]
  },
  {
   "cell_type": "markdown",
   "id": "PftsPlJeE4NW",
   "metadata": {
    "id": "PftsPlJeE4NW"
   },
   "source": [
    "Replacing the Gender column in the dataset with Label Encoding\n",
    "\n",
    "0 for Female\n",
    "\n",
    "1 for Male"
   ]
  },
  {
   "cell_type": "code",
   "execution_count": 47,
   "id": "85c77767",
   "metadata": {
    "execution": {
     "iopub.execute_input": "2022-10-14T19:27:35.202098Z",
     "iopub.status.busy": "2022-10-14T19:27:35.201695Z",
     "iopub.status.idle": "2022-10-14T19:27:35.212163Z",
     "shell.execute_reply": "2022-10-14T19:27:35.211093Z"
    },
    "id": "85c77767",
    "papermill": {
     "duration": 0.040413,
     "end_time": "2022-10-14T19:27:35.214369",
     "exception": false,
     "start_time": "2022-10-14T19:27:35.173956",
     "status": "completed"
    },
    "tags": []
   },
   "outputs": [],
   "source": [
    "df1.replace({\"Gender\":{'Female':0,'Male':1}},inplace=True)"
   ]
  },
  {
   "cell_type": "markdown",
   "id": "J5zHscVrFH1H",
   "metadata": {
    "id": "J5zHscVrFH1H"
   },
   "source": [
    "Replacing the columns with 'yes' and 'no' output by Label Encoding\n",
    "\n",
    "0 for No\n",
    "\n",
    "1 for Yes"
   ]
  },
  {
   "cell_type": "code",
   "execution_count": 48,
   "id": "7a327c67",
   "metadata": {
    "execution": {
     "iopub.execute_input": "2022-10-14T19:27:35.270763Z",
     "iopub.status.busy": "2022-10-14T19:27:35.270340Z",
     "iopub.status.idle": "2022-10-14T19:27:35.342971Z",
     "shell.execute_reply": "2022-10-14T19:27:35.341855Z"
    },
    "id": "7a327c67",
    "papermill": {
     "duration": 0.104966,
     "end_time": "2022-10-14T19:27:35.345559",
     "exception": false,
     "start_time": "2022-10-14T19:27:35.240593",
     "status": "completed"
    },
    "tags": []
   },
   "outputs": [],
   "source": [
    "yes_and_no=[  'Paperless Billing', 'Unlimited Data', \n",
    "       'Streaming Movies', 'Streaming Music',  'Streaming TV',\n",
    "       'Premium Tech Support', 'Device Protection Plan', 'Online Backup', 'Online Security',\n",
    "       'Multiple Lines',  'Married']\n",
    "for i in yes_and_no:\n",
    "    df1.replace({'No':0,'Yes':1},inplace=True)"
   ]
  },
  {
   "cell_type": "markdown",
   "id": "IOCkhHKwFVGa",
   "metadata": {
    "id": "IOCkhHKwFVGa"
   },
   "source": [
    "Replacing 'Phone Service' with '1'"
   ]
  },
  {
   "cell_type": "code",
   "execution_count": 49,
   "id": "59dc1c68",
   "metadata": {
    "execution": {
     "iopub.execute_input": "2022-10-14T19:27:35.400064Z",
     "iopub.status.busy": "2022-10-14T19:27:35.399660Z",
     "iopub.status.idle": "2022-10-14T19:27:35.405480Z",
     "shell.execute_reply": "2022-10-14T19:27:35.404532Z"
    },
    "id": "59dc1c68",
    "papermill": {
     "duration": 0.035833,
     "end_time": "2022-10-14T19:27:35.407539",
     "exception": false,
     "start_time": "2022-10-14T19:27:35.371706",
     "status": "completed"
    },
    "tags": []
   },
   "outputs": [],
   "source": [
    "df1.replace({\"Phone Service\":{'Yes':1}},inplace=True)"
   ]
  },
  {
   "cell_type": "code",
   "execution_count": 50,
   "id": "eb367c0c",
   "metadata": {
    "execution": {
     "iopub.execute_input": "2022-10-14T19:27:35.463686Z",
     "iopub.status.busy": "2022-10-14T19:27:35.463271Z",
     "iopub.status.idle": "2022-10-14T19:27:35.471349Z",
     "shell.execute_reply": "2022-10-14T19:27:35.470004Z"
    },
    "id": "eb367c0c",
    "papermill": {
     "duration": 0.039663,
     "end_time": "2022-10-14T19:27:35.473711",
     "exception": false,
     "start_time": "2022-10-14T19:27:35.434048",
     "status": "completed"
    },
    "tags": []
   },
   "outputs": [],
   "source": [
    "from sklearn.preprocessing import LabelEncoder\n",
    "le = LabelEncoder()\n",
    "df1.Customer_Status = le.fit_transform(df1.Customer_Status)\n"
   ]
  },
  {
   "cell_type": "code",
   "execution_count": 51,
   "id": "b7c49b6c",
   "metadata": {
    "execution": {
     "iopub.execute_input": "2022-10-14T19:27:35.528671Z",
     "iopub.status.busy": "2022-10-14T19:27:35.528257Z",
     "iopub.status.idle": "2022-10-14T19:27:35.583180Z",
     "shell.execute_reply": "2022-10-14T19:27:35.581768Z"
    },
    "id": "b7c49b6c",
    "papermill": {
     "duration": 0.084858,
     "end_time": "2022-10-14T19:27:35.585654",
     "exception": false,
     "start_time": "2022-10-14T19:27:35.500796",
     "status": "completed"
    },
    "tags": []
   },
   "outputs": [],
   "source": [
    "df1 = pd.get_dummies(data=df1, columns=['Payment Method','Contract','Internet Type','Offer','City'])\n"
   ]
  },
  {
   "cell_type": "code",
   "execution_count": 52,
   "id": "09530a5e",
   "metadata": {
    "execution": {
     "iopub.execute_input": "2022-10-14T19:27:35.641694Z",
     "iopub.status.busy": "2022-10-14T19:27:35.641333Z",
     "iopub.status.idle": "2022-10-14T19:27:35.662486Z",
     "shell.execute_reply": "2022-10-14T19:27:35.661266Z"
    },
    "id": "09530a5e",
    "papermill": {
     "duration": 0.052448,
     "end_time": "2022-10-14T19:27:35.665111",
     "exception": false,
     "start_time": "2022-10-14T19:27:35.612663",
     "status": "completed"
    },
    "tags": []
   },
   "outputs": [],
   "source": [
    "cols_to_scale = ['Age','Number of Dependents','Number of Referrals','Tenure in Months','Avg Monthly Long Distance Charges','Avg Monthly GB Download','Monthly Charge', 'Total Charges',\n",
    "       'Total Extra Data Charges', 'Total Long Distance Charges','Total Revenue']\n",
    "\n",
    "from sklearn.preprocessing import MinMaxScaler\n",
    "scaler = MinMaxScaler()\n",
    "df1[cols_to_scale] = scaler.fit_transform(df1[cols_to_scale])"
   ]
  },
  {
   "cell_type": "markdown",
   "id": "uxHvvwfmFe7Y",
   "metadata": {
    "id": "uxHvvwfmFe7Y"
   },
   "source": [
    "## Dealing with Imbalance Data"
   ]
  },
  {
   "cell_type": "markdown",
   "id": "-DCSCSzyFlGG",
   "metadata": {
    "id": "-DCSCSzyFlGG"
   },
   "source": [
    "Dropping the Customer_Status\n",
    "\n",
    "i.e. The column tht we have to predict and set as a dependent variable"
   ]
  },
  {
   "cell_type": "code",
   "execution_count": 53,
   "id": "ec5c4b60",
   "metadata": {
    "execution": {
     "iopub.execute_input": "2022-10-14T19:27:35.780777Z",
     "iopub.status.busy": "2022-10-14T19:27:35.780346Z",
     "iopub.status.idle": "2022-10-14T19:27:35.800628Z",
     "shell.execute_reply": "2022-10-14T19:27:35.799398Z"
    },
    "id": "ec5c4b60",
    "papermill": {
     "duration": 0.050573,
     "end_time": "2022-10-14T19:27:35.803202",
     "exception": false,
     "start_time": "2022-10-14T19:27:35.752629",
     "status": "completed"
    },
    "tags": []
   },
   "outputs": [],
   "source": [
    "X = df1.drop('Customer_Status',axis='columns')\n",
    "y = df1['Customer_Status']"
   ]
  },
  {
   "cell_type": "code",
   "execution_count": 54,
   "id": "5b11c9f5",
   "metadata": {
    "colab": {
     "base_uri": "https://localhost:8080/",
     "height": 369
    },
    "execution": {
     "iopub.execute_input": "2022-10-14T19:27:35.858156Z",
     "iopub.status.busy": "2022-10-14T19:27:35.857762Z",
     "iopub.status.idle": "2022-10-14T19:27:35.879962Z",
     "shell.execute_reply": "2022-10-14T19:27:35.879201Z"
    },
    "id": "5b11c9f5",
    "outputId": "8107669d-1569-4cd5-85e9-7abf0c8e8d89",
    "papermill": {
     "duration": 0.051863,
     "end_time": "2022-10-14T19:27:35.881961",
     "exception": false,
     "start_time": "2022-10-14T19:27:35.830098",
     "status": "completed"
    },
    "tags": []
   },
   "outputs": [
    {
     "data": {
      "text/html": [
       "<div>\n",
       "<style scoped>\n",
       "    .dataframe tbody tr th:only-of-type {\n",
       "        vertical-align: middle;\n",
       "    }\n",
       "\n",
       "    .dataframe tbody tr th {\n",
       "        vertical-align: top;\n",
       "    }\n",
       "\n",
       "    .dataframe thead th {\n",
       "        text-align: right;\n",
       "    }\n",
       "</style>\n",
       "<table border=\"1\" class=\"dataframe\">\n",
       "  <thead>\n",
       "    <tr style=\"text-align: right;\">\n",
       "      <th></th>\n",
       "      <th>Gender</th>\n",
       "      <th>Age</th>\n",
       "      <th>Married</th>\n",
       "      <th>Number of Dependents</th>\n",
       "      <th>Number of Referrals</th>\n",
       "      <th>Tenure in Months</th>\n",
       "      <th>Phone Service</th>\n",
       "      <th>Avg Monthly Long Distance Charges</th>\n",
       "      <th>Multiple Lines</th>\n",
       "      <th>Internet Service</th>\n",
       "      <th>...</th>\n",
       "      <th>City_Woodland Hills</th>\n",
       "      <th>City_Woody</th>\n",
       "      <th>City_Wrightwood</th>\n",
       "      <th>City_Yermo</th>\n",
       "      <th>City_Yorba Linda</th>\n",
       "      <th>City_Yorkville</th>\n",
       "      <th>City_Yreka</th>\n",
       "      <th>City_Yuba City</th>\n",
       "      <th>City_Yucaipa</th>\n",
       "      <th>City_Yucca Valley</th>\n",
       "    </tr>\n",
       "  </thead>\n",
       "  <tbody>\n",
       "    <tr>\n",
       "      <th>2</th>\n",
       "      <td>1</td>\n",
       "      <td>0.508197</td>\n",
       "      <td>0</td>\n",
       "      <td>0.000</td>\n",
       "      <td>0.0</td>\n",
       "      <td>0.042254</td>\n",
       "      <td>1</td>\n",
       "      <td>0.666462</td>\n",
       "      <td>0</td>\n",
       "      <td>1</td>\n",
       "      <td>...</td>\n",
       "      <td>False</td>\n",
       "      <td>False</td>\n",
       "      <td>False</td>\n",
       "      <td>False</td>\n",
       "      <td>False</td>\n",
       "      <td>False</td>\n",
       "      <td>False</td>\n",
       "      <td>False</td>\n",
       "      <td>False</td>\n",
       "      <td>False</td>\n",
       "    </tr>\n",
       "    <tr>\n",
       "      <th>3</th>\n",
       "      <td>1</td>\n",
       "      <td>0.967213</td>\n",
       "      <td>1</td>\n",
       "      <td>0.000</td>\n",
       "      <td>0.1</td>\n",
       "      <td>0.169014</td>\n",
       "      <td>1</td>\n",
       "      <td>0.547386</td>\n",
       "      <td>0</td>\n",
       "      <td>1</td>\n",
       "      <td>...</td>\n",
       "      <td>False</td>\n",
       "      <td>False</td>\n",
       "      <td>False</td>\n",
       "      <td>False</td>\n",
       "      <td>False</td>\n",
       "      <td>False</td>\n",
       "      <td>False</td>\n",
       "      <td>False</td>\n",
       "      <td>False</td>\n",
       "      <td>False</td>\n",
       "    </tr>\n",
       "    <tr>\n",
       "      <th>5</th>\n",
       "      <td>0</td>\n",
       "      <td>0.065574</td>\n",
       "      <td>0</td>\n",
       "      <td>0.375</td>\n",
       "      <td>0.0</td>\n",
       "      <td>0.112676</td>\n",
       "      <td>1</td>\n",
       "      <td>0.321691</td>\n",
       "      <td>0</td>\n",
       "      <td>1</td>\n",
       "      <td>...</td>\n",
       "      <td>False</td>\n",
       "      <td>False</td>\n",
       "      <td>False</td>\n",
       "      <td>False</td>\n",
       "      <td>False</td>\n",
       "      <td>False</td>\n",
       "      <td>False</td>\n",
       "      <td>False</td>\n",
       "      <td>False</td>\n",
       "      <td>False</td>\n",
       "    </tr>\n",
       "    <tr>\n",
       "      <th>6</th>\n",
       "      <td>0</td>\n",
       "      <td>0.786885</td>\n",
       "      <td>1</td>\n",
       "      <td>0.000</td>\n",
       "      <td>0.1</td>\n",
       "      <td>0.985915</td>\n",
       "      <td>1</td>\n",
       "      <td>0.182598</td>\n",
       "      <td>0</td>\n",
       "      <td>1</td>\n",
       "      <td>...</td>\n",
       "      <td>False</td>\n",
       "      <td>False</td>\n",
       "      <td>False</td>\n",
       "      <td>False</td>\n",
       "      <td>False</td>\n",
       "      <td>False</td>\n",
       "      <td>False</td>\n",
       "      <td>False</td>\n",
       "      <td>False</td>\n",
       "      <td>False</td>\n",
       "    </tr>\n",
       "    <tr>\n",
       "      <th>7</th>\n",
       "      <td>1</td>\n",
       "      <td>0.540984</td>\n",
       "      <td>1</td>\n",
       "      <td>0.000</td>\n",
       "      <td>0.8</td>\n",
       "      <td>0.873239</td>\n",
       "      <td>1</td>\n",
       "      <td>0.243873</td>\n",
       "      <td>1</td>\n",
       "      <td>1</td>\n",
       "      <td>...</td>\n",
       "      <td>False</td>\n",
       "      <td>False</td>\n",
       "      <td>False</td>\n",
       "      <td>False</td>\n",
       "      <td>False</td>\n",
       "      <td>False</td>\n",
       "      <td>False</td>\n",
       "      <td>False</td>\n",
       "      <td>False</td>\n",
       "      <td>False</td>\n",
       "    </tr>\n",
       "  </tbody>\n",
       "</table>\n",
       "<p>5 rows × 928 columns</p>\n",
       "</div>"
      ],
      "text/plain": [
       "   Gender       Age  Married  Number of Dependents  Number of Referrals  \\\n",
       "2       1  0.508197        0                 0.000                  0.0   \n",
       "3       1  0.967213        1                 0.000                  0.1   \n",
       "5       0  0.065574        0                 0.375                  0.0   \n",
       "6       0  0.786885        1                 0.000                  0.1   \n",
       "7       1  0.540984        1                 0.000                  0.8   \n",
       "\n",
       "   Tenure in Months  Phone Service  Avg Monthly Long Distance Charges  \\\n",
       "2          0.042254              1                           0.666462   \n",
       "3          0.169014              1                           0.547386   \n",
       "5          0.112676              1                           0.321691   \n",
       "6          0.985915              1                           0.182598   \n",
       "7          0.873239              1                           0.243873   \n",
       "\n",
       "   Multiple Lines  Internet Service  ...  City_Woodland Hills  City_Woody  \\\n",
       "2               0                 1  ...                False       False   \n",
       "3               0                 1  ...                False       False   \n",
       "5               0                 1  ...                False       False   \n",
       "6               0                 1  ...                False       False   \n",
       "7               1                 1  ...                False       False   \n",
       "\n",
       "   City_Wrightwood  City_Yermo  City_Yorba Linda  City_Yorkville  City_Yreka  \\\n",
       "2            False       False             False           False       False   \n",
       "3            False       False             False           False       False   \n",
       "5            False       False             False           False       False   \n",
       "6            False       False             False           False       False   \n",
       "7            False       False             False           False       False   \n",
       "\n",
       "   City_Yuba City  City_Yucaipa  City_Yucca Valley  \n",
       "2           False         False              False  \n",
       "3           False         False              False  \n",
       "5           False         False              False  \n",
       "6           False         False              False  \n",
       "7           False         False              False  \n",
       "\n",
       "[5 rows x 928 columns]"
      ]
     },
     "execution_count": 54,
     "metadata": {},
     "output_type": "execute_result"
    }
   ],
   "source": [
    "X.head(5)"
   ]
  },
  {
   "cell_type": "code",
   "execution_count": 55,
   "id": "cbb1f0ae",
   "metadata": {
    "execution": {
     "iopub.execute_input": "2022-10-14T19:27:35.938049Z",
     "iopub.status.busy": "2022-10-14T19:27:35.937000Z",
     "iopub.status.idle": "2022-10-14T19:27:35.945249Z",
     "shell.execute_reply": "2022-10-14T19:27:35.944259Z"
    },
    "id": "cbb1f0ae",
    "outputId": "10f6fe9a-9aa2-41d1-a356-74fbb4699b96",
    "papermill": {
     "duration": 0.039358,
     "end_time": "2022-10-14T19:27:35.947447",
     "exception": false,
     "start_time": "2022-10-14T19:27:35.908089",
     "status": "completed"
    },
    "tags": []
   },
   "outputs": [
    {
     "data": {
      "text/plain": [
       "2    0\n",
       "3    0\n",
       "5    2\n",
       "6    2\n",
       "7    2\n",
       "Name: Customer_Status, dtype: int32"
      ]
     },
     "execution_count": 55,
     "metadata": {},
     "output_type": "execute_result"
    }
   ],
   "source": [
    "y.head(5)\n"
   ]
  },
  {
   "cell_type": "markdown",
   "id": "e29c960a",
   "metadata": {
    "id": "e29c960a",
    "papermill": {
     "duration": 0.026571,
     "end_time": "2022-10-14T19:27:36.000528",
     "exception": false,
     "start_time": "2022-10-14T19:27:35.973957",
     "status": "completed"
    },
    "tags": []
   },
   "source": [
    "# Data Model Building"
   ]
  },
  {
   "cell_type": "markdown",
   "id": "r69ylpj8IF5O",
   "metadata": {
    "id": "r69ylpj8IF5O"
   },
   "source": [
    "## Spliiting the data in Training and Test Data"
   ]
  },
  {
   "cell_type": "code",
   "execution_count": 56,
   "id": "69489d3c",
   "metadata": {
    "execution": {
     "iopub.execute_input": "2022-10-14T19:27:36.117068Z",
     "iopub.status.busy": "2022-10-14T19:27:36.116367Z",
     "iopub.status.idle": "2022-10-14T19:27:36.156822Z",
     "shell.execute_reply": "2022-10-14T19:27:36.155558Z"
    },
    "id": "69489d3c",
    "papermill": {
     "duration": 0.071402,
     "end_time": "2022-10-14T19:27:36.159382",
     "exception": false,
     "start_time": "2022-10-14T19:27:36.087980",
     "status": "completed"
    },
    "tags": []
   },
   "outputs": [],
   "source": [
    "from sklearn.model_selection import train_test_split\n",
    "X_train, X_test, y_train, y_test = train_test_split(X, y,test_size=0.2,random_state=5)"
   ]
  },
  {
   "cell_type": "code",
   "execution_count": 57,
   "id": "75476471",
   "metadata": {
    "colab": {
     "base_uri": "https://localhost:8080/"
    },
    "execution": {
     "iopub.execute_input": "2022-10-14T19:27:36.214162Z",
     "iopub.status.busy": "2022-10-14T19:27:36.213764Z",
     "iopub.status.idle": "2022-10-14T19:27:36.220750Z",
     "shell.execute_reply": "2022-10-14T19:27:36.219809Z"
    },
    "id": "75476471",
    "outputId": "c78621fd-aa8a-47ac-e2ce-fa04853a0110",
    "papermill": {
     "duration": 0.036982,
     "end_time": "2022-10-14T19:27:36.222780",
     "exception": false,
     "start_time": "2022-10-14T19:27:36.185798",
     "status": "completed"
    },
    "tags": []
   },
   "outputs": [
    {
     "data": {
      "text/plain": [
       "1755"
      ]
     },
     "execution_count": 57,
     "metadata": {},
     "output_type": "execute_result"
    }
   ],
   "source": [
    "len(X_train)"
   ]
  },
  {
   "cell_type": "code",
   "execution_count": 58,
   "id": "1230500d",
   "metadata": {
    "colab": {
     "base_uri": "https://localhost:8080/",
     "height": 526
    },
    "execution": {
     "iopub.execute_input": "2022-10-14T19:27:36.287668Z",
     "iopub.status.busy": "2022-10-14T19:27:36.286621Z",
     "iopub.status.idle": "2022-10-14T19:27:36.321042Z",
     "shell.execute_reply": "2022-10-14T19:27:36.319119Z"
    },
    "id": "1230500d",
    "outputId": "b99660bb-7f3b-436a-e699-4773fe4e0ac0",
    "papermill": {
     "duration": 0.073947,
     "end_time": "2022-10-14T19:27:36.323777",
     "exception": false,
     "start_time": "2022-10-14T19:27:36.249830",
     "status": "completed"
    },
    "tags": []
   },
   "outputs": [
    {
     "data": {
      "text/html": [
       "<div>\n",
       "<style scoped>\n",
       "    .dataframe tbody tr th:only-of-type {\n",
       "        vertical-align: middle;\n",
       "    }\n",
       "\n",
       "    .dataframe tbody tr th {\n",
       "        vertical-align: top;\n",
       "    }\n",
       "\n",
       "    .dataframe thead th {\n",
       "        text-align: right;\n",
       "    }\n",
       "</style>\n",
       "<table border=\"1\" class=\"dataframe\">\n",
       "  <thead>\n",
       "    <tr style=\"text-align: right;\">\n",
       "      <th></th>\n",
       "      <th>Gender</th>\n",
       "      <th>Age</th>\n",
       "      <th>Married</th>\n",
       "      <th>Number of Dependents</th>\n",
       "      <th>Number of Referrals</th>\n",
       "      <th>Tenure in Months</th>\n",
       "      <th>Phone Service</th>\n",
       "      <th>Avg Monthly Long Distance Charges</th>\n",
       "      <th>Multiple Lines</th>\n",
       "      <th>Internet Service</th>\n",
       "      <th>...</th>\n",
       "      <th>City_Woodland Hills</th>\n",
       "      <th>City_Woody</th>\n",
       "      <th>City_Wrightwood</th>\n",
       "      <th>City_Yermo</th>\n",
       "      <th>City_Yorba Linda</th>\n",
       "      <th>City_Yorkville</th>\n",
       "      <th>City_Yreka</th>\n",
       "      <th>City_Yuba City</th>\n",
       "      <th>City_Yucaipa</th>\n",
       "      <th>City_Yucca Valley</th>\n",
       "    </tr>\n",
       "  </thead>\n",
       "  <tbody>\n",
       "    <tr>\n",
       "      <th>5086</th>\n",
       "      <td>1</td>\n",
       "      <td>0.213115</td>\n",
       "      <td>0</td>\n",
       "      <td>0.000</td>\n",
       "      <td>0.0</td>\n",
       "      <td>0.126761</td>\n",
       "      <td>1</td>\n",
       "      <td>0.135417</td>\n",
       "      <td>0</td>\n",
       "      <td>1</td>\n",
       "      <td>...</td>\n",
       "      <td>False</td>\n",
       "      <td>False</td>\n",
       "      <td>False</td>\n",
       "      <td>False</td>\n",
       "      <td>False</td>\n",
       "      <td>False</td>\n",
       "      <td>False</td>\n",
       "      <td>False</td>\n",
       "      <td>False</td>\n",
       "      <td>False</td>\n",
       "    </tr>\n",
       "    <tr>\n",
       "      <th>1686</th>\n",
       "      <td>0</td>\n",
       "      <td>0.000000</td>\n",
       "      <td>0</td>\n",
       "      <td>0.000</td>\n",
       "      <td>0.0</td>\n",
       "      <td>0.140845</td>\n",
       "      <td>1</td>\n",
       "      <td>0.815768</td>\n",
       "      <td>0</td>\n",
       "      <td>1</td>\n",
       "      <td>...</td>\n",
       "      <td>False</td>\n",
       "      <td>False</td>\n",
       "      <td>False</td>\n",
       "      <td>False</td>\n",
       "      <td>False</td>\n",
       "      <td>False</td>\n",
       "      <td>False</td>\n",
       "      <td>False</td>\n",
       "      <td>False</td>\n",
       "      <td>False</td>\n",
       "    </tr>\n",
       "    <tr>\n",
       "      <th>3655</th>\n",
       "      <td>1</td>\n",
       "      <td>0.737705</td>\n",
       "      <td>0</td>\n",
       "      <td>0.000</td>\n",
       "      <td>0.0</td>\n",
       "      <td>0.000000</td>\n",
       "      <td>1</td>\n",
       "      <td>0.154003</td>\n",
       "      <td>1</td>\n",
       "      <td>1</td>\n",
       "      <td>...</td>\n",
       "      <td>False</td>\n",
       "      <td>False</td>\n",
       "      <td>False</td>\n",
       "      <td>False</td>\n",
       "      <td>False</td>\n",
       "      <td>False</td>\n",
       "      <td>False</td>\n",
       "      <td>False</td>\n",
       "      <td>False</td>\n",
       "      <td>False</td>\n",
       "    </tr>\n",
       "    <tr>\n",
       "      <th>697</th>\n",
       "      <td>1</td>\n",
       "      <td>0.983607</td>\n",
       "      <td>1</td>\n",
       "      <td>0.000</td>\n",
       "      <td>0.1</td>\n",
       "      <td>0.408451</td>\n",
       "      <td>1</td>\n",
       "      <td>0.959967</td>\n",
       "      <td>1</td>\n",
       "      <td>1</td>\n",
       "      <td>...</td>\n",
       "      <td>False</td>\n",
       "      <td>False</td>\n",
       "      <td>False</td>\n",
       "      <td>False</td>\n",
       "      <td>False</td>\n",
       "      <td>False</td>\n",
       "      <td>False</td>\n",
       "      <td>False</td>\n",
       "      <td>False</td>\n",
       "      <td>False</td>\n",
       "    </tr>\n",
       "    <tr>\n",
       "      <th>6685</th>\n",
       "      <td>0</td>\n",
       "      <td>0.721311</td>\n",
       "      <td>0</td>\n",
       "      <td>0.000</td>\n",
       "      <td>0.0</td>\n",
       "      <td>0.478873</td>\n",
       "      <td>1</td>\n",
       "      <td>0.247549</td>\n",
       "      <td>1</td>\n",
       "      <td>1</td>\n",
       "      <td>...</td>\n",
       "      <td>False</td>\n",
       "      <td>False</td>\n",
       "      <td>False</td>\n",
       "      <td>False</td>\n",
       "      <td>False</td>\n",
       "      <td>False</td>\n",
       "      <td>False</td>\n",
       "      <td>False</td>\n",
       "      <td>False</td>\n",
       "      <td>False</td>\n",
       "    </tr>\n",
       "    <tr>\n",
       "      <th>5617</th>\n",
       "      <td>0</td>\n",
       "      <td>0.262295</td>\n",
       "      <td>0</td>\n",
       "      <td>0.000</td>\n",
       "      <td>0.0</td>\n",
       "      <td>0.084507</td>\n",
       "      <td>1</td>\n",
       "      <td>0.367034</td>\n",
       "      <td>1</td>\n",
       "      <td>1</td>\n",
       "      <td>...</td>\n",
       "      <td>False</td>\n",
       "      <td>False</td>\n",
       "      <td>False</td>\n",
       "      <td>False</td>\n",
       "      <td>False</td>\n",
       "      <td>False</td>\n",
       "      <td>False</td>\n",
       "      <td>False</td>\n",
       "      <td>False</td>\n",
       "      <td>False</td>\n",
       "    </tr>\n",
       "    <tr>\n",
       "      <th>2938</th>\n",
       "      <td>1</td>\n",
       "      <td>0.098361</td>\n",
       "      <td>0</td>\n",
       "      <td>0.000</td>\n",
       "      <td>0.0</td>\n",
       "      <td>0.873239</td>\n",
       "      <td>1</td>\n",
       "      <td>0.443423</td>\n",
       "      <td>1</td>\n",
       "      <td>1</td>\n",
       "      <td>...</td>\n",
       "      <td>False</td>\n",
       "      <td>False</td>\n",
       "      <td>False</td>\n",
       "      <td>False</td>\n",
       "      <td>False</td>\n",
       "      <td>False</td>\n",
       "      <td>False</td>\n",
       "      <td>False</td>\n",
       "      <td>False</td>\n",
       "      <td>False</td>\n",
       "    </tr>\n",
       "    <tr>\n",
       "      <th>6323</th>\n",
       "      <td>1</td>\n",
       "      <td>0.688525</td>\n",
       "      <td>0</td>\n",
       "      <td>0.000</td>\n",
       "      <td>0.0</td>\n",
       "      <td>0.000000</td>\n",
       "      <td>1</td>\n",
       "      <td>0.257557</td>\n",
       "      <td>0</td>\n",
       "      <td>1</td>\n",
       "      <td>...</td>\n",
       "      <td>False</td>\n",
       "      <td>False</td>\n",
       "      <td>False</td>\n",
       "      <td>False</td>\n",
       "      <td>False</td>\n",
       "      <td>False</td>\n",
       "      <td>False</td>\n",
       "      <td>False</td>\n",
       "      <td>False</td>\n",
       "      <td>False</td>\n",
       "    </tr>\n",
       "    <tr>\n",
       "      <th>3382</th>\n",
       "      <td>1</td>\n",
       "      <td>0.868852</td>\n",
       "      <td>0</td>\n",
       "      <td>0.000</td>\n",
       "      <td>0.0</td>\n",
       "      <td>0.014085</td>\n",
       "      <td>1</td>\n",
       "      <td>0.825368</td>\n",
       "      <td>0</td>\n",
       "      <td>1</td>\n",
       "      <td>...</td>\n",
       "      <td>False</td>\n",
       "      <td>False</td>\n",
       "      <td>False</td>\n",
       "      <td>False</td>\n",
       "      <td>False</td>\n",
       "      <td>False</td>\n",
       "      <td>False</td>\n",
       "      <td>False</td>\n",
       "      <td>False</td>\n",
       "      <td>False</td>\n",
       "    </tr>\n",
       "    <tr>\n",
       "      <th>1184</th>\n",
       "      <td>1</td>\n",
       "      <td>0.377049</td>\n",
       "      <td>1</td>\n",
       "      <td>0.375</td>\n",
       "      <td>0.8</td>\n",
       "      <td>0.774648</td>\n",
       "      <td>1</td>\n",
       "      <td>0.813725</td>\n",
       "      <td>1</td>\n",
       "      <td>1</td>\n",
       "      <td>...</td>\n",
       "      <td>False</td>\n",
       "      <td>False</td>\n",
       "      <td>False</td>\n",
       "      <td>False</td>\n",
       "      <td>False</td>\n",
       "      <td>False</td>\n",
       "      <td>False</td>\n",
       "      <td>False</td>\n",
       "      <td>False</td>\n",
       "      <td>False</td>\n",
       "    </tr>\n",
       "  </tbody>\n",
       "</table>\n",
       "<p>10 rows × 928 columns</p>\n",
       "</div>"
      ],
      "text/plain": [
       "      Gender       Age  Married  Number of Dependents  Number of Referrals  \\\n",
       "5086       1  0.213115        0                 0.000                  0.0   \n",
       "1686       0  0.000000        0                 0.000                  0.0   \n",
       "3655       1  0.737705        0                 0.000                  0.0   \n",
       "697        1  0.983607        1                 0.000                  0.1   \n",
       "6685       0  0.721311        0                 0.000                  0.0   \n",
       "5617       0  0.262295        0                 0.000                  0.0   \n",
       "2938       1  0.098361        0                 0.000                  0.0   \n",
       "6323       1  0.688525        0                 0.000                  0.0   \n",
       "3382       1  0.868852        0                 0.000                  0.0   \n",
       "1184       1  0.377049        1                 0.375                  0.8   \n",
       "\n",
       "      Tenure in Months  Phone Service  Avg Monthly Long Distance Charges  \\\n",
       "5086          0.126761              1                           0.135417   \n",
       "1686          0.140845              1                           0.815768   \n",
       "3655          0.000000              1                           0.154003   \n",
       "697           0.408451              1                           0.959967   \n",
       "6685          0.478873              1                           0.247549   \n",
       "5617          0.084507              1                           0.367034   \n",
       "2938          0.873239              1                           0.443423   \n",
       "6323          0.000000              1                           0.257557   \n",
       "3382          0.014085              1                           0.825368   \n",
       "1184          0.774648              1                           0.813725   \n",
       "\n",
       "      Multiple Lines  Internet Service  ...  City_Woodland Hills  City_Woody  \\\n",
       "5086               0                 1  ...                False       False   \n",
       "1686               0                 1  ...                False       False   \n",
       "3655               1                 1  ...                False       False   \n",
       "697                1                 1  ...                False       False   \n",
       "6685               1                 1  ...                False       False   \n",
       "5617               1                 1  ...                False       False   \n",
       "2938               1                 1  ...                False       False   \n",
       "6323               0                 1  ...                False       False   \n",
       "3382               0                 1  ...                False       False   \n",
       "1184               1                 1  ...                False       False   \n",
       "\n",
       "      City_Wrightwood  City_Yermo  City_Yorba Linda  City_Yorkville  \\\n",
       "5086            False       False             False           False   \n",
       "1686            False       False             False           False   \n",
       "3655            False       False             False           False   \n",
       "697             False       False             False           False   \n",
       "6685            False       False             False           False   \n",
       "5617            False       False             False           False   \n",
       "2938            False       False             False           False   \n",
       "6323            False       False             False           False   \n",
       "3382            False       False             False           False   \n",
       "1184            False       False             False           False   \n",
       "\n",
       "      City_Yreka  City_Yuba City  City_Yucaipa  City_Yucca Valley  \n",
       "5086       False           False         False              False  \n",
       "1686       False           False         False              False  \n",
       "3655       False           False         False              False  \n",
       "697        False           False         False              False  \n",
       "6685       False           False         False              False  \n",
       "5617       False           False         False              False  \n",
       "2938       False           False         False              False  \n",
       "6323       False           False         False              False  \n",
       "3382       False           False         False              False  \n",
       "1184       False           False         False              False  \n",
       "\n",
       "[10 rows x 928 columns]"
      ]
     },
     "execution_count": 58,
     "metadata": {},
     "output_type": "execute_result"
    }
   ],
   "source": [
    "X_train[:10]"
   ]
  },
  {
   "cell_type": "markdown",
   "id": "XAMYZYjVGBNY",
   "metadata": {
    "id": "XAMYZYjVGBNY"
   },
   "source": [
    "Importing the required files for the model that is to applied\n",
    "\n",
    "1. Random Forest Classifier\n",
    "2. Logistic Regression\n",
    "3. GaussianNB\n",
    "4. Decision Tree Classifier\n",
    "5. XGB Classifier\n"
   ]
  },
  {
   "cell_type": "markdown",
   "id": "IEIDd4SFILpX",
   "metadata": {
    "id": "IEIDd4SFILpX"
   },
   "source": [
    "## Importing Models"
   ]
  },
  {
   "cell_type": "code",
   "execution_count": 61,
   "id": "BgGCnH-W8MuC",
   "metadata": {
    "id": "BgGCnH-W8MuC"
   },
   "outputs": [],
   "source": [
    "from sklearn.ensemble import RandomForestClassifier\n",
    "from sklearn.linear_model import LogisticRegression\n",
    "from sklearn.naive_bayes import GaussianNB\n",
    "from sklearn.tree import DecisionTreeClassifier\n",
    "from xgboost import XGBClassifier"
   ]
  },
  {
   "cell_type": "code",
   "execution_count": 63,
   "id": "287a88e2",
   "metadata": {
    "execution": {
     "iopub.execute_input": "2022-10-14T19:27:36.389708Z",
     "iopub.status.busy": "2022-10-14T19:27:36.388966Z",
     "iopub.status.idle": "2022-10-14T19:27:36.496707Z",
     "shell.execute_reply": "2022-10-14T19:27:36.495514Z"
    },
    "id": "287a88e2",
    "papermill": {
     "duration": 0.142057,
     "end_time": "2022-10-14T19:27:36.499422",
     "exception": false,
     "start_time": "2022-10-14T19:27:36.357365",
     "status": "completed"
    },
    "tags": []
   },
   "outputs": [],
   "source": [
    "model_params = {\n",
    "     \n",
    "    'random_forest': {\n",
    "        'model': RandomForestClassifier(),\n",
    "        'params' : {\n",
    "            'n_estimators': [1,5,10]\n",
    "        }\n",
    "    },\n",
    "    'logistic_regression' : {\n",
    "        'model': LogisticRegression(solver='liblinear',multi_class='auto'),\n",
    "        'params': {\n",
    "            'C': [1,5,10]\n",
    "        }\n",
    "    },\n",
    "    'naive_bayes_gaussian': {\n",
    "        'model': GaussianNB(),\n",
    "        'params': {}\n",
    "    },\n",
    "    \n",
    "    'decision_tree': {\n",
    "        'model': DecisionTreeClassifier(),\n",
    "        'params': {\n",
    "            'criterion': ['gini','entropy'],\n",
    "        }    \n",
    "    },\n",
    "       'XGB_Classifier':{\n",
    "        'model':XGBClassifier(),\n",
    "        'params':{\n",
    "            'base_score':[0.5]\n",
    "            \n",
    "        }\n",
    "    },   \n",
    "}"
   ]
  },
  {
   "cell_type": "code",
   "execution_count": 64,
   "id": "8MYZel5t8p_C",
   "metadata": {
    "id": "8MYZel5t8p_C"
   },
   "outputs": [],
   "source": [
    "from sklearn.model_selection import ShuffleSplit"
   ]
  },
  {
   "cell_type": "markdown",
   "id": "xSyJ8-8uGtoX",
   "metadata": {
    "id": "xSyJ8-8uGtoX"
   },
   "source": [
    "Getting the best_score from the applied models"
   ]
  },
  {
   "cell_type": "code",
   "execution_count": 65,
   "id": "67d004af",
   "metadata": {
    "colab": {
     "base_uri": "https://localhost:8080/",
     "height": 206
    },
    "execution": {
     "iopub.execute_input": "2022-10-14T19:27:36.555196Z",
     "iopub.status.busy": "2022-10-14T19:27:36.554493Z",
     "iopub.status.idle": "2022-10-14T19:35:15.975789Z",
     "shell.execute_reply": "2022-10-14T19:35:15.974661Z"
    },
    "id": "67d004af",
    "outputId": "6c136155-d41c-49dc-eb8c-3c4a27d89f94",
    "papermill": {
     "duration": 459.479725,
     "end_time": "2022-10-14T19:35:16.006077",
     "exception": false,
     "start_time": "2022-10-14T19:27:36.526352",
     "status": "completed"
    },
    "tags": []
   },
   "outputs": [
    {
     "data": {
      "text/html": [
       "<div>\n",
       "<style scoped>\n",
       "    .dataframe tbody tr th:only-of-type {\n",
       "        vertical-align: middle;\n",
       "    }\n",
       "\n",
       "    .dataframe tbody tr th {\n",
       "        vertical-align: top;\n",
       "    }\n",
       "\n",
       "    .dataframe thead th {\n",
       "        text-align: right;\n",
       "    }\n",
       "</style>\n",
       "<table border=\"1\" class=\"dataframe\">\n",
       "  <thead>\n",
       "    <tr style=\"text-align: right;\">\n",
       "      <th></th>\n",
       "      <th>model</th>\n",
       "      <th>best_score</th>\n",
       "      <th>best_params</th>\n",
       "    </tr>\n",
       "  </thead>\n",
       "  <tbody>\n",
       "    <tr>\n",
       "      <th>0</th>\n",
       "      <td>random_forest</td>\n",
       "      <td>0.791344</td>\n",
       "      <td>{'n_estimators': 10}</td>\n",
       "    </tr>\n",
       "    <tr>\n",
       "      <th>1</th>\n",
       "      <td>logistic_regression</td>\n",
       "      <td>0.792711</td>\n",
       "      <td>{'C': 1}</td>\n",
       "    </tr>\n",
       "    <tr>\n",
       "      <th>2</th>\n",
       "      <td>naive_bayes_gaussian</td>\n",
       "      <td>0.374487</td>\n",
       "      <td>{}</td>\n",
       "    </tr>\n",
       "    <tr>\n",
       "      <th>3</th>\n",
       "      <td>decision_tree</td>\n",
       "      <td>0.788155</td>\n",
       "      <td>{'criterion': 'gini'}</td>\n",
       "    </tr>\n",
       "    <tr>\n",
       "      <th>4</th>\n",
       "      <td>XGB_Classifier</td>\n",
       "      <td>0.821868</td>\n",
       "      <td>{'base_score': 0.5}</td>\n",
       "    </tr>\n",
       "  </tbody>\n",
       "</table>\n",
       "</div>"
      ],
      "text/plain": [
       "                  model  best_score            best_params\n",
       "0         random_forest    0.791344   {'n_estimators': 10}\n",
       "1   logistic_regression    0.792711               {'C': 1}\n",
       "2  naive_bayes_gaussian    0.374487                     {}\n",
       "3         decision_tree    0.788155  {'criterion': 'gini'}\n",
       "4        XGB_Classifier    0.821868    {'base_score': 0.5}"
      ]
     },
     "execution_count": 65,
     "metadata": {},
     "output_type": "execute_result"
    }
   ],
   "source": [
    "from sklearn.model_selection import GridSearchCV\n",
    "scores = []\n",
    "cv = ShuffleSplit(n_splits=5, test_size=0.2, random_state=0)\n",
    "for model_name, mp in model_params.items():\n",
    "    clf =  GridSearchCV(mp['model'], mp['params'], cv=cv, return_train_score=False)\n",
    "    clf.fit(X,y)\n",
    "    scores.append({\n",
    "        'model': model_name,\n",
    "        'best_score': clf.best_score_,\n",
    "        'best_params': clf.best_params_\n",
    "    })\n",
    "    \n",
    "df = pd.DataFrame(scores,columns=['model','best_score','best_params'])\n",
    "df"
   ]
  },
  {
   "cell_type": "markdown",
   "id": "hL0mJps1GyTx",
   "metadata": {
    "id": "hL0mJps1GyTx"
   },
   "source": [
    "It was concluded that XGB_Classifier was giving us the best_score in the dataset"
   ]
  },
  {
   "cell_type": "markdown",
   "id": "McfvPlm5IV3m",
   "metadata": {
    "id": "McfvPlm5IV3m"
   },
   "source": [
    "## Selecting the model with best score for the dataset"
   ]
  },
  {
   "cell_type": "code",
   "execution_count": 66,
   "id": "29abd862",
   "metadata": {
    "colab": {
     "base_uri": "https://localhost:8080/"
    },
    "execution": {
     "iopub.execute_input": "2022-10-14T19:35:16.064374Z",
     "iopub.status.busy": "2022-10-14T19:35:16.063720Z",
     "iopub.status.idle": "2022-10-14T19:35:38.136795Z",
     "shell.execute_reply": "2022-10-14T19:35:38.135553Z"
    },
    "id": "29abd862",
    "outputId": "e156ff6f-8224-48da-d336-8ab5bd15ddff",
    "papermill": {
     "duration": 22.105083,
     "end_time": "2022-10-14T19:35:38.139315",
     "exception": false,
     "start_time": "2022-10-14T19:35:16.034232",
     "status": "completed"
    },
    "tags": []
   },
   "outputs": [
    {
     "data": {
      "text/html": [
       "<style>#sk-container-id-1 {color: black;background-color: white;}#sk-container-id-1 pre{padding: 0;}#sk-container-id-1 div.sk-toggleable {background-color: white;}#sk-container-id-1 label.sk-toggleable__label {cursor: pointer;display: block;width: 100%;margin-bottom: 0;padding: 0.3em;box-sizing: border-box;text-align: center;}#sk-container-id-1 label.sk-toggleable__label-arrow:before {content: \"▸\";float: left;margin-right: 0.25em;color: #696969;}#sk-container-id-1 label.sk-toggleable__label-arrow:hover:before {color: black;}#sk-container-id-1 div.sk-estimator:hover label.sk-toggleable__label-arrow:before {color: black;}#sk-container-id-1 div.sk-toggleable__content {max-height: 0;max-width: 0;overflow: hidden;text-align: left;background-color: #f0f8ff;}#sk-container-id-1 div.sk-toggleable__content pre {margin: 0.2em;color: black;border-radius: 0.25em;background-color: #f0f8ff;}#sk-container-id-1 input.sk-toggleable__control:checked~div.sk-toggleable__content {max-height: 200px;max-width: 100%;overflow: auto;}#sk-container-id-1 input.sk-toggleable__control:checked~label.sk-toggleable__label-arrow:before {content: \"▾\";}#sk-container-id-1 div.sk-estimator input.sk-toggleable__control:checked~label.sk-toggleable__label {background-color: #d4ebff;}#sk-container-id-1 div.sk-label input.sk-toggleable__control:checked~label.sk-toggleable__label {background-color: #d4ebff;}#sk-container-id-1 input.sk-hidden--visually {border: 0;clip: rect(1px 1px 1px 1px);clip: rect(1px, 1px, 1px, 1px);height: 1px;margin: -1px;overflow: hidden;padding: 0;position: absolute;width: 1px;}#sk-container-id-1 div.sk-estimator {font-family: monospace;background-color: #f0f8ff;border: 1px dotted black;border-radius: 0.25em;box-sizing: border-box;margin-bottom: 0.5em;}#sk-container-id-1 div.sk-estimator:hover {background-color: #d4ebff;}#sk-container-id-1 div.sk-parallel-item::after {content: \"\";width: 100%;border-bottom: 1px solid gray;flex-grow: 1;}#sk-container-id-1 div.sk-label:hover label.sk-toggleable__label {background-color: #d4ebff;}#sk-container-id-1 div.sk-serial::before {content: \"\";position: absolute;border-left: 1px solid gray;box-sizing: border-box;top: 0;bottom: 0;left: 50%;z-index: 0;}#sk-container-id-1 div.sk-serial {display: flex;flex-direction: column;align-items: center;background-color: white;padding-right: 0.2em;padding-left: 0.2em;position: relative;}#sk-container-id-1 div.sk-item {position: relative;z-index: 1;}#sk-container-id-1 div.sk-parallel {display: flex;align-items: stretch;justify-content: center;background-color: white;position: relative;}#sk-container-id-1 div.sk-item::before, #sk-container-id-1 div.sk-parallel-item::before {content: \"\";position: absolute;border-left: 1px solid gray;box-sizing: border-box;top: 0;bottom: 0;left: 50%;z-index: -1;}#sk-container-id-1 div.sk-parallel-item {display: flex;flex-direction: column;z-index: 1;position: relative;background-color: white;}#sk-container-id-1 div.sk-parallel-item:first-child::after {align-self: flex-end;width: 50%;}#sk-container-id-1 div.sk-parallel-item:last-child::after {align-self: flex-start;width: 50%;}#sk-container-id-1 div.sk-parallel-item:only-child::after {width: 0;}#sk-container-id-1 div.sk-dashed-wrapped {border: 1px dashed gray;margin: 0 0.4em 0.5em 0.4em;box-sizing: border-box;padding-bottom: 0.4em;background-color: white;}#sk-container-id-1 div.sk-label label {font-family: monospace;font-weight: bold;display: inline-block;line-height: 1.2em;}#sk-container-id-1 div.sk-label-container {text-align: center;}#sk-container-id-1 div.sk-container {/* jupyter's `normalize.less` sets `[hidden] { display: none; }` but bootstrap.min.css set `[hidden] { display: none !important; }` so we also need the `!important` here to be able to override the default hidden behavior on the sphinx rendered scikit-learn.org. See: https://github.com/scikit-learn/scikit-learn/issues/21755 */display: inline-block !important;position: relative;}#sk-container-id-1 div.sk-text-repr-fallback {display: none;}</style><div id=\"sk-container-id-1\" class=\"sk-top-container\"><div class=\"sk-text-repr-fallback\"><pre>XGBClassifier(base_score=None, booster=None, callbacks=None,\n",
       "              colsample_bylevel=None, colsample_bynode=None,\n",
       "              colsample_bytree=None, device=None, early_stopping_rounds=None,\n",
       "              enable_categorical=False, eval_metric=None, feature_types=None,\n",
       "              gamma=None, grow_policy=None, importance_type=None,\n",
       "              interaction_constraints=None, learning_rate=None, max_bin=None,\n",
       "              max_cat_threshold=None, max_cat_to_onehot=None,\n",
       "              max_delta_step=None, max_depth=None, max_leaves=None,\n",
       "              min_child_weight=None, missing=nan, monotone_constraints=None,\n",
       "              multi_strategy=None, n_estimators=None, n_jobs=None,\n",
       "              num_parallel_tree=None, objective=&#x27;multi:softprob&#x27;, ...)</pre><b>In a Jupyter environment, please rerun this cell to show the HTML representation or trust the notebook. <br />On GitHub, the HTML representation is unable to render, please try loading this page with nbviewer.org.</b></div><div class=\"sk-container\" hidden><div class=\"sk-item\"><div class=\"sk-estimator sk-toggleable\"><input class=\"sk-toggleable__control sk-hidden--visually\" id=\"sk-estimator-id-1\" type=\"checkbox\" checked><label for=\"sk-estimator-id-1\" class=\"sk-toggleable__label sk-toggleable__label-arrow\">XGBClassifier</label><div class=\"sk-toggleable__content\"><pre>XGBClassifier(base_score=None, booster=None, callbacks=None,\n",
       "              colsample_bylevel=None, colsample_bynode=None,\n",
       "              colsample_bytree=None, device=None, early_stopping_rounds=None,\n",
       "              enable_categorical=False, eval_metric=None, feature_types=None,\n",
       "              gamma=None, grow_policy=None, importance_type=None,\n",
       "              interaction_constraints=None, learning_rate=None, max_bin=None,\n",
       "              max_cat_threshold=None, max_cat_to_onehot=None,\n",
       "              max_delta_step=None, max_depth=None, max_leaves=None,\n",
       "              min_child_weight=None, missing=nan, monotone_constraints=None,\n",
       "              multi_strategy=None, n_estimators=None, n_jobs=None,\n",
       "              num_parallel_tree=None, objective=&#x27;multi:softprob&#x27;, ...)</pre></div></div></div></div></div>"
      ],
      "text/plain": [
       "XGBClassifier(base_score=None, booster=None, callbacks=None,\n",
       "              colsample_bylevel=None, colsample_bynode=None,\n",
       "              colsample_bytree=None, device=None, early_stopping_rounds=None,\n",
       "              enable_categorical=False, eval_metric=None, feature_types=None,\n",
       "              gamma=None, grow_policy=None, importance_type=None,\n",
       "              interaction_constraints=None, learning_rate=None, max_bin=None,\n",
       "              max_cat_threshold=None, max_cat_to_onehot=None,\n",
       "              max_delta_step=None, max_depth=None, max_leaves=None,\n",
       "              min_child_weight=None, missing=nan, monotone_constraints=None,\n",
       "              multi_strategy=None, n_estimators=None, n_jobs=None,\n",
       "              num_parallel_tree=None, objective='multi:softprob', ...)"
      ]
     },
     "execution_count": 66,
     "metadata": {},
     "output_type": "execute_result"
    }
   ],
   "source": [
    "reg=XGBClassifier()\n",
    "reg.fit(X_train, y_train)"
   ]
  },
  {
   "cell_type": "code",
   "execution_count": 67,
   "id": "9edbf70f",
   "metadata": {
    "colab": {
     "base_uri": "https://localhost:8080/"
    },
    "execution": {
     "iopub.execute_input": "2022-10-14T19:35:38.197651Z",
     "iopub.status.busy": "2022-10-14T19:35:38.196897Z",
     "iopub.status.idle": "2022-10-14T19:35:38.249919Z",
     "shell.execute_reply": "2022-10-14T19:35:38.248981Z"
    },
    "id": "9edbf70f",
    "outputId": "77557930-07b9-4733-ed9e-b65bfe6c0519",
    "papermill": {
     "duration": 0.084755,
     "end_time": "2022-10-14T19:35:38.252317",
     "exception": false,
     "start_time": "2022-10-14T19:35:38.167562",
     "status": "completed"
    },
    "tags": []
   },
   "outputs": [
    {
     "data": {
      "text/plain": [
       "0.826879271070615"
      ]
     },
     "execution_count": 67,
     "metadata": {},
     "output_type": "execute_result"
    }
   ],
   "source": [
    "reg.score(X_test, y_test)"
   ]
  },
  {
   "cell_type": "markdown",
   "id": "MvDFVhxyG66X",
   "metadata": {
    "id": "MvDFVhxyG66X"
   },
   "source": [
    "We got an accuracy of 82.68 percent in the testing dataset"
   ]
  },
  {
   "cell_type": "markdown",
   "id": "MyTMxLmBHIiA",
   "metadata": {
    "id": "MyTMxLmBHIiA"
   },
   "source": [
    "## Predicting values from the model build to check the accuracy"
   ]
  },
  {
   "cell_type": "code",
   "execution_count": 68,
   "id": "43553255",
   "metadata": {
    "colab": {
     "base_uri": "https://localhost:8080/"
    },
    "execution": {
     "iopub.execute_input": "2022-10-14T19:35:38.311974Z",
     "iopub.status.busy": "2022-10-14T19:35:38.310955Z",
     "iopub.status.idle": "2022-10-14T19:35:38.365092Z",
     "shell.execute_reply": "2022-10-14T19:35:38.364032Z"
    },
    "id": "43553255",
    "outputId": "d961c4f1-03d8-441d-f92e-44d9dde1e3c1",
    "papermill": {
     "duration": 0.085912,
     "end_time": "2022-10-14T19:35:38.367720",
     "exception": false,
     "start_time": "2022-10-14T19:35:38.281808",
     "status": "completed"
    },
    "tags": []
   },
   "outputs": [
    {
     "data": {
      "text/plain": [
       "array([2, 0, 1, 0, 0], dtype=int64)"
      ]
     },
     "execution_count": 68,
     "metadata": {},
     "output_type": "execute_result"
    }
   ],
   "source": [
    "y_predicted = reg.predict(X_test)\n",
    "y_predicted[:5]"
   ]
  },
  {
   "cell_type": "markdown",
   "id": "0nUD9CLuHVg3",
   "metadata": {
    "id": "0nUD9CLuHVg3"
   },
   "source": [
    "## Verifying the actual values with the predicted values"
   ]
  },
  {
   "cell_type": "code",
   "execution_count": 69,
   "id": "43cc1a7f",
   "metadata": {
    "colab": {
     "base_uri": "https://localhost:8080/"
    },
    "execution": {
     "iopub.execute_input": "2022-10-14T19:35:38.427038Z",
     "iopub.status.busy": "2022-10-14T19:35:38.426628Z",
     "iopub.status.idle": "2022-10-14T19:35:38.434411Z",
     "shell.execute_reply": "2022-10-14T19:35:38.433293Z"
    },
    "id": "43cc1a7f",
    "outputId": "d9b85767-5f90-4c53-d62e-bb2d8994e716",
    "papermill": {
     "duration": 0.039167,
     "end_time": "2022-10-14T19:35:38.436615",
     "exception": false,
     "start_time": "2022-10-14T19:35:38.397448",
     "status": "completed"
    },
    "tags": []
   },
   "outputs": [
    {
     "data": {
      "text/plain": [
       "525     2\n",
       "3086    0\n",
       "2231    1\n",
       "5041    0\n",
       "4165    0\n",
       "Name: Customer_Status, dtype: int32"
      ]
     },
     "execution_count": 69,
     "metadata": {},
     "output_type": "execute_result"
    }
   ],
   "source": [
    "y_test[:5]"
   ]
  },
  {
   "cell_type": "markdown",
   "id": "FXkUU_hxHeqZ",
   "metadata": {
    "id": "FXkUU_hxHeqZ"
   },
   "source": [
    "## Importing Confusion Matrx "
   ]
  },
  {
   "cell_type": "code",
   "execution_count": 70,
   "id": "e3ca6632",
   "metadata": {
    "colab": {
     "base_uri": "https://localhost:8080/",
     "height": 459
    },
    "execution": {
     "iopub.execute_input": "2022-10-14T19:35:38.495193Z",
     "iopub.status.busy": "2022-10-14T19:35:38.494077Z",
     "iopub.status.idle": "2022-10-14T19:35:38.767162Z",
     "shell.execute_reply": "2022-10-14T19:35:38.766004Z"
    },
    "id": "e3ca6632",
    "outputId": "521eb77b-27cc-436f-95c9-3e4dc1de59b7",
    "papermill": {
     "duration": 0.304741,
     "end_time": "2022-10-14T19:35:38.769684",
     "exception": false,
     "start_time": "2022-10-14T19:35:38.464943",
     "status": "completed"
    },
    "tags": []
   },
   "outputs": [
    {
     "data": {
      "text/plain": [
       "Text(95.72222222222221, 0.5, 'Truth')"
      ]
     },
     "execution_count": 70,
     "metadata": {},
     "output_type": "execute_result"
    },
    {
     "data": {
      "image/png": "[encoded data removed]",
      "text/plain": [
       "<Figure size 1000x700 with 2 Axes>"
      ]
     },
     "metadata": {},
     "output_type": "display_data"
    }
   ],
   "source": [
    "import seaborn as sn\n",
    "from sklearn.metrics import confusion_matrix\n",
    "cm = confusion_matrix(y_test, y_predicted)\n",
    "plt.figure(figsize = (10,7))\n",
    "sn.heatmap(cm, annot=True)\n",
    "plt.xlabel('Predicted')\n",
    "plt.ylabel('Truth')"
   ]
  },
  {
   "cell_type": "markdown",
   "id": "tmc4I2FtHtXX",
   "metadata": {
    "id": "tmc4I2FtHtXX"
   },
   "source": [
    "## Importing Classification Report"
   ]
  },
  {
   "cell_type": "code",
   "execution_count": 71,
   "id": "sp7uiY5R9f0p",
   "metadata": {
    "id": "sp7uiY5R9f0p"
   },
   "outputs": [],
   "source": [
    "from sklearn.metrics import classification_report"
   ]
  },
  {
   "cell_type": "code",
   "execution_count": 72,
   "id": "d0121c0a",
   "metadata": {
    "colab": {
     "base_uri": "https://localhost:8080/"
    },
    "execution": {
     "iopub.execute_input": "2022-10-14T19:35:38.830719Z",
     "iopub.status.busy": "2022-10-14T19:35:38.830328Z",
     "iopub.status.idle": "2022-10-14T19:35:38.840948Z",
     "shell.execute_reply": "2022-10-14T19:35:38.840122Z"
    },
    "id": "d0121c0a",
    "outputId": "cff521af-0d36-4d0c-c766-ca5dea7aa641",
    "papermill": {
     "duration": 0.044937,
     "end_time": "2022-10-14T19:35:38.843724",
     "exception": false,
     "start_time": "2022-10-14T19:35:38.798787",
     "status": "completed"
    },
    "tags": []
   },
   "outputs": [
    {
     "name": "stdout",
     "output_type": "stream",
     "text": [
      "              precision    recall  f1-score   support\n",
      "\n",
      "           0       0.76      0.69      0.72       143\n",
      "           1       0.70      0.50      0.58        14\n",
      "           2       0.86      0.91      0.89       282\n",
      "\n",
      "    accuracy                           0.83       439\n",
      "   macro avg       0.77      0.70      0.73       439\n",
      "weighted avg       0.82      0.83      0.82       439\n",
      "\n"
     ]
    }
   ],
   "source": [
    "print(classification_report(y_test, y_predicted))"
   ]
  },
  {
   "cell_type": "code",
   "execution_count": 73,
   "id": "8d42cd4a",
   "metadata": {
    "colab": {
     "base_uri": "https://localhost:8080/"
    },
    "execution": {
     "iopub.execute_input": "2022-10-14T19:35:38.906087Z",
     "iopub.status.busy": "2022-10-14T19:35:38.905708Z",
     "iopub.status.idle": "2022-10-14T19:35:38.912908Z",
     "shell.execute_reply": "2022-10-14T19:35:38.912095Z"
    },
    "id": "8d42cd4a",
    "outputId": "17643df6-003c-48a0-c39e-ffcfbbd28e62",
    "papermill": {
     "duration": 0.040926,
     "end_time": "2022-10-14T19:35:38.914964",
     "exception": false,
     "start_time": "2022-10-14T19:35:38.874038",
     "status": "completed"
    },
    "tags": []
   },
   "outputs": [
    {
     "data": {
      "text/plain": [
       "0.826879271070615"
      ]
     },
     "execution_count": 73,
     "metadata": {},
     "output_type": "execute_result"
    }
   ],
   "source": [
    "from sklearn.metrics import accuracy_score\n",
    "accuracy_score(y_test, y_predicted)"
   ]
  },
  {
   "cell_type": "markdown",
   "id": "DL9Fdk6BH0S2",
   "metadata": {
    "id": "DL9Fdk6BH0S2"
   },
   "source": [
    "In the end we conclude that the Telecom Customer Churn Prediction was best worked with XGB_Classifier with an accuracy score of 82.68%"
   ]
  }
 ],
 "metadata": {
  "colab": {
   "provenance": [],
   "toc_visible": true
  },
  "kernelspec": {
   "display_name": "base",
   "language": "python",
   "name": "python3"
  },
  "language_info": {
   "codemirror_mode": {
    "name": "ipython",
    "version": 3
   },
   "file_extension": ".py",
   "mimetype": "text/x-python",
   "name": "python",
   "nbconvert_exporter": "python",
   "pygments_lexer": "ipython3",
   "version": "3.11.7"
  },
  "papermill": {
   "default_parameters": {},
   "duration": 505.601322,
   "end_time": "2022-10-14T19:35:40.068671",
   "environment_variables": {},
   "exception": null,
   "input_path": "__notebook__.ipynb",
   "output_path": "__notebook__.ipynb",
   "parameters": {},
   "start_time": "2022-10-14T19:27:14.467349",
   "version": "2.3.4"
  }
 },
 "nbformat": 4,
 "nbformat_minor": 5
}
